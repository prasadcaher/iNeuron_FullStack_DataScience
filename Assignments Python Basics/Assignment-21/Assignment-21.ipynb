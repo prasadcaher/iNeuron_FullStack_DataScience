{
 "cells": [
  {
   "cell_type": "markdown",
   "metadata": {},
   "source": [
    "<h1 style='text-align:center'>Python Basics : Assignment - 21</h1>\n",
    "\n",
    "<h3 style='text-align:center'> Submitted by Prasad Aher </h3>\n",
    "<br>"
   ]
  },
  {
   "cell_type": "markdown",
   "metadata": {},
   "source": [
    "### Question 1 : Add the current date to the text file today.txt as a string."
   ]
  },
  {
   "cell_type": "code",
   "execution_count": 13,
   "metadata": {},
   "outputs": [],
   "source": [
    "# Answer : \n",
    "from datetime import date, datetime\n",
    "\n",
    "date = date.today().isoformat()\n",
    "\n",
    "with open ('today.txt', 'wt') as f:\n",
    "    f.write(date)\n"
   ]
  },
  {
   "cell_type": "markdown",
   "metadata": {},
   "source": [
    "### Question 2 : Read the text file today.txt into the string today_string"
   ]
  },
  {
   "cell_type": "code",
   "execution_count": 14,
   "metadata": {},
   "outputs": [],
   "source": [
    "# Answer : \n",
    "with open ('today.txt', 'r') as f:\n",
    "    today_string = f.read()\n"
   ]
  },
  {
   "cell_type": "markdown",
   "metadata": {},
   "source": [
    "### Question 3 : Parse the date from today_string."
   ]
  },
  {
   "cell_type": "code",
   "execution_count": 22,
   "metadata": {},
   "outputs": [
    {
     "data": {
      "text/plain": [
       "datetime.datetime(2021, 6, 11, 0, 0)"
      ]
     },
     "execution_count": 22,
     "metadata": {},
     "output_type": "execute_result"
    }
   ],
   "source": [
    "# Answer :\n",
    "datetime.strptime(today_string, '%Y-%m-%d')"
   ]
  },
  {
   "cell_type": "markdown",
   "metadata": {},
   "source": [
    "### Question 4 : List the files in your current directory"
   ]
  },
  {
   "cell_type": "code",
   "execution_count": 25,
   "metadata": {},
   "outputs": [
    {
     "data": {
      "text/plain": [
       "['.ipynb_checkpoints',\n",
       " 'Assignment-21.ipynb',\n",
       " 'Assignment_21.docx',\n",
       " 'Assignment_22.docx',\n",
       " 'Assignment_23.docx',\n",
       " 'Assignment_24.docx',\n",
       " 'Assignment_25.docx',\n",
       " 'Automate_the_Boring_Stuff_2e_onlinematerials',\n",
       " 'Automate_the_Boring_Stuff_2e_onlinematerials.zip',\n",
       " 'demo.docx',\n",
       " 'Rough_work.ipynb',\n",
       " 'submitted',\n",
       " 'today.txt',\n",
       " 'two.txt',\n",
       " '__pycache__',\n",
       " '~$signment_21.docx']"
      ]
     },
     "execution_count": 25,
     "metadata": {},
     "output_type": "execute_result"
    }
   ],
   "source": [
    "# Answer : \n",
    "import os\n",
    "os.listdir()"
   ]
  },
  {
   "cell_type": "markdown",
   "metadata": {},
   "source": [
    "### Question 5 : Create a list of all of the files in your parent directory (minimum five files should be available)."
   ]
  },
  {
   "cell_type": "code",
   "execution_count": 30,
   "metadata": {},
   "outputs": [
    {
     "name": "stdout",
     "output_type": "stream",
     "text": [
      "['.ipynb_checkpoints', 'Assignment-21.ipynb', 'Assignment_21.docx', 'Assignment_22.docx', 'Assignment_23.docx', 'Assignment_24.docx', 'Assignment_25.docx', 'Automate_the_Boring_Stuff_2e_onlinematerials', 'Automate_the_Boring_Stuff_2e_onlinematerials.zip', 'demo.docx', 'Rough_work.ipynb', 'submitted', 'today.txt', 'two.txt', '__pycache__', '~$signment_21.docx']\n"
     ]
    }
   ],
   "source": [
    "# Answer:\n",
    "list_files = os.listdir()\n",
    "print(list_files)"
   ]
  },
  {
   "cell_type": "markdown",
   "metadata": {},
   "source": [
    "### Question 6 : Use multiprocessing to create three separate processes. Make each one wait a random number of seconds between one and five, print the current time, and then exit."
   ]
  },
  {
   "cell_type": "code",
   "execution_count": 59,
   "metadata": {},
   "outputs": [],
   "source": [
    "# Answer:\n",
    "import multiprocessing\n",
    "import random\n",
    "from datetime import datetime\n",
    "from time import sleep\n",
    "\n",
    "def time_check(seconds):\n",
    "    sleep(seconds)\n",
    "    print(f\"Wait: {seconds} seconds, Current Time : {datetime.utcnow()}\")\n",
    "\n",
    "\n",
    "if __name__ == '__main__':\n",
    "    for i in range(3):\n",
    "        seconds = random.randrange(1,5)\n",
    "        process = multiprocessing.Process(target=time_check, args=(seconds,))\n",
    "        process.start()\n",
    "\n"
   ]
  },
  {
   "cell_type": "markdown",
   "metadata": {},
   "source": [
    "### Question 7 : Create a date object of your day of birth."
   ]
  },
  {
   "cell_type": "code",
   "execution_count": 60,
   "metadata": {},
   "outputs": [
    {
     "data": {
      "text/plain": [
       "datetime.date(1986, 1, 3)"
      ]
     },
     "execution_count": 60,
     "metadata": {},
     "output_type": "execute_result"
    }
   ],
   "source": [
    "from datetime import date\n",
    "\n",
    "dob = date(1986, 1, 3)\n",
    "dob"
   ]
  },
  {
   "cell_type": "markdown",
   "metadata": {},
   "source": [
    "### Question 8 : What day of the week was your day of birth?"
   ]
  },
  {
   "cell_type": "code",
   "execution_count": 62,
   "metadata": {},
   "outputs": [
    {
     "name": "stdout",
     "output_type": "stream",
     "text": [
      "5\n",
      "4\n"
     ]
    }
   ],
   "source": [
    "# Answer : \n",
    "print(dob.isoweekday()) # Here Monday is 1st day of week\n",
    "print(dob.weekday()) # Here Monday is 0 day of week "
   ]
  },
  {
   "cell_type": "markdown",
   "metadata": {},
   "source": [
    "### Question 9 : When will you be (or when were you) 10,000 days old?"
   ]
  },
  {
   "cell_type": "code",
   "execution_count": 64,
   "metadata": {},
   "outputs": [
    {
     "data": {
      "text/plain": [
       "datetime.date(2013, 5, 21)"
      ]
     },
     "execution_count": 64,
     "metadata": {},
     "output_type": "execute_result"
    }
   ],
   "source": [
    "from datetime import timedelta\n",
    "\n",
    "day_check = dob + timedelta(days=10000)\n",
    "day_check"
   ]
  }
 ],
 "metadata": {
  "kernelspec": {
   "display_name": "Python 3",
   "language": "python",
   "name": "python3"
  },
  "language_info": {
   "codemirror_mode": {
    "name": "ipython",
    "version": 3
   },
   "file_extension": ".py",
   "mimetype": "text/x-python",
   "name": "python",
   "nbconvert_exporter": "python",
   "pygments_lexer": "ipython3",
   "version": "3.8.5"
  }
 },
 "nbformat": 4,
 "nbformat_minor": 5
}
