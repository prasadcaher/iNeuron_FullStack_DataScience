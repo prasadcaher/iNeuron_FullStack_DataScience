{
 "cells": [
  {
   "cell_type": "markdown",
   "id": "employed-circus",
   "metadata": {},
   "source": [
    "# Python Basics : Assignment - 5\n",
    "## Submitted by Prasad Aher"
   ]
  },
  {
   "cell_type": "markdown",
   "id": "quick-tenant",
   "metadata": {},
   "source": [
    "### Question 1: What does an empty dictionary's code look like?"
   ]
  },
  {
   "cell_type": "code",
   "execution_count": 1,
   "id": "affiliated-favor",
   "metadata": {},
   "outputs": [],
   "source": [
    "#  Answer : \n",
    "empty_dictionary = {}"
   ]
  },
  {
   "cell_type": "markdown",
   "id": "portable-title",
   "metadata": {},
   "source": [
    "### Question 2: What is the value of a dictionary value with the key 'foo' and the value 42?"
   ]
  },
  {
   "cell_type": "code",
   "execution_count": 2,
   "id": "amber-permit",
   "metadata": {},
   "outputs": [],
   "source": [
    "d1 = {'foo': 42}\n",
    "# here 'foo' is key and 42 is value"
   ]
  },
  {
   "cell_type": "markdown",
   "id": "oriented-tokyo",
   "metadata": {},
   "source": [
    "### Question 3: What is the most significant distinction between a dictionary and a list? "
   ]
  },
  {
   "cell_type": "code",
   "execution_count": 3,
   "id": "demanding-reality",
   "metadata": {},
   "outputs": [
    {
     "data": {
      "text/plain": [
       "'\\nThe dictionary consist of Key and Value Pairs, whereas List contain ordered collection of values.\\n\\n'"
      ]
     },
     "execution_count": 3,
     "metadata": {},
     "output_type": "execute_result"
    }
   ],
   "source": [
    "# Answer:\n",
    "'''\n",
    "The dictionary consist of Key and Value Pairs, whereas List contain ordered collection of values.\n",
    "\n",
    "'''"
   ]
  },
  {
   "cell_type": "markdown",
   "id": "bored-access",
   "metadata": {},
   "source": [
    "### Question 4: What happens if you try to access spam['foo'] if spam is {'bar': 100}?"
   ]
  },
  {
   "cell_type": "code",
   "execution_count": 4,
   "id": "dimensional-sperm",
   "metadata": {},
   "outputs": [
    {
     "ename": "KeyError",
     "evalue": "'foo'",
     "output_type": "error",
     "traceback": [
      "\u001b[1;31m---------------------------------------------------------------------------\u001b[0m",
      "\u001b[1;31mKeyError\u001b[0m                                  Traceback (most recent call last)",
      "\u001b[1;32m<ipython-input-4-28cb9396e039>\u001b[0m in \u001b[0;36m<module>\u001b[1;34m\u001b[0m\n\u001b[0;32m      1\u001b[0m \u001b[0mspam\u001b[0m \u001b[1;33m=\u001b[0m \u001b[1;33m{\u001b[0m\u001b[1;34m'bar'\u001b[0m\u001b[1;33m:\u001b[0m \u001b[1;36m100\u001b[0m\u001b[1;33m}\u001b[0m\u001b[1;33m\u001b[0m\u001b[1;33m\u001b[0m\u001b[0m\n\u001b[1;32m----> 2\u001b[1;33m \u001b[0mspam\u001b[0m\u001b[1;33m[\u001b[0m\u001b[1;34m'foo'\u001b[0m\u001b[1;33m]\u001b[0m \u001b[1;31m# will give KeyError\u001b[0m\u001b[1;33m\u001b[0m\u001b[1;33m\u001b[0m\u001b[0m\n\u001b[0m",
      "\u001b[1;31mKeyError\u001b[0m: 'foo'"
     ]
    }
   ],
   "source": [
    "spam = {'bar': 100}\n",
    "spam['foo'] # will give KeyError"
   ]
  },
  {
   "cell_type": "markdown",
   "id": "super-administrator",
   "metadata": {},
   "source": [
    "### Question 5: If a dictionary is stored in spam, what is the difference between the expressions 'cat' in spam and 'cat' in spam.keys()?"
   ]
  },
  {
   "cell_type": "code",
   "execution_count": 5,
   "id": "apparent-count",
   "metadata": {},
   "outputs": [
    {
     "data": {
      "text/plain": [
       "\"\\nspam['cat'] will return the value of key 'cat'\\nand \\nspam.keys() will return a list of keys in spam dictionary\\n\""
      ]
     },
     "execution_count": 5,
     "metadata": {},
     "output_type": "execute_result"
    }
   ],
   "source": [
    "# Answer: Both will check for the key\n",
    "\"\"\"\n",
    "spam['cat'] will return the value of key 'cat'\n",
    "and \n",
    "spam.keys() will return a list of keys in spam dictionary\n",
    "\"\"\""
   ]
  },
  {
   "cell_type": "markdown",
   "id": "plain-microphone",
   "metadata": {},
   "source": [
    "### Question 6: If a dictionary is stored in spam, what is the difference between the expressions 'cat' in spam and 'cat' in spam.values()?"
   ]
  },
  {
   "cell_type": "code",
   "execution_count": 6,
   "id": "related-opposition",
   "metadata": {},
   "outputs": [
    {
     "data": {
      "text/plain": [
       "\"\\n'cat' in spam will check if key 'cat' is present in the dictionary,\\nwhile 'cat' in spam.values() will check whether there is a value 'cat' for one of the keys in spam.\\n\""
      ]
     },
     "execution_count": 6,
     "metadata": {},
     "output_type": "execute_result"
    }
   ],
   "source": [
    "\"\"\"\n",
    "'cat' in spam will check if key 'cat' is present in the dictionary,\n",
    "while 'cat' in spam.values() will check whether there is a value 'cat' for one of the keys in spam.\n",
    "\"\"\""
   ]
  },
  {
   "cell_type": "markdown",
   "id": "grand-finland",
   "metadata": {},
   "source": [
    "### Question 7: What is a shortcut for the following code?\n",
    "### if 'color' not in spam: \n",
    "### spam['color'] = 'black'\n"
   ]
  },
  {
   "cell_type": "code",
   "execution_count": 7,
   "id": "competitive-monster",
   "metadata": {},
   "outputs": [
    {
     "data": {
      "text/plain": [
       "'black'"
      ]
     },
     "execution_count": 7,
     "metadata": {},
     "output_type": "execute_result"
    }
   ],
   "source": [
    "spam.setdefault('color', 'black')"
   ]
  },
  {
   "cell_type": "markdown",
   "id": "compatible-northern",
   "metadata": {},
   "source": [
    "### Question 8: How do you \"pretty print\" dictionary values using which module and function?"
   ]
  },
  {
   "cell_type": "code",
   "execution_count": 8,
   "id": "compressed-nursing",
   "metadata": {},
   "outputs": [
    {
     "name": "stdout",
     "output_type": "stream",
     "text": [
      "{'bar': 100, 'color': 'black'}\n"
     ]
    }
   ],
   "source": [
    "import pprint\n",
    "pprint.pprint(spam)"
   ]
  }
 ],
 "metadata": {
  "kernelspec": {
   "display_name": "Python 3",
   "language": "python",
   "name": "python3"
  },
  "language_info": {
   "codemirror_mode": {
    "name": "ipython",
    "version": 3
   },
   "file_extension": ".py",
   "mimetype": "text/x-python",
   "name": "python",
   "nbconvert_exporter": "python",
   "pygments_lexer": "ipython3",
   "version": "3.9.2"
  }
 },
 "nbformat": 4,
 "nbformat_minor": 5
}
