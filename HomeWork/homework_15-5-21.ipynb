{
 "cells": [
  {
   "cell_type": "code",
   "execution_count": 1,
   "id": "informal-hydrogen",
   "metadata": {},
   "outputs": [
    {
     "name": "stdout",
     "output_type": "stream",
     "text": [
      "True\n",
      "Database Created!!\n",
      "Table Created!!\n",
      "Values updated !!\n"
     ]
    }
   ],
   "source": [
    "import mysql.connector as connection\n",
    "import re\n",
    "import csv\n",
    "\n",
    "try:\n",
    "    mydb = connection.connect(host=\"localhost\", user=\"root\", passwd=\"mysql\",use_pure=True)\n",
    "    #check if the connection is established\n",
    "    print(mydb.is_connected())\n",
    "    #create a new database\n",
    "    query = \"Create database Carbon_Nano;\"\n",
    "    cursor = mydb.cursor() #create a cursor to execute queries\n",
    "    cursor.execute(query)\n",
    "    print(\"Database Created!!\")\n",
    "    mydb.close() #close the connection\n",
    "\n",
    "    #Establish a new connection to the database created above\n",
    "    mydb = connection.connect(host=\"localhost\", database = 'Carbon_Nano',user=\"root\", passwd=\"mysql\", use_pure=True)\n",
    "\n",
    "    #create a new table to store glass data\n",
    "    \n",
    "    query = \"CREATE TABLE IF NOT EXISTS table1(Chiral_indice_n VARCHAR(36), Chiral_indice_m VARCHAR(36), Initial_atomic_coordinate_u VARCHAR(36),\"\\\n",
    "            \"Initial_atomic_coordinate_v VARCHAR(36), Initial_atomic_coordinate_w VARCHAR(36), Calculated_atomic_coordinates_u VARCHAR(36),\"\\\n",
    "            \"Calculated_atomic_coordinates_v VARCHAR(36),\"\\\n",
    "            \"Calculated_atomic_coordinates_w VARCHAR(36))\"\n",
    "    values = \"%s,%s,%s,%s,%s,%s,%s,%s\"\n",
    "    cursor = mydb.cursor()  # create a cursor to execute queries\n",
    "    cursor.executemany(query, values)\n",
    "    print(\"Table Created!!\")\n",
    "    \n",
    "    \n",
    "    with open('carbon_nanotubes.csv') as f:\n",
    "        df = csv.reader(f, delimiter=\";\")\n",
    "        all_values = []\n",
    "        for i in df:\n",
    "            value = (i[0],i[1],i[2],i[3],i[4],i[5],i[6],i[7],)\n",
    "            all_values.append(value)\n",
    "\n",
    "    query = \"INSERT INTO table1 values(%s,%s,%s,%s,%s,%s,%s,%s)\" \n",
    "    \n",
    "    cursor.executemany(query, all_values)\n",
    "    print(\"Values updated !!\")\n",
    "    mydb.commit()\n",
    "    cursor.close()\n",
    "    mydb.close()\n",
    "\n",
    "except Exception as e:\n",
    "    #mydb.close()\n",
    "    print(str(e))"
   ]
  }
 ],
 "metadata": {
  "kernelspec": {
   "display_name": "Python 3",
   "language": "python",
   "name": "python3"
  },
  "language_info": {
   "codemirror_mode": {
    "name": "ipython",
    "version": 3
   },
   "file_extension": ".py",
   "mimetype": "text/x-python",
   "name": "python",
   "nbconvert_exporter": "python",
   "pygments_lexer": "ipython3",
   "version": "3.9.2"
  }
 },
 "nbformat": 4,
 "nbformat_minor": 5
}
