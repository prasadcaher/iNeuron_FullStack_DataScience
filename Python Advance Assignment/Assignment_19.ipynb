{
 "cells": [
  {
   "cell_type": "markdown",
   "id": "cc53963e",
   "metadata": {},
   "source": [
    "# Python Advance: Assignment 19"
   ]
  },
  {
   "cell_type": "markdown",
   "id": "20fe32ca",
   "metadata": {},
   "source": [
    "#### Q1. Define the relationship between a class and its instances. Is it a one-to-one or a one-to-many partnership, for example?\n",
    "**Ans:**\n",
    "\n",
    "***Class = Bluprint for creating new objects***\n",
    "\n",
    "***Object = instance of a class***\n",
    "\n",
    "Relationship between a class and its instances is a one to many partnership."
   ]
  },
  {
   "cell_type": "code",
   "execution_count": 1,
   "id": "e47b2a8b",
   "metadata": {},
   "outputs": [
    {
     "name": "stdout",
     "output_type": "stream",
     "text": [
      "Point(1, 2)\n",
      "Default colour of point_1 is: Red\n",
      "Default colour of Point class is: {Point.default_colour}\n",
      "Default colour of Point class now is: Yellow\n",
      "Default colour of point_2 is: Yellow\n",
      "Point(3, 4)\n"
     ]
    }
   ],
   "source": [
    "class Point:\n",
    "    # (default_colour)-Class attributes are shared through all instances of a class\n",
    "    default_colour = \"Red\"\n",
    "\n",
    "    def __init__(self, x, y):\n",
    "        self.X = x  # X,Y are instance attributes\n",
    "        self.Y = y  # As objects in python are dynamic, We needn't to define all the attributes in the constructor\n",
    "\n",
    "    def draw(self):\n",
    "        print(f\"Point({self.X}, {self.Y})\")\n",
    "\n",
    "\n",
    "point_1 = Point(1, 2)\n",
    "point_1.draw()\n",
    "print(f'Default colour of point_1 is: {point_1.default_colour}')\n",
    "print('Default colour of Point class is: {Point.default_colour}')\n",
    "Point.default_colour = \"Yellow\"\n",
    "print(f'Default colour of Point class now is: {Point.default_colour}')\n",
    "point_2 = Point(3, 4)\n",
    "print(f'Default colour of point_2 is: {point_2.default_colour}')\n",
    "point_2.draw()\n",
    "# point_1 & point_2 are instances of class Point"
   ]
  },
  {
   "cell_type": "markdown",
   "id": "a3998f76",
   "metadata": {},
   "source": [
    "#### Q2. What kind of data is held only in an instance?\n",
    "**Ans:** Instance objects contains the Instance variables which are specific to that specific Instance object."
   ]
  },
  {
   "cell_type": "markdown",
   "id": "3bc4acfe",
   "metadata": {},
   "source": [
    "#### Q3. What kind of knowledge is stored in a class?\n",
    "**Ans:** Class creates a user-defined data structure, which holds its own data members and member functions, which can be accessed and used by creating an instance of that class. A class is like a blueprint for an object."
   ]
  },
  {
   "cell_type": "markdown",
   "id": "d6c2ef9c",
   "metadata": {},
   "source": [
    "#### Q4. What exactly is a method, and how is it different from a regular function?\n",
    "**Ans:** The methods with a class can be used to access the insatnce variables of its instance. So,the object's state can be modified by its method. Function can't access the attributes of an instance of a class or can't modify the state of the object."
   ]
  },
  {
   "cell_type": "code",
   "execution_count": 2,
   "id": "ac05812b",
   "metadata": {},
   "outputs": [
    {
     "name": "stdout",
     "output_type": "stream",
     "text": [
      "Point(0, 0)\n"
     ]
    }
   ],
   "source": [
    "class Point:\n",
    "    def __init__(self, x, y):\n",
    "        self.x = x\n",
    "        self.y = y\n",
    "# Class Method\n",
    "\n",
    "    @classmethod  # Decorator\n",
    "    def zero(cls):\n",
    "        return cls(0, 0)\n",
    "\n",
    "    def draw(self):\n",
    "        print(f\"Point({self.x}, {self.y})\")\n",
    "\n",
    "\n",
    "point = Point.zero()\n",
    "point.draw()"
   ]
  },
  {
   "cell_type": "markdown",
   "id": "471e1689",
   "metadata": {},
   "source": [
    "#### Q5. Is inheritance supported in Python, and if so, what is the syntax?\n",
    "**Ans:** Yes,Python supports inheritance. The Types of Inheritence Supported by Python are:\n",
    "1. Simple Inheritence\n",
    "2. Multiple Inheritence\n",
    "3. Multilevel lInheritence\n",
    "4. Hybrid Inheritence\n",
    "5. Hierracial Inheritence"
   ]
  },
  {
   "cell_type": "code",
   "execution_count": 3,
   "id": "63b31180",
   "metadata": {},
   "outputs": [],
   "source": [
    "class Person:\n",
    "    def __init__(self, fname, lname):\n",
    "        self.first_name = fname\n",
    "        self.last_name = lname\n",
    "class Student(Person):\n",
    "    pass"
   ]
  },
  {
   "cell_type": "markdown",
   "id": "1f2a9517",
   "metadata": {},
   "source": [
    "#### Q6. How much encapsulation (making instance or class variables private) does Python support?\n",
    "**Ans:** Encapsulation describes the idea of wrapping data and the methods that work on data within one unit. This puts restrictions on accessing variables and methods directly and can prevent the accidental modification of data. To prevent accidental change, an objects variable can only be changed by an objects method."
   ]
  },
  {
   "cell_type": "markdown",
   "id": "c0de33d4",
   "metadata": {},
   "source": [
    "#### Q7. How do you distinguish between a class variable and an instance variable?\n",
    "**Ans:** The **`Class Attribute`** is available to all the instance objects of that class. whereas **`Instance Attributes`** are accessible only to the object or Instance of that class. \n",
    "\n",
    "A single copy of Class attributes is maintained by pvm at the class level. Whereas difference copies of instance attributes are maintained by pvm at objects/instance level.\n",
    "\n",
    "`for example refer to code mentioned in answer 1`"
   ]
  },
  {
   "cell_type": "markdown",
   "id": "65768276",
   "metadata": {},
   "source": [
    "#### Q8. When, if ever, can self be included in a class's method definitions?\n",
    "**Ans:** Yes, self can included in class method definations to access the instance variables inside class methods."
   ]
  },
  {
   "cell_type": "markdown",
   "id": "ae7c6bbf",
   "metadata": {},
   "source": [
    "#### Q9. What is the difference between the **`__add__`** and the **`__radd__`** methods ?\n",
    "**Ans:** Entering **`__radd__`** Python will first try **`__add__()`**, and if that returns Not Implemented Python will check if the right-hand operand implements **`__radd__`**, and if it does, it will call **`__radd__()`** rather than raising a **`TypeError`**"
   ]
  },
  {
   "cell_type": "markdown",
   "id": "5eae7542",
   "metadata": {},
   "source": [
    "#### Q10. When is it necessary to use a reflection method? When do you not need it, even though you support the operation in question?\n",
    "**Ans:** Reflection method we often encounter the requirement that a method in the executing object, or a variable in the calling object, or a field of the object should be assigned, while the method name or field name can not be determined when encoding the code, and need to be input in the form of passing strings through parameters."
   ]
  },
  {
   "cell_type": "markdown",
   "id": "98aac547",
   "metadata": {},
   "source": [
    "#### Q11. What is the `__iadd__` method called?\n",
    "**Ans:** **`__iadd__`** method is called when we use implementation like a+=b which is **`a.__iadd__(b)`**"
   ]
  },
  {
   "cell_type": "markdown",
   "id": "f6c3908c",
   "metadata": {},
   "source": [
    "#### Q12. Is the `_ _init_ _` method inherited by subclasses? What do you do if you need to customize its behavior within a subclass ?\n",
    "**Ans:** Yes, **`__init__`** method will be inherited by subclasses. if we want to customize its behaviour within a subclass we can use **`super()`** method."
   ]
  }
 ],
 "metadata": {
  "kernelspec": {
   "display_name": "Python 3 (ipykernel)",
   "language": "python",
   "name": "python3"
  },
  "language_info": {
   "codemirror_mode": {
    "name": "ipython",
    "version": 3
   },
   "file_extension": ".py",
   "mimetype": "text/x-python",
   "name": "python",
   "nbconvert_exporter": "python",
   "pygments_lexer": "ipython3",
   "version": "3.9.7"
  }
 },
 "nbformat": 4,
 "nbformat_minor": 5
}
