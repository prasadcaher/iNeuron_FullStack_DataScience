{
  "cells": [
    {
      "cell_type": "markdown",
      "id": "53f9dc1f",
      "metadata": {
        "id": "53f9dc1f"
      },
      "source": [
        "# Python Advance Programming Assignment 2\n",
        "## Submitted by Prasad Aher"
      ]
    },
    {
      "cell_type": "markdown",
      "id": "b577a717",
      "metadata": {
        "id": "b577a717"
      },
      "source": [
        "### 1. Write a function that takes a positive integer num and calculates how many dots exist in a pentagonal shape around the center dot on the Nth iteration.\n",
        "\n",
        "In the image below you can see the first iteration is only a single dot. On the second, there are 6 dots. On the third, there are 16 dots, and on the fourth there are 31 dots.\n",
        "\n",
        "Return the number of dots that exist in the whole pentagon on the Nth iteration.\n",
        "\n",
        "Examples\n",
        "\n",
        "pentagonal(1) ➞ 1\n",
        "\n",
        "pentagonal(2) ➞ 6\n",
        "\n",
        "pentagonal(3) ➞ 16\n",
        "\n",
        "pentagonal(8) ➞ 141\n"
      ]
    },
    {
      "cell_type": "code",
      "execution_count": null,
      "id": "18b36565",
      "metadata": {
        "colab": {
          "base_uri": "https://localhost:8080/"
        },
        "id": "18b36565",
        "outputId": "6c9ca414-4fd3-4805-c534-16dc2ac8cdec"
      },
      "outputs": [
        {
          "output_type": "stream",
          "name": "stdout",
          "text": [
            "Enter integer: 5\n",
            "Number of dots around the center on 5th iteration are:  51\n"
          ]
        }
      ],
      "source": [
        "# Centered pentagonal for n-th term is given by : Cp{n}=(5n^2-5n+2)/2\n",
        "\n",
        "def pentagonal(n):\n",
        "    return int((5 * n**2 - 5 * n + 2) /2)\n",
        "\n",
        "n = int(input(\"Enter integer: \"))\n",
        "print(f\"Number of dots around the center on {n}th iteration are: \",pentagonal(n))"
      ]
    },
    {
      "cell_type": "markdown",
      "id": "86f2944f",
      "metadata": {
        "id": "86f2944f"
      },
      "source": [
        "### 2.  Make a function that encrypts a given input with these steps:\n",
        "\n",
        "Input: \"apple\"\n",
        "\n",
        "Step 1: Reverse the input: \"elppa\"\n",
        "\n",
        "Step 2: Replace all vowels using the following chart:\n",
        "\n",
        "a => 0\n",
        "e => 1\n",
        "i => 2\n",
        "o => 2\n",
        "u => 3\n",
        "\n",
        "\"1lpp0\"\n",
        "\n",
        "Step 3: Add \"aca\" to the end of the word: \"1lpp0aca\"\n",
        "\n",
        "Output: \"1lpp0aca\"\n",
        "\n",
        "Examples\n",
        "\n",
        "encrypt(\"banana\") ➞ \"0n0n0baca\"\n",
        "\n",
        "encrypt(\"karaca\") ➞ \"0c0r0kaca\"\n",
        "\n",
        "encrypt(\"burak\") ➞ \"k0r3baca\"\n",
        "\n",
        "encrypt(\"alpaca\") ➞ \"0c0pl0aca\"\n"
      ]
    },
    {
      "cell_type": "code",
      "execution_count": null,
      "id": "0bf0155c",
      "metadata": {
        "colab": {
          "base_uri": "https://localhost:8080/",
          "height": 53
        },
        "id": "0bf0155c",
        "outputId": "7efaf767-619e-4b44-96f6-844a7655df76"
      },
      "outputs": [
        {
          "name": "stdout",
          "output_type": "stream",
          "text": [
            "Enter a word to encrypt: sequoia\n"
          ]
        },
        {
          "output_type": "execute_result",
          "data": {
            "text/plain": [
              "'0223q1saca'"
            ],
            "application/vnd.google.colaboratory.intrinsic+json": {
              "type": "string"
            }
          },
          "metadata": {},
          "execution_count": 54
        }
      ],
      "source": [
        "name = str(input(\"Enter a word to encrypt: \"))\n",
        "def encrypt(x):\n",
        "  r_name = x[::-1]\n",
        "  d_vowels = {\"a\":0, \"e\":1, \"i\":2, \"o\":2, \"u\":3}\n",
        "  for i in x:\n",
        "    if i in d_vowels.keys():\n",
        "      r_name = r_name.replace(i,str(d_vowels[i]))\n",
        "  return r_name+\"aca\"\n",
        "\n",
        "encrypt(name)\n"
      ]
    },
    {
      "cell_type": "markdown",
      "id": "9b15535d",
      "metadata": {
        "id": "9b15535d"
      },
      "source": [
        "# 3. Given the month and year as numbers, return whether that month contains a Friday 13th.(i.e You can check Python's datetime module)\n",
        "\n",
        "Examples\n",
        "\n",
        "has_friday_13(3, 2020) ➞ True\n",
        "\n",
        "has_friday_13(10, 2017) ➞ True\n",
        "\n",
        "has_friday_13(1, 1985) ➞ False\n",
        "\n"
      ]
    },
    {
      "cell_type": "code",
      "execution_count": null,
      "id": "9a0edf7a",
      "metadata": {
        "id": "9a0edf7a",
        "outputId": "32140d89-7e64-4f2e-99f2-cd428f7b0873"
      },
      "outputs": [
        {
          "name": "stdout",
          "output_type": "stream",
          "text": [
            "True\n",
            "True\n",
            "False\n"
          ]
        }
      ],
      "source": [
        "import calendar\n",
        "\n",
        "def has_friday_13(month,year):\n",
        "    c = calendar.Calendar(firstweekday=calendar.SUNDAY)\n",
        "\n",
        "    monthcal = c.monthdatescalendar(year,month)\n",
        "\n",
        "    for week in monthcal:\n",
        "        for day in week:\n",
        "            if day.weekday() == calendar.FRIDAY and day.month == month and day.day == 13:\n",
        "                return True\n",
        "    return False\n",
        "\n",
        "print(has_friday_13(3, 2020))\n",
        "\n",
        "print(has_friday_13(10, 2017))\n",
        "\n",
        "print(has_friday_13(1, 1985))"
      ]
    },
    {
      "cell_type": "markdown",
      "id": "d72a0022",
      "metadata": {
        "id": "d72a0022"
      },
      "source": [
        "# 4. Write a regular expression that will help us count how many bad cookies are produced every day. You must use RegEx negative lookbehind.\n",
        "\n",
        "Example\n",
        "\n",
        "lst = [\"bad cookie\", \"good cookie\", \"bad cookie\", \"good cookie\", \"good cookie\"]\n",
        "\n",
        "pattern = \"yourregularexpressionhere\"\n",
        "\n",
        "len(re.findall(pattern, \", \".join(lst))) ➞ 2\n"
      ]
    },
    {
      "cell_type": "code",
      "execution_count": null,
      "id": "43d13a40",
      "metadata": {
        "id": "43d13a40",
        "outputId": "0b54dff9-2de0-4357-fdfe-161e9d401ba9"
      },
      "outputs": [
        {
          "data": {
            "text/plain": [
              "2"
            ]
          },
          "execution_count": 4,
          "metadata": {},
          "output_type": "execute_result"
        }
      ],
      "source": [
        "import re\n",
        "\n",
        "lst = [\"bad cookie\", \"good cookie\", \"bad cookie\", \"good cookie\", \"good cookie\"]\n",
        "\n",
        "pattern = r\"(?<!good )cookie\"\n",
        "\n",
        "len(re.findall(pattern, \", \".join(lst)))"
      ]
    },
    {
      "cell_type": "markdown",
      "id": "ac3cc35d",
      "metadata": {
        "id": "ac3cc35d"
      },
      "source": [
        "# 5. Given a list of words in the singular form, return a set of those words in the plural form if they appear more than once in the list.\n",
        "\n",
        "Examples\n",
        "\n",
        "pluralize([\"cow\", \"pig\", \"cow\", \"cow\"]) ➞ { \"cows\", \"pig\" }\n",
        "\n",
        "pluralize([\"table\", \"table\", \"table\"]) ➞ { \"tables\" }\n",
        "\n",
        "pluralize([\"chair\", \"pencil\", \"arm\"]) ➞ { \"chair\", \"pencil\", \"arm\" }\n"
      ]
    },
    {
      "cell_type": "code",
      "execution_count": null,
      "id": "68fedf8e",
      "metadata": {
        "id": "68fedf8e",
        "outputId": "13cc9eb2-9611-4ddb-88bd-b7e11b64247b"
      },
      "outputs": [
        {
          "name": "stdout",
          "output_type": "stream",
          "text": [
            "{'pig', 'cows'}\n",
            "{'tables'}\n",
            "{'chair', 'arm', 'pencil'}\n"
          ]
        }
      ],
      "source": [
        "def pluralize(l):\n",
        "    s = set()\n",
        "    \n",
        "    for item in l:\n",
        "        if l.count(item) > 1:\n",
        "            s.add(item + 's')\n",
        "        else:\n",
        "            s.add(item)        \n",
        "    return s    \n",
        "        \n",
        "print(pluralize([\"cow\", \"pig\", \"cow\", \"cow\"]))    \n",
        "\n",
        "print(pluralize([\"table\", \"table\", \"table\"]))\n",
        "\n",
        "print(pluralize([\"chair\", \"pencil\", \"arm\"])) # set is an unordered collection of elements, that is why elemnts appear in random order"
      ]
    }
  ],
  "metadata": {
    "kernelspec": {
      "display_name": "Python 3",
      "language": "python",
      "name": "python3"
    },
    "language_info": {
      "codemirror_mode": {
        "name": "ipython",
        "version": 3
      },
      "file_extension": ".py",
      "mimetype": "text/x-python",
      "name": "python",
      "nbconvert_exporter": "python",
      "pygments_lexer": "ipython3",
      "version": "3.8.8"
    },
    "colab": {
      "name": "Programming_Assignment_2.ipynb",
      "provenance": [],
      "collapsed_sections": []
    }
  },
  "nbformat": 4,
  "nbformat_minor": 5
}