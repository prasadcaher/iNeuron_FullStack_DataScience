{
 "cells": [
  {
   "cell_type": "markdown",
   "metadata": {},
   "source": [
    "# Python Programming Basic Assignment - 7\n",
    "## Submitted by Prasad Aher"
   ]
  },
  {
   "cell_type": "markdown",
   "metadata": {},
   "source": [
    "### Question 1. Write a Python Program to find sum of array?"
   ]
  },
  {
   "cell_type": "code",
   "execution_count": 1,
   "metadata": {},
   "outputs": [
    {
     "data": {
      "text/plain": [
       "'Sum of the given array is 15'"
      ]
     },
     "execution_count": 1,
     "metadata": {},
     "output_type": "execute_result"
    }
   ],
   "source": [
    "def sum_array(ar):\n",
    "    s = 0\n",
    "    try:\n",
    "        for i in ar:\n",
    "            s +=i\n",
    "        return f\"Sum of the given array is {s}\" \n",
    "    \n",
    "    except Exception as e:\n",
    "        print(str(r))\n",
    "\n",
    "ar = [1,2,3,4,5]\n",
    "sum_array(ar)"
   ]
  },
  {
   "cell_type": "markdown",
   "metadata": {},
   "source": [
    "### Question 2. Write a Python Program to find largest element in an array?"
   ]
  },
  {
   "cell_type": "code",
   "execution_count": 2,
   "metadata": {},
   "outputs": [
    {
     "data": {
      "text/plain": [
       "'The largest number in give array is 105'"
      ]
     },
     "execution_count": 2,
     "metadata": {},
     "output_type": "execute_result"
    }
   ],
   "source": [
    "def large_elem(ar):\n",
    "    temp = 0\n",
    "    try:\n",
    "        for i in range(len(ar)):\n",
    "            for j in range (i, len(ar)):\n",
    "                if (ar[j]) > (ar[i]):\n",
    "                    temp = ar[i]\n",
    "                    ar[i] = ar[j]\n",
    "                    ar[j] = temp\n",
    "        return f\"The largest number in give array is {ar[0]}\"\n",
    "    \n",
    "    except Exception as e:\n",
    "        print(str(e))\n",
    "\n",
    "\n",
    "l = [25,36,100,105,8,56,7,43,67,98,45]\n",
    "\n",
    "large_elem(l)"
   ]
  },
  {
   "cell_type": "markdown",
   "metadata": {},
   "source": [
    "###  <center> OR"
   ]
  },
  {
   "cell_type": "code",
   "execution_count": 3,
   "metadata": {},
   "outputs": [
    {
     "data": {
      "text/plain": [
       "'The largest number in give array is 105'"
      ]
     },
     "execution_count": 3,
     "metadata": {},
     "output_type": "execute_result"
    }
   ],
   "source": [
    "def large_elem1(ar):\n",
    "    try:\n",
    "        ar.sort()\n",
    "        return f\"The largest number in give array is {ar[-1]}\"\n",
    "    except Exception as e:\n",
    "        print(str(e))\n",
    "\n",
    "l = [25,36,100,105,8,56,7,43,67,98,45]\n",
    "\n",
    "large_elem1(l)"
   ]
  },
  {
   "cell_type": "markdown",
   "metadata": {},
   "source": [
    "#### Question 3. Write a Python Program for array rotation?"
   ]
  },
  {
   "cell_type": "code",
   "execution_count": 4,
   "metadata": {},
   "outputs": [
    {
     "data": {
      "text/plain": [
       "[5, 4, 3, 2, 1]"
      ]
     },
     "execution_count": 4,
     "metadata": {},
     "output_type": "execute_result"
    }
   ],
   "source": [
    "def arr_rotate(ar):\n",
    "    try:\n",
    "        rotate = []\n",
    "        l = len(ar)\n",
    "        counter = 0\n",
    "        while counter < l:\n",
    "            rotate.append(ar[-1])\n",
    "            ar.pop(-1)\n",
    "            counter += 1\n",
    "        return rotate\n",
    "    \n",
    "    except Exception as e:\n",
    "        print(str(e))\n",
    "    \n",
    "\n",
    "ar = [1,2,3,4,5]\n",
    "\n",
    "arr_rotate(ar)\n",
    "    "
   ]
  },
  {
   "cell_type": "markdown",
   "metadata": {},
   "source": [
    "#### Question 4. Write a Python Program to Split the array and add the first part to the end?"
   ]
  },
  {
   "cell_type": "code",
   "execution_count": 5,
   "metadata": {},
   "outputs": [
    {
     "data": {
      "text/plain": [
       "[4, 5, 6, 7, 1, 2, 3]"
      ]
     },
     "execution_count": 5,
     "metadata": {},
     "output_type": "execute_result"
    }
   ],
   "source": [
    "def split_array(ar):\n",
    "    try:\n",
    "        t1 = []\n",
    "        t2 = []\n",
    "        split_pos = len(ar)//2  # Splitting array by half its length, using Floor Division incase array is having odd length.\n",
    "        for i in range (0,split_pos):\n",
    "            t2.append(ar[i])\n",
    "        for i in range (split_pos, len(ar)):\n",
    "            t1.append(ar[i])\n",
    "\n",
    "        return t1+t2\n",
    "    except Exception as e:\n",
    "        print(str(e))\n",
    "\n",
    "ar = [1,2,3,4,5,6,7]\n",
    "\n",
    "split_array(ar)"
   ]
  },
  {
   "cell_type": "markdown",
   "metadata": {},
   "source": [
    "#### Question 5. Write a Python Program to check if given array is Monotonic?"
   ]
  },
  {
   "cell_type": "code",
   "execution_count": 6,
   "metadata": {},
   "outputs": [
    {
     "data": {
      "text/plain": [
       "'The array is Monotonic'"
      ]
     },
     "execution_count": 6,
     "metadata": {},
     "output_type": "execute_result"
    }
   ],
   "source": [
    "def check_monotonic(ar):\n",
    "    try:\n",
    "        if all(ar[i]<=ar[i+1] for i in range(0,len(ar)-1)) or all(ar[i]>=ar[i+1] for i in range(0,len(ar)-1)):\n",
    "            return \"The array is Monotonic\"\n",
    "        else:\n",
    "            return \"The array is not Monotonic\"\n",
    "\n",
    "    except Exception as e:\n",
    "        print(str(e))\n",
    "\n",
    "ar = [6,5,4,3,2,1]\n",
    "check_monotonic(ar)\n"
   ]
  }
 ],
 "metadata": {
  "kernelspec": {
   "display_name": "Python 3",
   "language": "python",
   "name": "python3"
  },
  "language_info": {
   "codemirror_mode": {
    "name": "ipython",
    "version": 3
   },
   "file_extension": ".py",
   "mimetype": "text/x-python",
   "name": "python",
   "nbconvert_exporter": "python",
   "pygments_lexer": "ipython3",
   "version": "3.8.5"
  }
 },
 "nbformat": 4,
 "nbformat_minor": 5
}
