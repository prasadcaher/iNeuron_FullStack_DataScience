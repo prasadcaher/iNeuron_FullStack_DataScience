{
 "cells": [
  {
   "cell_type": "markdown",
   "metadata": {},
   "source": [
    "<h1 style='text-align:center'>Python Basics : Assignment - 25</h1>\n",
    "\n",
    "<h3 style='text-align:center'> Submitted by Prasad Aher </h3>\n",
    "<br>"
   ]
  },
  {
   "cell_type": "markdown",
   "metadata": {},
   "source": [
    "### Question 1 : What is the difference between enclosing a list comprehension in square brackets and parentheses?"
   ]
  },
  {
   "cell_type": "code",
   "execution_count": 1,
   "metadata": {},
   "outputs": [
    {
     "data": {
      "text/plain": [
       "'\\nEnclosing list Comprehension in Square Bracket is a, List Comprehension\\n\\n&\\n\\nEnclosing list Comprehension in Parentheses is a, Generator Expression \\nA Generator Expression is doing basically the same thing as a List Comprehension does.\\n\\n'"
      ]
     },
     "execution_count": 1,
     "metadata": {},
     "output_type": "execute_result"
    }
   ],
   "source": [
    "# Answer :\n",
    "\"\"\"\n",
    "Enclosing list Comprehension in Square Bracket is a, List Comprehension\n",
    "\n",
    "&\n",
    "\n",
    "Enclosing list Comprehension in Parentheses is a, Generator Expression \n",
    "A Generator Expression is doing basically the same thing as a List Comprehension does.\n",
    "\n",
    "\"\"\""
   ]
  },
  {
   "cell_type": "markdown",
   "metadata": {},
   "source": [
    "### Question 2 : What is the relationship between generators and iterators?"
   ]
  },
  {
   "cell_type": "markdown",
   "metadata": {},
   "source": [
    "### Answer: \n",
    "\n",
    "#### <center> Iterator vs Generators\n",
    "\n",
    "| Iterator | Generator |\n",
    "| :-: |:-: |\n",
    "| Class is used to implement an iterator | Function is used to implement a generator. |\n",
    "| Local Variables aren’t used here. | All the local variables before the yield function are stored. |\n",
    "| Iterators are used mostly to iterate or convert other objects to an iterator using iter() function. | Generators are mostly used in loops to generate an iterator by returning all the values in the loop without affecting the iteration of the loop |\n",
    "| Iterator uses iter() and next() functions | Generator uses yield keyword |\n",
    "| Every iterator is not a generator | Every generator is an iterator |\n"
   ]
  },
  {
   "cell_type": "markdown",
   "metadata": {},
   "source": [
    "### Question 3 : What are the signs that a function is a generator function?"
   ]
  },
  {
   "cell_type": "code",
   "execution_count": 2,
   "metadata": {},
   "outputs": [
    {
     "data": {
      "text/plain": [
       "'\\nA generator is a special type of function which does not return a single value,\\ninstead, it returns an iterator object with a sequence of values. In a generator function, \\na yield statement is used rather than a return statement. \\n'"
      ]
     },
     "execution_count": 2,
     "metadata": {},
     "output_type": "execute_result"
    }
   ],
   "source": [
    "# Answer :\n",
    "\"\"\"\n",
    "A generator is a special type of function which does not return a single value,\n",
    "instead, it returns an iterator object with a sequence of values. In a generator function, \n",
    "a yield statement is used rather than a return statement. \n",
    "\"\"\""
   ]
  },
  {
   "cell_type": "markdown",
   "metadata": {},
   "source": [
    "### Question 4 : What is the purpose of a yield statement?"
   ]
  },
  {
   "cell_type": "code",
   "execution_count": 3,
   "metadata": {},
   "outputs": [
    {
     "data": {
      "text/plain": [
       "'\\n\\nYield is a keyword in Python that is used to return from a function without destroying the states of its local variable\\nand when the function is called, the execution starts from the last yield statement.\\nAny function that contains a yield keyword is termed a generator.\\n\\n'"
      ]
     },
     "execution_count": 3,
     "metadata": {},
     "output_type": "execute_result"
    }
   ],
   "source": [
    "# Answer : \n",
    "\"\"\"\n",
    "\n",
    "Yield is a keyword in Python that is used to return from a function without destroying the states of its local variable\n",
    "and when the function is called, the execution starts from the last yield statement.\n",
    "Any function that contains a yield keyword is termed a generator.\n",
    "\n",
    "\"\"\""
   ]
  },
  {
   "cell_type": "markdown",
   "metadata": {},
   "source": [
    "### Question 5 : What is the relationship between map calls and list comprehensions? Make a comparison and contrast between the two."
   ]
  },
  {
   "cell_type": "code",
   "execution_count": 4,
   "metadata": {},
   "outputs": [
    {
     "data": {
      "text/plain": [
       "'\\n1   List comprehension is more concise and easier to read as compared to map.\\n\\n2   List comprehension allows filtering. In map, we have no such facility. \\n    For example, to print all even numbers in range of 100, we can write [n for n in range(100) if n%2 == 0]. \\n    There is no alternate for it in map\\n\\n3   List comprehension are used when a list of results is required as map only returns a map object and\\n    does not return any list.\\n\\n4   List comprehension is faster than map when we need to evaluate expressions that are too long or complicated\\n    to express\\n\\n5   Map is faster in case of calling an already defined function (as no lambda is required).\\n\\n'"
      ]
     },
     "execution_count": 4,
     "metadata": {},
     "output_type": "execute_result"
    }
   ],
   "source": [
    "# Answer : \n",
    "\"\"\"\n",
    "1   List comprehension is more concise and easier to read as compared to map.\n",
    "\n",
    "2   List comprehension allows filtering. In map, we have no such facility. \n",
    "    For example, to print all even numbers in range of 100, we can write [n for n in range(100) if n%2 == 0]. \n",
    "    There is no alternate for it in map\n",
    "\n",
    "3   List comprehension are used when a list of results is required as map only returns a map object and\n",
    "    does not return any list.\n",
    "\n",
    "4   List comprehension is faster than map when we need to evaluate expressions that are too long or complicated\n",
    "    to express\n",
    "\n",
    "5   Map is faster in case of calling an already defined function (as no lambda is required).\n",
    "\n",
    "\"\"\"\n"
   ]
  }
 ],
 "metadata": {
  "kernelspec": {
   "display_name": "Python 3",
   "language": "python",
   "name": "python3"
  },
  "language_info": {
   "codemirror_mode": {
    "name": "ipython",
    "version": 3
   },
   "file_extension": ".py",
   "mimetype": "text/x-python",
   "name": "python",
   "nbconvert_exporter": "python",
   "pygments_lexer": "ipython3",
   "version": "3.8.5"
  }
 },
 "nbformat": 4,
 "nbformat_minor": 5
}
