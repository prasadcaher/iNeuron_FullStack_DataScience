{
 "cells": [
  {
   "cell_type": "markdown",
   "metadata": {},
   "source": [
    "<h1 style='text-align:center'>Python Advance : Assignment - 1</h1>\n",
    "\n",
    "<h3 style='text-align:center'> Submitted by Prasad Aher </h3>\n",
    "<br>"
   ]
  },
  {
   "cell_type": "markdown",
   "metadata": {},
   "source": [
    "### Question 1 : What is the purpose of Python's OOP?"
   ]
  },
  {
   "cell_type": "code",
   "execution_count": 4,
   "metadata": {},
   "outputs": [
    {
     "data": {
      "text/plain": [
       "'\\nObject-oriented programming (OOP) is a method of structuring a program by bundling related properties and \\nbehaviors into individual objects. \\n\\nConceptually, objects are like the components of a system. \\n\\n'"
      ]
     },
     "execution_count": 4,
     "metadata": {},
     "output_type": "execute_result"
    }
   ],
   "source": [
    "# Answer : \n",
    "\"\"\"\n",
    "Object-oriented programming (OOP) is a method of structuring a program by bundling related properties and \n",
    "behaviors into individual objects. \n",
    "\n",
    "Conceptually, objects are like the components of a system. \n",
    "\n",
    "\"\"\""
   ]
  },
  {
   "cell_type": "markdown",
   "metadata": {},
   "source": [
    "### Question 2 : Where does an inheritance search look for an attribute?"
   ]
  },
  {
   "cell_type": "code",
   "execution_count": 5,
   "metadata": {},
   "outputs": [
    {
     "data": {
      "text/plain": [
       "'\\n\\nAn inheritance search looks for an attribute first in the instance object, then in the\\nclass the instance was created from, then in all higher superclasses, progressing\\nfrom the bottom to the top of the object tree, and from left to right (by default).\\nThe search stops at the first place the attribute is found.\\n\\n\\n'"
      ]
     },
     "execution_count": 5,
     "metadata": {},
     "output_type": "execute_result"
    }
   ],
   "source": [
    "# Answer : \n",
    "\"\"\"\n",
    "\n",
    "An inheritance search looks for an attribute first in the instance object, then in the\n",
    "class the instance was created from, then in all higher superclasses, progressing\n",
    "from the bottom to the top of the object tree, and from left to right (by default).\n",
    "The search stops at the first place the attribute is found.\n",
    "\n",
    "\n",
    "\"\"\"\n"
   ]
  },
  {
   "cell_type": "markdown",
   "metadata": {},
   "source": [
    "### Question 3 : How do you distinguish between a class object and an instance object?"
   ]
  },
  {
   "cell_type": "code",
   "execution_count": 6,
   "metadata": {},
   "outputs": [
    {
     "data": {
      "text/plain": [
       "'\\nBoth class and instance objects are packages of variables that appear as attributes.\\nThe main difference between them is that classes are a kind of factory for creating multiple instances.\\n\\nClasses also support operator overloading methods, which instances inherit, and treat any functions nested \\nin the class as methods for processing instances.\\n'"
      ]
     },
     "execution_count": 6,
     "metadata": {},
     "output_type": "execute_result"
    }
   ],
   "source": [
    "# Answer: \n",
    "\"\"\"\n",
    "Both class and instance objects are packages of variables that appear as attributes.\n",
    "The main difference between them is that classes are a kind of factory for creating multiple instances.\n",
    "\n",
    "Classes also support operator overloading methods, which instances inherit, and treat any functions nested \n",
    "in the class as methods for processing instances.\n",
    "\"\"\""
   ]
  },
  {
   "cell_type": "markdown",
   "metadata": {},
   "source": [
    "### Question 4 : What makes the first argument in a class’s method function special?"
   ]
  },
  {
   "cell_type": "code",
   "execution_count": 7,
   "metadata": {},
   "outputs": [
    {
     "data": {
      "text/plain": [
       "'\\nThe first argument in a class’s method function is special because it always receives\\nthe instance object that is the implied subject of the method call. It’s usually called\\nself by convention. Because method functions always have this implied subject\\nand object context by default, we say they are “object-oriented” (i.e., designed to\\nprocess or change objects).\\n'"
      ]
     },
     "execution_count": 7,
     "metadata": {},
     "output_type": "execute_result"
    }
   ],
   "source": [
    "# Answer :\n",
    "\"\"\"\n",
    "The first argument in a class’s method function is special because it always receives\n",
    "the instance object that is the implied subject of the method call. It’s usually called\n",
    "self by convention. Because method functions always have this implied subject\n",
    "and object context by default, we say they are “object-oriented” (i.e., designed to\n",
    "process or change objects).\n",
    "\"\"\""
   ]
  },
  {
   "cell_type": "markdown",
   "metadata": {},
   "source": [
    "### Question 5 : What is the purpose of the \\__init__ method?"
   ]
  },
  {
   "cell_type": "code",
   "execution_count": 8,
   "metadata": {},
   "outputs": [
    {
     "data": {
      "text/plain": [
       "'\\n\\n\"__init__\" is a reseved method in python classes. It is called as a constructor in object oriented terminology.\\nThis method is called when an object is created from a class and it allows the class to initialize the attributes\\nof the class.\\n\\n'"
      ]
     },
     "execution_count": 8,
     "metadata": {},
     "output_type": "execute_result"
    }
   ],
   "source": [
    "# Answer :\n",
    "\"\"\"\n",
    "\n",
    "\"__init__\" is a reseved method in python classes. It is called as a constructor in object oriented terminology.\n",
    "This method is called when an object is created from a class and it allows the class to initialize the attributes\n",
    "of the class.\n",
    "\n",
    "\"\"\"\n"
   ]
  },
  {
   "cell_type": "markdown",
   "metadata": {},
   "source": [
    "### Question 6 : What is the process for creating a class instance?"
   ]
  },
  {
   "cell_type": "code",
   "execution_count": 10,
   "metadata": {},
   "outputs": [
    {
     "data": {
      "text/plain": [
       "'\\n\\nTo create instances of a class, you call the class using class name and pass in whatever arguments\\nits __init__ method accepts.\\n\\n'"
      ]
     },
     "execution_count": 10,
     "metadata": {},
     "output_type": "execute_result"
    }
   ],
   "source": [
    "# Answer :\n",
    "\"\"\"\n",
    "\n",
    "To create instances of a class, you call the class using class name and pass in whatever arguments\n",
    "its __init__ method accepts.\n",
    "\n",
    "\"\"\"\n"
   ]
  },
  {
   "cell_type": "markdown",
   "metadata": {},
   "source": [
    "### Question 7 : What is the process for creating a class?"
   ]
  },
  {
   "cell_type": "code",
   "execution_count": 11,
   "metadata": {},
   "outputs": [
    {
     "data": {
      "text/plain": [
       "'\\nYou create a class by running a class statement; like function definitions, these\\nstatements normally run when the enclosing module file is imported\\n'"
      ]
     },
     "execution_count": 11,
     "metadata": {},
     "output_type": "execute_result"
    }
   ],
   "source": [
    "# Answer : \n",
    "\"\"\"\n",
    "You create a class by running a class statement; like function definitions, these\n",
    "statements normally run when the enclosing module file is imported\n",
    "\"\"\""
   ]
  },
  {
   "cell_type": "markdown",
   "metadata": {},
   "source": [
    "### Question 8 : How would you define the superclasses of a class?"
   ]
  },
  {
   "cell_type": "code",
   "execution_count": null,
   "metadata": {},
   "outputs": [],
   "source": [
    "# Answer : \n",
    "\"\"\"\n",
    "You define a class’s superclasses by listing them in parentheses in the class statement,\n",
    "after the new class’s name. The left-to-right order in which the classes are\n",
    "listed in the parentheses gives the left-to-right inheritance search order in the class\n",
    "tree.\n",
    "\"\"\"\n"
   ]
  }
 ],
 "metadata": {
  "kernelspec": {
   "display_name": "Python 3",
   "language": "python",
   "name": "python3"
  },
  "language_info": {
   "codemirror_mode": {
    "name": "ipython",
    "version": 3
   },
   "file_extension": ".py",
   "mimetype": "text/x-python",
   "name": "python",
   "nbconvert_exporter": "python",
   "pygments_lexer": "ipython3",
   "version": "3.8.5"
  }
 },
 "nbformat": 4,
 "nbformat_minor": 4
}
