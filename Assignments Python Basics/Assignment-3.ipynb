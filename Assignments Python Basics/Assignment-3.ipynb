{
 "cells": [
  {
   "cell_type": "markdown",
   "id": "equal-involvement",
   "metadata": {},
   "source": [
    "# Python Basics : Assignment -3"
   ]
  },
  {
   "cell_type": "markdown",
   "id": "molecular-hometown",
   "metadata": {},
   "source": [
    "## Submitted by Prasad Aher"
   ]
  },
  {
   "cell_type": "markdown",
   "id": "planned-refund",
   "metadata": {},
   "source": [
    "### Question 1 : Why are functions advantageous to have in your programs?"
   ]
  },
  {
   "cell_type": "code",
   "execution_count": 1,
   "id": "twelve-utility",
   "metadata": {},
   "outputs": [
    {
     "data": {
      "text/plain": [
       "'\\nFunctions, can be used to shorten the code. Like if there is certian part of code which get repeated number of times,\\nwe can create a function of that particular set of code and call that function whereever required. \\n'"
      ]
     },
     "execution_count": 1,
     "metadata": {},
     "output_type": "execute_result"
    }
   ],
   "source": [
    "# Answer:\n",
    "'''\n",
    "Functions, can be used to shorten the code. Like if there is certian part of code which get repeated number of times,\n",
    "we can create a function of that particular set of code and call that function whereever required. \n",
    "'''\n"
   ]
  },
  {
   "cell_type": "markdown",
   "id": "floppy-short",
   "metadata": {},
   "source": [
    "### Question 2 : When does the code in a function run: when it's specified or when it's called?"
   ]
  },
  {
   "cell_type": "code",
   "execution_count": 1,
   "id": "silent-yeast",
   "metadata": {},
   "outputs": [
    {
     "data": {
      "text/plain": [
       "'\\nA code in function will run when the function called.\\n'"
      ]
     },
     "execution_count": 1,
     "metadata": {},
     "output_type": "execute_result"
    }
   ],
   "source": [
    "# Answer:\n",
    "\"\"\"\n",
    "A code in function will run when the function called.\n",
    "\"\"\""
   ]
  },
  {
   "cell_type": "markdown",
   "id": "personalized-flash",
   "metadata": {},
   "source": [
    "### Question 3: What statement creates a function?"
   ]
  },
  {
   "cell_type": "code",
   "execution_count": 2,
   "id": "sweet-incidence",
   "metadata": {},
   "outputs": [
    {
     "data": {
      "text/plain": [
       "'\\ndef functionname ():\\n'"
      ]
     },
     "execution_count": 2,
     "metadata": {},
     "output_type": "execute_result"
    }
   ],
   "source": [
    "# Answer:\n",
    "'''\n",
    "def functionname ():\n",
    "'''"
   ]
  },
  {
   "cell_type": "markdown",
   "id": "whole-draft",
   "metadata": {},
   "source": [
    "### Question 4: What is the difference between a function and a function call?"
   ]
  },
  {
   "cell_type": "code",
   "execution_count": 3,
   "id": "virtual-driver",
   "metadata": {},
   "outputs": [
    {
     "data": {
      "text/plain": [
       "'\\nFunction :  it consists of lines of code which executes only when function is called.\\n\\nFunction Call : A function call, is when you call the function in code, that is when the code inside \\n                function is executed.\\n'"
      ]
     },
     "execution_count": 3,
     "metadata": {},
     "output_type": "execute_result"
    }
   ],
   "source": [
    "# Answer:\n",
    "\"\"\"\n",
    "Function :  it consists of lines of code which executes only when function is called.\n",
    "\n",
    "Function Call : A function call, is when you call the function in code, that is when the code inside \n",
    "                function is executed.\n",
    "\"\"\""
   ]
  },
  {
   "cell_type": "markdown",
   "id": "guilty-baking",
   "metadata": {},
   "source": [
    "### Question 5: How many global scopes are there in a Python program? How many local scopes?"
   ]
  },
  {
   "cell_type": "code",
   "execution_count": 4,
   "id": "hazardous-indonesian",
   "metadata": {},
   "outputs": [
    {
     "data": {
      "text/plain": [
       "'\\nThere is one global scope (which is outside the function)\\nand one local scope (which is inside the function).\\n'"
      ]
     },
     "execution_count": 4,
     "metadata": {},
     "output_type": "execute_result"
    }
   ],
   "source": [
    "# Answer:\n",
    "'''\n",
    "There is one global scope (which is outside the function)\n",
    "and one local scope (which is inside the function).\n",
    "'''"
   ]
  },
  {
   "cell_type": "markdown",
   "id": "personal-waterproof",
   "metadata": {},
   "source": [
    "### Question 6: What happens to variables in a local scope when the function call returns?"
   ]
  },
  {
   "cell_type": "code",
   "execution_count": 5,
   "id": "biblical-relevance",
   "metadata": {},
   "outputs": [
    {
     "data": {
      "text/plain": [
       "'\\nThe Local scope is forgotten after the function is called.\\n'"
      ]
     },
     "execution_count": 5,
     "metadata": {},
     "output_type": "execute_result"
    }
   ],
   "source": [
    "# Answer:\n",
    "\"\"\"\n",
    "The Local scope is forgotten after the function is called.\n",
    "\"\"\"\n"
   ]
  },
  {
   "cell_type": "markdown",
   "id": "grateful-gates",
   "metadata": {},
   "source": [
    "### Question 7: What is a return value? Can a return value be part of an expression?"
   ]
  },
  {
   "cell_type": "code",
   "execution_count": 6,
   "id": "empty-point",
   "metadata": {},
   "outputs": [
    {
     "data": {
      "text/plain": [
       "'\\nReturn value is the out value of the function.\\n\\nYes, return value can be part of expression.\\n'"
      ]
     },
     "execution_count": 6,
     "metadata": {},
     "output_type": "execute_result"
    }
   ],
   "source": [
    "# Answer:\n",
    "'''\n",
    "Return value is the out value of the function.\n",
    "\n",
    "Yes, return value can be part of expression.\n",
    "'''"
   ]
  },
  {
   "cell_type": "markdown",
   "id": "changing-marijuana",
   "metadata": {},
   "source": [
    "### Question 8: If a function does not have a return statement, what is the return value of a call to that function?"
   ]
  },
  {
   "cell_type": "code",
   "execution_count": 7,
   "id": "coated-halloween",
   "metadata": {},
   "outputs": [
    {
     "data": {
      "text/plain": [
       "'\\nFunction with no return value will result in NONE as return value when function is called.\\n'"
      ]
     },
     "execution_count": 7,
     "metadata": {},
     "output_type": "execute_result"
    }
   ],
   "source": [
    "# Answer:\n",
    "'''\n",
    "Function with no return value will result in NONE as return value when function is called.\n",
    "'''"
   ]
  },
  {
   "cell_type": "markdown",
   "id": "crazy-laser",
   "metadata": {},
   "source": [
    "### Question 9: How can you force a variable in a function to refer to the global variable?"
   ]
  },
  {
   "cell_type": "code",
   "execution_count": 8,
   "id": "faced-vampire",
   "metadata": {},
   "outputs": [
    {
     "data": {
      "text/plain": [
       "'\\nby using Global Statement.\\n'"
      ]
     },
     "execution_count": 8,
     "metadata": {},
     "output_type": "execute_result"
    }
   ],
   "source": [
    "# Answer:\n",
    "'''\n",
    "by using Global Statement.\n",
    "'''"
   ]
  },
  {
   "cell_type": "markdown",
   "id": "racial-fireplace",
   "metadata": {},
   "source": [
    "### Question 10: What is the data type of None?"
   ]
  },
  {
   "cell_type": "code",
   "execution_count": 10,
   "id": "approximate-balloon",
   "metadata": {},
   "outputs": [
    {
     "data": {
      "text/plain": [
       "NoneType"
      ]
     },
     "execution_count": 10,
     "metadata": {},
     "output_type": "execute_result"
    }
   ],
   "source": [
    "# Answer:\n",
    "'''\n",
    "data type of None is NoneType\n",
    "'''\n",
    "type(None)"
   ]
  },
  {
   "cell_type": "markdown",
   "id": "intermediate-crest",
   "metadata": {},
   "source": [
    "### Question 11: What does the import areallyourpetsnamederic statement do?"
   ]
  },
  {
   "cell_type": "code",
   "execution_count": 11,
   "id": "political-dutch",
   "metadata": {},
   "outputs": [
    {
     "data": {
      "text/plain": [
       "'\\nIt will import the module areallyourpetsnamederic\\n'"
      ]
     },
     "execution_count": 11,
     "metadata": {},
     "output_type": "execute_result"
    }
   ],
   "source": [
    "# Answer:\n",
    "'''\n",
    "It will import the module areallyourpetsnamederic\n",
    "'''"
   ]
  },
  {
   "cell_type": "markdown",
   "id": "macro-weapon",
   "metadata": {},
   "source": [
    "### Question 12: If you had a function named bacon() in a module named spam, how would you call it after importing spam?"
   ]
  },
  {
   "cell_type": "code",
   "execution_count": 12,
   "id": "precious-timber",
   "metadata": {},
   "outputs": [
    {
     "data": {
      "text/plain": [
       "'\\nimport spam\\nspam.bacon()\\n'"
      ]
     },
     "execution_count": 12,
     "metadata": {},
     "output_type": "execute_result"
    }
   ],
   "source": [
    "# Answer:\n",
    "'''\n",
    "import spam\n",
    "spam.bacon()\n",
    "'''"
   ]
  },
  {
   "cell_type": "markdown",
   "id": "continental-voluntary",
   "metadata": {},
   "source": [
    "### Question 13: How can you prevent a program from crashing when it gets an error?"
   ]
  },
  {
   "cell_type": "code",
   "execution_count": 13,
   "id": "dirty-arthritis",
   "metadata": {},
   "outputs": [
    {
     "data": {
      "text/plain": [
       "'\\nby using Try and Except method.\\n'"
      ]
     },
     "execution_count": 13,
     "metadata": {},
     "output_type": "execute_result"
    }
   ],
   "source": [
    "# Answer:\n",
    "'''\n",
    "by using Try and Except method.\n",
    "'''"
   ]
  },
  {
   "cell_type": "markdown",
   "id": "sustained-firewall",
   "metadata": {},
   "source": [
    "### Question 14: What goes in the try clause? What goes in the except clause?"
   ]
  },
  {
   "cell_type": "code",
   "execution_count": 14,
   "id": "systematic-festival",
   "metadata": {},
   "outputs": [
    {
     "data": {
      "text/plain": [
       "'\\nTry clause : code in which error is anticipated.\\n\\nExcept clause : Error which we are expecting from the Try clause. \\n'"
      ]
     },
     "execution_count": 14,
     "metadata": {},
     "output_type": "execute_result"
    }
   ],
   "source": [
    "# Answer:\n",
    "'''\n",
    "Try clause : code in which error is anticipated.\n",
    "\n",
    "Except clause : Error which we are expecting from the Try clause. \n",
    "'''"
   ]
  }
 ],
 "metadata": {
  "kernelspec": {
   "display_name": "Python 3",
   "language": "python",
   "name": "python3"
  },
  "language_info": {
   "codemirror_mode": {
    "name": "ipython",
    "version": 3
   },
   "file_extension": ".py",
   "mimetype": "text/x-python",
   "name": "python",
   "nbconvert_exporter": "python",
   "pygments_lexer": "ipython3",
   "version": "3.9.2"
  }
 },
 "nbformat": 4,
 "nbformat_minor": 5
}
