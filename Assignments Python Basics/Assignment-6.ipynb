{
 "cells": [
  {
   "cell_type": "markdown",
   "id": "considered-surname",
   "metadata": {},
   "source": [
    "# Python Basics : Assignment -6\n",
    "## Submitted by Prasad Aher"
   ]
  },
  {
   "cell_type": "markdown",
   "id": "israeli-photograph",
   "metadata": {},
   "source": [
    "### Question 1: What are escape characters, and how do you use them?"
   ]
  },
  {
   "cell_type": "code",
   "execution_count": 1,
   "id": "chubby-adventure",
   "metadata": {},
   "outputs": [
    {
     "data": {
      "text/plain": [
       "\"\\nEscape characters are characters that doesn't represent itself when used inside string literal or character. \\nIt is composed of character starting with backslash ''\\nfor example: \\n , \\t , \\r \\n\""
      ]
     },
     "execution_count": 1,
     "metadata": {},
     "output_type": "execute_result"
    }
   ],
   "source": [
    "# Answer:\n",
    "\n",
    "\"\"\"\n",
    "Escape characters are characters that doesn't represent itself when used inside string literal or character. \n",
    "It is composed of character starting with backslash '\\'\n",
    "for example: \\n , \\t , \\r \n",
    "\"\"\""
   ]
  },
  {
   "cell_type": "markdown",
   "id": "therapeutic-humidity",
   "metadata": {},
   "source": [
    "### Question 2: What do the escape characters n and t stand for?"
   ]
  },
  {
   "cell_type": "code",
   "execution_count": 2,
   "id": "systematic-advantage",
   "metadata": {},
   "outputs": [
    {
     "data": {
      "text/plain": [
       "'\\n\\n stands for new line\\n\\t stands fot tab\\n'"
      ]
     },
     "execution_count": 2,
     "metadata": {},
     "output_type": "execute_result"
    }
   ],
   "source": [
    "# Answer:\n",
    "'''\n",
    "\\n stands for new line\n",
    "\\t stands fot tab\n",
    "'''"
   ]
  },
  {
   "cell_type": "markdown",
   "id": "portable-count",
   "metadata": {},
   "source": [
    "### Question 3: What is the way to include backslash characters in a string?"
   ]
  },
  {
   "cell_type": "code",
   "execution_count": 9,
   "id": "signal-wildlife",
   "metadata": {},
   "outputs": [
    {
     "name": "stdout",
     "output_type": "stream",
     "text": [
      "Hello World, \n",
      "My name is Prasad.\n"
     ]
    }
   ],
   "source": [
    "# Answer: backslash character can be included in a string using \\ \n",
    "# Example: \n",
    "print(\"Hello World, \\nMy name is Prasad.\")"
   ]
  },
  {
   "cell_type": "markdown",
   "id": "personal-expansion",
   "metadata": {},
   "source": [
    "### Question 4: The string \"Howl's Moving Castle\" is a correct value. Why isn't the single quote character in the word Howl's not escaped a problem?"
   ]
  },
  {
   "cell_type": "code",
   "execution_count": 10,
   "id": "located-saver",
   "metadata": {},
   "outputs": [
    {
     "data": {
      "text/plain": [
       "\"\\nAs we have used double quote to enclose the string, single quote in Howl's will not give error. \\n\""
      ]
     },
     "execution_count": 10,
     "metadata": {},
     "output_type": "execute_result"
    }
   ],
   "source": [
    "# Answer: \n",
    "'''\n",
    "As we have used double quote to enclose the string, single quote in Howl's will not give error. \n",
    "'''\n"
   ]
  },
  {
   "cell_type": "markdown",
   "id": "subtle-planet",
   "metadata": {},
   "source": [
    "### Question 5: How do you write a string of newlines if you don't want to use the n character?"
   ]
  },
  {
   "cell_type": "code",
   "execution_count": 11,
   "id": "about-harvey",
   "metadata": {},
   "outputs": [
    {
     "name": "stdout",
     "output_type": "stream",
     "text": [
      "Hello World,\n",
      "My name is Prasad.\n",
      "This is sample String\n"
     ]
    }
   ],
   "source": [
    "# Answer: by using multiline string using triple quotes.\n",
    "\n",
    "print(\"\"\"Hello World,\n",
    "My name is Prasad.\n",
    "This is sample String\"\"\")"
   ]
  },
  {
   "cell_type": "markdown",
   "id": "classified-financing",
   "metadata": {},
   "source": [
    "### Question 6: What are the values of the given expressions?\n",
    "#### 'Hello, world!'[1]\n",
    "#### 'Hello, world!'[0:5]\n",
    "#### 'Hello, world!'[:5]\n",
    "#### 'Hello, world!'[3:]\n"
   ]
  },
  {
   "cell_type": "code",
   "execution_count": 17,
   "id": "outside-pickup",
   "metadata": {},
   "outputs": [
    {
     "data": {
      "text/plain": [
       "\"\\n'Hello,world!'[1] # Result 'e'\\n'Hello, world!'[0:5]# Result 'Hello'\\n'Hello, world!'[:5] # Result 'Hello'\\n'Hello, world!'[3:] # Result 'lo, world!'\\n\""
      ]
     },
     "execution_count": 17,
     "metadata": {},
     "output_type": "execute_result"
    }
   ],
   "source": [
    "\"\"\"\n",
    "'Hello,world!'[1] # Result 'e'\n",
    "'Hello, world!'[0:5]# Result 'Hello'\n",
    "'Hello, world!'[:5] # Result 'Hello'\n",
    "'Hello, world!'[3:] # Result 'lo, world!'\n",
    "\"\"\""
   ]
  },
  {
   "cell_type": "markdown",
   "id": "close-trunk",
   "metadata": {},
   "source": [
    "### Question 7: What are the values of the following expressions?\n",
    "#### 'Hello'.upper()\n",
    "#### 'Hello'.upper().isupper()\n",
    "#### 'Hello'.upper().lower()\n"
   ]
  },
  {
   "cell_type": "code",
   "execution_count": 20,
   "id": "honest-aaron",
   "metadata": {},
   "outputs": [
    {
     "data": {
      "text/plain": [
       "\"\\n'Hello'.upper() =  HELLO\\n'Hello'.upper().isupper() = True\\n'Hello'.upper().lower() = hello\\n\""
      ]
     },
     "execution_count": 20,
     "metadata": {},
     "output_type": "execute_result"
    }
   ],
   "source": [
    "'''\n",
    "'Hello'.upper() =  HELLO\n",
    "'Hello'.upper().isupper() = True\n",
    "'Hello'.upper().lower() = hello\n",
    "'''"
   ]
  },
  {
   "cell_type": "markdown",
   "id": "elder-ordinary",
   "metadata": {},
   "source": [
    "### Question 8: What are the values of the following expressions?\n",
    "#### 'Remember, remember, the fifth of July.'.split()\n",
    "#### '-'.join('There can only one.'.split())\n"
   ]
  },
  {
   "cell_type": "code",
   "execution_count": 21,
   "id": "regulated-segment",
   "metadata": {},
   "outputs": [
    {
     "data": {
      "text/plain": [
       "['Remember,', 'remember,', 'the', 'fifth', 'of', 'July.']"
      ]
     },
     "execution_count": 21,
     "metadata": {},
     "output_type": "execute_result"
    }
   ],
   "source": [
    "# Answer -1 :\n",
    "'Remember, remember, the fifth of July.'.split()"
   ]
  },
  {
   "cell_type": "code",
   "execution_count": 22,
   "id": "attached-middle",
   "metadata": {},
   "outputs": [
    {
     "data": {
      "text/plain": [
       "'There-can-only-one.'"
      ]
     },
     "execution_count": 22,
     "metadata": {},
     "output_type": "execute_result"
    }
   ],
   "source": [
    "# Answer-2 :\n",
    "'-'.join('There can only one.'.split())"
   ]
  },
  {
   "cell_type": "markdown",
   "id": "consolidated-furniture",
   "metadata": {},
   "source": [
    "### Question 9: What are the methods for right-justifying, left-justifying, and centering a string?"
   ]
  },
  {
   "cell_type": "code",
   "execution_count": 33,
   "id": "studied-lawsuit",
   "metadata": {},
   "outputs": [
    {
     "data": {
      "text/plain": [
       "'\\nrjust() for right justifying\\nljust() for left justifying\\ncentre() for centering\\n'"
      ]
     },
     "execution_count": 33,
     "metadata": {},
     "output_type": "execute_result"
    }
   ],
   "source": [
    "# Answer:\n",
    "'''\n",
    "rjust() for right justifying\n",
    "ljust() for left justifying\n",
    "centre() for centering\n",
    "'''"
   ]
  },
  {
   "cell_type": "markdown",
   "id": "solar-purpose",
   "metadata": {},
   "source": [
    "### Question 10: What is the best way to remove whitespace characters from the start or end?"
   ]
  },
  {
   "cell_type": "code",
   "execution_count": 35,
   "id": "norwegian-description",
   "metadata": {},
   "outputs": [
    {
     "data": {
      "text/plain": [
       "'\\nlstrip() for removing whitespace from start\\nrstrip() for removing whitespace from end\\n'"
      ]
     },
     "execution_count": 35,
     "metadata": {},
     "output_type": "execute_result"
    }
   ],
   "source": [
    "# Answer:\n",
    "'''\n",
    "lstrip() for removing whitespace from start\n",
    "rstrip() for removing whitespace from end\n",
    "'''"
   ]
  }
 ],
 "metadata": {
  "kernelspec": {
   "display_name": "Python 3",
   "language": "python",
   "name": "python3"
  },
  "language_info": {
   "codemirror_mode": {
    "name": "ipython",
    "version": 3
   },
   "file_extension": ".py",
   "mimetype": "text/x-python",
   "name": "python",
   "nbconvert_exporter": "python",
   "pygments_lexer": "ipython3",
   "version": "3.9.2"
  }
 },
 "nbformat": 4,
 "nbformat_minor": 5
}
