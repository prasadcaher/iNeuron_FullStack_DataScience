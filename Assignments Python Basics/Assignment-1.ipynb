{
 "cells": [
  {
   "cell_type": "markdown",
   "metadata": {},
   "source": [
    "# Python Basics : Assignment -1 "
   ]
  },
  {
   "cell_type": "markdown",
   "metadata": {},
   "source": [
    "## Submitted by Prasad Aher"
   ]
  },
  {
   "cell_type": "markdown",
   "metadata": {},
   "source": [
    "### Question 1: What are the differences between operators and values in the following?"
   ]
  },
  {
   "cell_type": "code",
   "execution_count": 3,
   "metadata": {
    "collapsed": true
   },
   "outputs": [
    {
     "data": {
      "text/plain": [
       "\"\\n*       : it is an mathematical operator used for multiplication\\n'hello' : it is string \\n-87.8   : it is negative float number\\n-       : it is an mathematical operator used for subtraction\\n/       : it is an mathematical operator used for division\\n+       : it is an mathematical operator used for addition\\n6       : it is an integer\\n\\n\\nFollowing are values in above mentioned question;\\n'hello', -87.8, 6\\n\\n\""
      ]
     },
     "execution_count": 3,
     "metadata": {},
     "output_type": "execute_result"
    }
   ],
   "source": [
    "# Answer:\n",
    "\"\"\"\n",
    "*       : it is an mathematical operator used for multiplication\n",
    "'hello' : it is string \n",
    "-87.8   : it is negative float number\n",
    "-       : it is an mathematical operator used for subtraction\n",
    "/       : it is an mathematical operator used for division\n",
    "+       : it is an mathematical operator used for addition\n",
    "6       : it is an integer\n",
    "\n",
    "\n",
    "Following are values in above mentioned question;\n",
    "'hello', -87.8, 6\n",
    "\n",
    "\"\"\""
   ]
  },
  {
   "cell_type": "markdown",
   "metadata": {},
   "source": [
    "### Question 2 : What is the difference between string and variable?"
   ]
  },
  {
   "cell_type": "code",
   "execution_count": 6,
   "metadata": {
    "collapsed": true
   },
   "outputs": [
    {
     "data": {
      "text/plain": [
       "\"\\nSpam   : Variable is an container, which stores information in it.\\n         Same information can be recalled using that variable name in code. Here in this case Spam is a variable.\\n\\n'spam' : String contains group of characters enclosed in quotation marks (“ “ or ‘ ‘).\\n         String is value which can be stored in a variable. Here in this case ‘spam’ is a string.\\n\\n\""
      ]
     },
     "execution_count": 6,
     "metadata": {},
     "output_type": "execute_result"
    }
   ],
   "source": [
    "# Answer:\n",
    "\n",
    "\"\"\"\n",
    "Spam   : Variable is an container, which stores information in it.\n",
    "         Same information can be recalled using that variable name in code. Here in this case Spam is a variable.\n",
    "\n",
    "'spam' : String contains group of characters enclosed in quotation marks (“ “ or ‘ ‘).\n",
    "         String is value which can be stored in a variable. Here in this case ‘spam’ is a string.\n",
    "\n",
    "\"\"\""
   ]
  },
  {
   "cell_type": "markdown",
   "metadata": {},
   "source": [
    "### Question 3 : Describe three different data forms."
   ]
  },
  {
   "cell_type": "code",
   "execution_count": 7,
   "metadata": {},
   "outputs": [
    {
     "data": {
      "text/plain": [
       "'\\n(1) String\\n(2) Integers \\n(3) Float numbers\\n'"
      ]
     },
     "execution_count": 7,
     "metadata": {},
     "output_type": "execute_result"
    }
   ],
   "source": [
    "# Answer:\n",
    "\n",
    "\"\"\"\n",
    "(1) String\n",
    "(2) Integers \n",
    "(3) Float numbers\n",
    "\"\"\""
   ]
  },
  {
   "cell_type": "markdown",
   "metadata": {},
   "source": [
    "### Question 4 : What makes up an expression? What are the functions of all expressions?"
   ]
  },
  {
   "cell_type": "code",
   "execution_count": null,
   "metadata": {},
   "outputs": [],
   "source": [
    "# Answer:\n",
    "\"\"\"\n",
    "Part 1: Expression are made up of values and operators (i.e. 1+2 or 10/5 or 3*6 these are examples of expression)\n",
    "\n",
    "Part 2 : The function of an expression is to evaluate and return a final value of the expression.\n",
    "\n",
    "\"\"\""
   ]
  },
  {
   "cell_type": "markdown",
   "metadata": {},
   "source": [
    "### Question 5 : In this chapter, assignment statements such as spam = 10 were added. What's the difference between a declaration and an expression?"
   ]
  },
  {
   "cell_type": "code",
   "execution_count": null,
   "metadata": {},
   "outputs": [],
   "source": [
    "# Answer:\n",
    "\"\"\"\n",
    "Declaration, is where we declare a value to a variable.\n",
    "Expression, is where we evaluate the multiple values to a single value\n",
    "\n",
    "\"\"\""
   ]
  },
  {
   "cell_type": "markdown",
   "metadata": {},
   "source": [
    "### Question 6 : After running the following code, what does the variable bacon contain?\n",
    "### bacon = 22 \n",
    "### bacon + 1\n"
   ]
  },
  {
   "cell_type": "code",
   "execution_count": 8,
   "metadata": {
    "collapsed": true
   },
   "outputs": [
    {
     "data": {
      "text/plain": [
       "'\\nThe variable bacon will contain value 22, as in second line of code we are not assigning the expression to\\nvariable bacon. Hence, the value of variable bacon reamins unchanged. \\n'"
      ]
     },
     "execution_count": 8,
     "metadata": {},
     "output_type": "execute_result"
    }
   ],
   "source": [
    "# Answer:\n",
    "\"\"\"\n",
    "The variable bacon will contain value 22, as in second line of code we are not assigning the expression to\n",
    "variable bacon. Hence, the value of variable bacon reamins unchanged. \n",
    "\"\"\""
   ]
  },
  {
   "cell_type": "markdown",
   "metadata": {},
   "source": [
    "### Question 7: What should the values of the following two terms be?\n",
    "### 'spam' + 'spamspam'\n",
    "### 'spam' * 3\n"
   ]
  },
  {
   "cell_type": "code",
   "execution_count": null,
   "metadata": {},
   "outputs": [],
   "source": [
    "# Answer:\n",
    "\"\"\"\n",
    "Both will have 'spamspamspam' as result.\n",
    "\"\"\""
   ]
  },
  {
   "cell_type": "markdown",
   "metadata": {},
   "source": [
    "### Question 8: Why is it that eggs is a true variable name but 100 is not?"
   ]
  },
  {
   "cell_type": "code",
   "execution_count": 9,
   "metadata": {},
   "outputs": [
    {
     "data": {
      "text/plain": [
       "'\\nTo convert to integer : int()\\nTo convert to float : float()\\nTo convert to string: str()\\n\\n'"
      ]
     },
     "execution_count": 9,
     "metadata": {},
     "output_type": "execute_result"
    }
   ],
   "source": [
    "# Answer:\n",
    "\"\"\"\n",
    "To convert to integer : int()\n",
    "To convert to float : float()\n",
    "To convert to string: str()\n",
    "\n",
    "\"\"\""
   ]
  },
  {
   "cell_type": "markdown",
   "metadata": {},
   "source": [
    "### Question 9: What is the error caused by this expression? What would you do about it?\n",
    "### 'I have eaten ' + 99 + ' burritos.'"
   ]
  },
  {
   "cell_type": "code",
   "execution_count": 11,
   "metadata": {
    "collapsed": true
   },
   "outputs": [
    {
     "data": {
      "text/plain": [
       "'\\nPart-1 : The error will be TypeError: can only concatenate str (not \"int\") to str.\\n\\nPart-2 : To resolve the error we can put the numerical value (i.e. 99) in quotation mark like,\\n         \"99\" or convert it into string using str(99)\\n\\n'"
      ]
     },
     "execution_count": 11,
     "metadata": {},
     "output_type": "execute_result"
    }
   ],
   "source": [
    "# Answer:\n",
    "\"\"\"\n",
    "Part-1 : The error will be TypeError: can only concatenate str (not \"int\") to str.\n",
    "\n",
    "Part-2 : To resolve the error we can put the numerical value (i.e. 99) in quotation mark like,\n",
    "         \"99\" or convert it into string using str(99)\n",
    "\n",
    "\"\"\""
   ]
  },
  {
   "cell_type": "code",
   "execution_count": null,
   "metadata": {},
   "outputs": [],
   "source": []
  }
 ],
 "metadata": {
  "kernelspec": {
   "display_name": "Python 3",
   "language": "python",
   "name": "python3"
  },
  "language_info": {
   "codemirror_mode": {
    "name": "ipython",
    "version": 3
   },
   "file_extension": ".py",
   "mimetype": "text/x-python",
   "name": "python",
   "nbconvert_exporter": "python",
   "pygments_lexer": "ipython3",
   "version": "3.8.5"
  }
 },
 "nbformat": 4,
 "nbformat_minor": 4
}
