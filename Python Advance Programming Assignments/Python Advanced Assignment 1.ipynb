{
 "cells": [
  {
   "cell_type": "markdown",
   "id": "ruled-malawi",
   "metadata": {},
   "source": [
    "#### Question 1. Write a function that takes a list of lists and returns the value of all of the symbols in it, where each symbol adds or takes something from the total score. Symbol values:\n",
    "    # = 5\n",
    "    O = 3\n",
    "    X = 1\n",
    "    ! = -1\n",
    "    !! = -3\n",
    "    !!! = -5\n",
    "    A list of lists containing 2 #s, a O, and a !!! would equal (0 + 5 + 5 + 3 - 5) 8.\n",
    "\n",
    "    If the final score is negative, return 0 (e.g. 3 #s, 3 !!s, 2 !!!s and a X would be \n",
    "    (0 + 5 + 5 + 5 - 3 - 3 - 3 - 5 - 5 + 1) -3, so return 0."
   ]
  },
  {
   "cell_type": "code",
   "execution_count": 1,
   "id": "resistant-segment",
   "metadata": {},
   "outputs": [
    {
     "data": {
      "text/plain": [
       "5"
      ]
     },
     "execution_count": 1,
     "metadata": {},
     "output_type": "execute_result"
    }
   ],
   "source": [
    "def check_score(l):\n",
    "    d = {\n",
    "        \"#\" : 5,\n",
    "        \"O\" : 3,\n",
    "        \"X\" : 1,\n",
    "        \"!\" : -1,\n",
    "        \"!!\" : -3,\n",
    "        \"!!!\" : -5\n",
    "    }\n",
    "    l2 = []\n",
    "\n",
    "    for i in l:\n",
    "        for j in i:\n",
    "            l2.append(d[j])\n",
    "    if sum(l2) >= 0:\n",
    "        return (sum(l2))\n",
    "    else:\n",
    "        return(0)\n",
    "\n",
    "check_score([\n",
    "    [\"!!!\", \"O\", \"!\"],\n",
    "    [\"X\", \"#\", \"!!!\"],\n",
    "    [\"!!\", \"X\", \"O\"],\n",
    "    [\"!!!\",\"X\",\"#\",\"#\"]\n",
    "    ]) \n"
   ]
  },
  {
   "cell_type": "markdown",
   "id": "needed-antenna",
   "metadata": {},
   "source": [
    "#### Question 2. Create a function that takes a variable number of arguments, each argument representing the number of items in a group, and returns the number of permutations (combinations) of items that you could get by taking one item from each group.\n",
    "\n",
    "    Examples\n",
    "\n",
    "    combinations(2, 3) ➞ 6\n",
    "\n",
    "    combinations(3, 7, 4) ➞ 84\n",
    "\n",
    "    combinations(2, 3, 4, 5) ➞ 120\n"
   ]
  },
  {
   "cell_type": "code",
   "execution_count": 2,
   "id": "metric-eleven",
   "metadata": {},
   "outputs": [
    {
     "data": {
      "text/plain": [
       "120"
      ]
     },
     "execution_count": 2,
     "metadata": {},
     "output_type": "execute_result"
    }
   ],
   "source": [
    "def combination(*args):\n",
    "    r = 1\n",
    "    for i in args:\n",
    "        r *= i\n",
    "    return r\n",
    "\n",
    "combination(2,3,4,5)"
   ]
  },
  {
   "cell_type": "markdown",
   "id": "turned-element",
   "metadata": {},
   "source": [
    "#### Question 3. Create a function that takes a string as an argument and returns the Morse code equivalent.\n",
    "\n",
    "    Examples\n",
    "\n",
    "    encode_morse(\"EDABBIT CHALLENGE\") ➞ \". -.. .- -... -... .. -   -.-. .... .- .-.. .-.. . -. --. .\"\n",
    "\n",
    "    encode_morse(\"HELP ME !\") ➞ \".... . .-.. .--.   -- .   -.-.--\"\n"
   ]
  },
  {
   "cell_type": "code",
   "execution_count": 3,
   "id": "adjustable-poker",
   "metadata": {},
   "outputs": [
    {
     "name": "stdout",
     "output_type": "stream",
     "text": [
      "Enter message to convert to morse code: Hello World\n",
      ".... . .-.. .-.. ---   .-- --- .-. .-.. -.. "
     ]
    }
   ],
   "source": [
    "def encode_morse(x):\n",
    "    '''\n",
    "    This function converts your message to morse code.\n",
    "    '''\n",
    "    char_to_dots = {\n",
    "      'A': '.-', 'B': '-...', 'C': '-.-.', 'D': '-..', 'E': '.', 'F': '..-.',\n",
    "      'G': '--.', 'H': '....', 'I': '..', 'J': '.---', 'K': '-.-', 'L': '.-..',\n",
    "      'M': '--', 'N': '-.', 'O': '---', 'P': '.--.', 'Q': '--.-', 'R': '.-.',\n",
    "      'S': '...', 'T': '-', 'U': '..-', 'V': '...-', 'W': '.--', 'X': '-..-',\n",
    "      'Y': '-.--', 'Z': '--..', ' ': ' ', '0': '-----',\n",
    "      '1': '.----', '2': '..---', '3': '...--', '4': '....-', '5': '.....',\n",
    "      '6': '-....', '7': '--...', '8': '---..', '9': '----.',\n",
    "      '&': '.-...', \"'\": '.----.', '@': '.--.-.', ')': '-.--.-', '(': '-.--.',\n",
    "      ':': '---...', ',': '--..--', '=': '-...-', '!': '-.-.--', '.': '.-.-.-',\n",
    "      '-': '-....-', '+': '.-.-.', '\"': '.-..-.', '?': '..--..', '/': '-..-.'\n",
    "    }\n",
    "\n",
    "    morse_code = []\n",
    "    for i in x.upper():\n",
    "        if i in char_to_dots.keys():\n",
    "            morse_code.append(char_to_dots[i])\n",
    "    for i in morse_code:\n",
    "        print(i,end=\" \")\n",
    "        \n",
    "message = input(\"Enter message to convert to morse code: \")\n",
    "encode_morse(message)"
   ]
  },
  {
   "cell_type": "markdown",
   "id": "stuck-portsmouth",
   "metadata": {},
   "source": [
    "#### Question 4. Write a function that takes a number and returns True if it's a prime; False otherwise. The number can be 2^64-1 (2 to the power of 63, not XOR). With the standard technique it would be O(2^64-1), which is much too large for the 10 second time limit.\n",
    "\n",
    "    Examples\n",
    "\n",
    "    prime(7) ➞ True\n",
    "\n",
    "    prime(56963) ➞ True\n",
    "\n",
    "    prime(5151512515524) ➞ False\n"
   ]
  },
  {
   "cell_type": "code",
   "execution_count": 4,
   "id": "fifth-bunny",
   "metadata": {},
   "outputs": [
    {
     "data": {
      "text/plain": [
       "True"
      ]
     },
     "execution_count": 4,
     "metadata": {},
     "output_type": "execute_result"
    }
   ],
   "source": [
    "def prime(n):\n",
    "    if (n==1):\n",
    "        return False\n",
    "    elif (n==2):\n",
    "        return True;\n",
    "    else:\n",
    "        for x in range(2,n):\n",
    "            if(n % x==0):\n",
    "                return False\n",
    "        return True             \n",
    "\n",
    "prime(999983)"
   ]
  },
  {
   "cell_type": "markdown",
   "id": "related-indicator",
   "metadata": {},
   "source": [
    "#### Question 5: .  Create a function that converts a word to a bitstring and then to a boolean list based on the following criteria:\n",
    "\n",
    "    1. Locate the position of the letter in the English alphabet (from 1 to 26).\n",
    "    2. Odd positions will be represented as 1 and 0 otherwise.\n",
    "    3. Convert the represented positions to boolean values, 1 for True and 0 for False.\n",
    "    4. Store the conversions into an array.\n"
   ]
  },
  {
   "cell_type": "code",
   "execution_count": 5,
   "id": "automotive-starter",
   "metadata": {},
   "outputs": [
    {
     "name": "stdout",
     "output_type": "stream",
     "text": [
      "Enter a letters : this is sample string\n"
     ]
    },
    {
     "data": {
      "text/plain": [
       "[False,\n",
       " False,\n",
       " True,\n",
       " True,\n",
       " True,\n",
       " True,\n",
       " True,\n",
       " True,\n",
       " True,\n",
       " False,\n",
       " False,\n",
       " True,\n",
       " True,\n",
       " False,\n",
       " False,\n",
       " True,\n",
       " False,\n",
       " True]"
      ]
     },
     "execution_count": 5,
     "metadata": {},
     "output_type": "execute_result"
    }
   ],
   "source": [
    "def to_boolean_list(s):\n",
    "    l1 = [chr(i) for i in range(97,123)]\n",
    "    l2 = [i for i in range(1,27)]\n",
    "    l3 = []\n",
    "    d1 = {k:v for k,v in zip(l1,l2)}\n",
    "    \n",
    "    for key,val in d1.items():\n",
    "        if val%2 == 0:\n",
    "            d1[key] = 0\n",
    "        else:\n",
    "            d1[key] = 1\n",
    "\n",
    "    for i in s.lower():\n",
    "        if i in d1.keys(): l3.append(bool(d1[i]))\n",
    "\n",
    "    return l3\n",
    "\n",
    "    \n",
    "string = input(\"Enter a letters : \")\n",
    "to_boolean_list(string)"
   ]
  }
 ],
 "metadata": {
  "kernelspec": {
   "display_name": "Python 3",
   "language": "python",
   "name": "python3"
  },
  "language_info": {
   "codemirror_mode": {
    "name": "ipython",
    "version": 3
   },
   "file_extension": ".py",
   "mimetype": "text/x-python",
   "name": "python",
   "nbconvert_exporter": "python",
   "pygments_lexer": "ipython3",
   "version": "3.9.2"
  }
 },
 "nbformat": 4,
 "nbformat_minor": 5
}
