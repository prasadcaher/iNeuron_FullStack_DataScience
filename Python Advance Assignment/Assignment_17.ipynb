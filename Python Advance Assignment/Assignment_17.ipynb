{
 "cells": [
  {
   "cell_type": "markdown",
   "id": "48f25c62",
   "metadata": {},
   "source": [
    "# Python Advance: Assignment 17"
   ]
  },
  {
   "cell_type": "markdown",
   "id": "fdba87a8",
   "metadata": {},
   "source": [
    "#### Q1. Explain the difference between greedy and non-greedy syntax with visual terms in as few words as possible. What is the bare minimum effort required to transform a greedy pattern into a non-greedy one? What characters or characters can you introduce or change?\n",
    "**Ans:** The Main difference between Greedy and Non Greedy Match Syntax is The Greedy Match will try to match as many repetitions of the quantified pattern as possible Whereas The Non Greedy Match will try to match as few repetitions of the quantified pattern as possible.\n",
    "\n",
    "*example*\n",
    "\n",
    "A greedy quantifier such as `?, *, +, and {m,n}` matches as many characters as possible (longest match). For example, the regex 'a+' will match as many 'a's as possible in your string 'aaaa'—even though the substrings 'a', 'aa', 'aaa' all match the regex 'a+'.\n",
    "\n",
    "Definition Non-Greedy Quantifier:\n",
    "\n",
    "A non-greedy quantifier such as `??, *?, +?, and {m,n}?` matches as few characters as possible (shortest possible match). For example, the regex 'a+?' will match as few 'a's as possible in your string 'aaaa'. Thus, it matches the first character 'a' and is done with it."
   ]
  },
  {
   "cell_type": "code",
   "execution_count": 1,
   "id": "04d4bbc1",
   "metadata": {},
   "outputs": [
    {
     "name": "stdout",
     "output_type": "stream",
     "text": [
      "['ppppppppp', '', '', '', '', '', '', '', '', '', '', '', '', '', '']\n",
      "['', 'p', '', 'p', '', 'p', '', 'p', '', 'p', '', 'p', '', '', '', '', '', '', '', '', '', '', '', '', '', '']\n"
     ]
    }
   ],
   "source": [
    "import re\n",
    "print(re.findall(\"p*\", \"ppppppppprraassaaadddd\")) # Greedy Match Synatx\n",
    "print(re.findall(\"p*?\", \"pppppprraassaaadddd\")) # Non Greddy Syntax"
   ]
  },
  {
   "cell_type": "markdown",
   "id": "c91d4a1f",
   "metadata": {},
   "source": [
    "#### Q2. When exactly does greedy versus non-greedy make a difference?  What if you're looking for a non-greedy match but the only one available is greedy?\n",
    "**Ans:** The Greedy Match will try to match as many repetitions of the quantified pattern as possible. The Non Greedy Match will try to match as few repetitions of the quantified pattern as possible. If only Non Greedy Match is available, we can use other filtering or pattern matching methods of regex and further identify the required pattern."
   ]
  },
  {
   "cell_type": "markdown",
   "id": "ab858979",
   "metadata": {},
   "source": [
    "#### Q3. In a simple match of a string, which looks only for one match and does not do any replacement, is the use of a nontagged group likely to make any practical difference?\n",
    "**Ans:** In this Case The Non Tagged Group will not make any diffrence in this case."
   ]
  },
  {
   "cell_type": "code",
   "execution_count": 3,
   "id": "66390111",
   "metadata": {},
   "outputs": [
    {
     "name": "stdout",
     "output_type": "stream",
     "text": [
      "Phone number found -> 254\n",
      "Phone number found -> 254\n"
     ]
    }
   ],
   "source": [
    "import re\n",
    "phoneNumRegex = re.compile(r'\\d\\d\\d')\n",
    "num = phoneNumRegex.search('My number is 254-568-1089.')\n",
    "print(f'Phone number found -> {num.group()}') # Non Tagged group\n",
    "print(f'Phone number found -> {num.group(0)}') # Tagged Group"
   ]
  },
  {
   "cell_type": "markdown",
   "id": "124d3ed0",
   "metadata": {},
   "source": [
    "#### Q4. Describe a scenario in which using a nontagged category would have a significant impact on the program's outcomes ?\n",
    "**Ans:** Here in the below Code Snippet **`.`** decimal is not tagged or captured. It will useful in scenarios where the separator of value in a string is of no use and we need to capture only the values."
   ]
  },
  {
   "cell_type": "code",
   "execution_count": 4,
   "id": "9f093ed2",
   "metadata": {},
   "outputs": [
    {
     "data": {
      "text/plain": [
       "('148', '625')"
      ]
     },
     "execution_count": 4,
     "metadata": {},
     "output_type": "execute_result"
    }
   ],
   "source": [
    "import re\n",
    "text='148.625'\n",
    "pattern=r'(\\d+)(?:.)(\\d+)'\n",
    "regobj=re.compile(pattern)\n",
    "matobj=regobj.search(text)\n",
    "matobj.groups()"
   ]
  },
  {
   "cell_type": "markdown",
   "id": "5a76e42a",
   "metadata": {},
   "source": [
    "#### Q5. Unlike a normal regex pattern, a look-ahead condition does not consume the characters it examines. Describe a situation in which this could make a difference in the results of your programme ?\n",
    "**Ans:**  While counting the number of multiple lines or mutiple sentence in a string the positive look ahead makes a difference, without which we wont get the correct count of lines or sentences in a string."
   ]
  },
  {
   "cell_type": "markdown",
   "id": "5a6e0d8f",
   "metadata": {},
   "source": [
    "#### Q6. In standard expressions, what is the difference between positive look-ahead and negative look-ahead ?\n",
    "**Ans:** Positive Lookahead allows to add a condition for **what follows**. Negative Lookahead is similar, but it looks behind. That is, it allows to match a pattern only if there’s something before it."
   ]
  },
  {
   "cell_type": "markdown",
   "id": "954d327f",
   "metadata": {},
   "source": [
    "#### Q7. What is the benefit of referring to groups by name rather than by number in a standard expression?\n",
    "**Ans:** Referring to groups by name rather than by number in a standard expression helps to keep the code clear and easy to understand."
   ]
  },
  {
   "cell_type": "markdown",
   "id": "6f73ee77",
   "metadata": {},
   "source": [
    "#### Q8. Can you identify repeated items within a target string using named groups, as in \"The cow jumped over the moon\"?"
   ]
  },
  {
   "cell_type": "code",
   "execution_count": 5,
   "id": "c68dfa21",
   "metadata": {},
   "outputs": [
    {
     "data": {
      "text/plain": [
       "['The', 'the']"
      ]
     },
     "execution_count": 5,
     "metadata": {},
     "output_type": "execute_result"
    }
   ],
   "source": [
    "import re\n",
    "text = \"The cow jumped over the moon\"\n",
    "regobj=re.compile(r'(?P<w1>The)',re.I)\n",
    "regobj.findall(text)"
   ]
  },
  {
   "cell_type": "markdown",
   "id": "a2f7c46f",
   "metadata": {},
   "source": [
    "#### Q9. When parsing a string, what is at least one thing that the Scanner interface does for you that the re.findall feature does not ?\n",
    "**Ans:**   `re.Scanner` returns regex match objects\n",
    "\n",
    "In contrast `re.findall()` method returns a list of strings. Each string element is a matching substring of the string argument."
   ]
  },
  {
   "cell_type": "code",
   "execution_count": 6,
   "id": "8e9c4d58",
   "metadata": {},
   "outputs": [
    {
     "name": "stdout",
     "output_type": "stream",
     "text": [
      "[(<TokenType.integer: 1>, 1024),\n",
      " (<TokenType.float: 2>, 3.14),\n",
      " (<TokenType.string: 4>, 'hello world!'),\n",
      " (<TokenType.control: 5>, '{'),\n",
      " (<TokenType.bool: 3>, True),\n",
      " (<TokenType.string: 4>, 'foobar2000'),\n",
      " (<TokenType.control: 5>, '}')]\n"
     ]
    }
   ],
   "source": [
    "import re\n",
    "from pprint import pprint\n",
    "from enum import Enum  # The enums are evaluatable string representation of an object also called repr().\n",
    "\n",
    "class TokenType(Enum):\n",
    "    integer = 1\n",
    "    float = 2\n",
    "    bool = 3\n",
    "    string = 4\n",
    "    control = 5\n",
    "\n",
    "# note: order is important! most generic patterns always go to the bottom\n",
    "scanner = re.Scanner([\n",
    "    (r\"[{}]\", lambda s, t:(TokenType.control, t)),\n",
    "    (r\"\\d+\\.\\d*\", lambda s, t:(TokenType.float, float(t))),\n",
    "    (r\"\\d+\", lambda s, t:(TokenType.integer, int(t))),\n",
    "    (r\"true|false+\", lambda s, t:(TokenType.bool, t == \"true\")),\n",
    "    (r\"'[^']+'\", lambda s, t:(TokenType.string, t[1:-1])),\n",
    "    (r\"\\w+\", lambda s, t:(TokenType.string, t)),\n",
    "    (r\".\", lambda s, t: None), # ignore unmatched parts\n",
    "])\n",
    "\n",
    "input = \"1024 3.14 'hello world!' { true foobar2000 } []\"\n",
    "\n",
    "# \"unknown\" contains unmatched text, check it for error handling\n",
    "tokens, unknown = scanner.scan(input)\n",
    "\n",
    "pprint(tokens)"
   ]
  },
  {
   "cell_type": "markdown",
   "id": "0b65593b",
   "metadata": {},
   "source": [
    "#### Q10. Does a scanner object have to be named scanner?\n",
    "**Ans:** No, It can be given any name."
   ]
  }
 ],
 "metadata": {
  "kernelspec": {
   "display_name": "Python 3 (ipykernel)",
   "language": "python",
   "name": "python3"
  },
  "language_info": {
   "codemirror_mode": {
    "name": "ipython",
    "version": 3
   },
   "file_extension": ".py",
   "mimetype": "text/x-python",
   "name": "python",
   "nbconvert_exporter": "python",
   "pygments_lexer": "ipython3",
   "version": "3.9.7"
  }
 },
 "nbformat": 4,
 "nbformat_minor": 5
}
