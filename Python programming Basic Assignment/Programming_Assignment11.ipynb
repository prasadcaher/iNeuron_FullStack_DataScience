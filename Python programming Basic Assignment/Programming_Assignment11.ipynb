{
 "cells": [
  {
   "cell_type": "markdown",
   "id": "0f5d9cb7",
   "metadata": {},
   "source": [
    "# Python Programming Basic Assignment - 11\n",
    "## Submitted by Prasad Aher"
   ]
  },
  {
   "cell_type": "markdown",
   "id": "9a593801",
   "metadata": {},
   "source": [
    "### Question 1.\tWrite a Python program to find words which are greater than given length k?"
   ]
  },
  {
   "cell_type": "code",
   "execution_count": 1,
   "id": "f86d390a",
   "metadata": {},
   "outputs": [
    {
     "name": "stdout",
     "output_type": "stream",
     "text": [
      "Enter a string : Prasad Chintaman Aher\n",
      "Enter the length K : 4\n",
      "\n",
      "The original string 'Prasad Chintaman Aher'\n",
      "\n",
      "\n",
      "Words which are greater than length 4\n",
      "['Prasad', 'Chintaman']\n"
     ]
    }
   ],
   "source": [
    "def big_words(k,st):\n",
    "    t = st.split()\n",
    "    words = []\n",
    "    for i in t:\n",
    "        if len(i) > k:\n",
    "            words.append(i)\n",
    "    return words\n",
    "\n",
    "st = input(\"Enter a string : \")\n",
    "k = int(input(\"Enter the length K : \"))\n",
    "\n",
    "listword = big_words(k,st)\n",
    "\n",
    "print(f\"\\nThe original string '{st}'\")\n",
    "\n",
    "print(f\"\\n\\nWords which are greater than length {k}\")\n",
    "print(listword)\n",
    " "
   ]
  },
  {
   "cell_type": "markdown",
   "id": "e9ada767",
   "metadata": {},
   "source": [
    "### Question 2.\tWrite a Python program for removing i-th character from a string?"
   ]
  },
  {
   "cell_type": "code",
   "execution_count": 2,
   "id": "dc080737",
   "metadata": {},
   "outputs": [
    {
     "name": "stdout",
     "output_type": "stream",
     "text": [
      "Enter the string : praasad\n",
      "Enter the index : 3\n",
      "The new string :  prasad\n"
     ]
    }
   ],
   "source": [
    "# Removes character at index i\n",
    "def remove_char(s, i):\n",
    "    for j in range(len(s)):\n",
    "        if j == i:\n",
    "            s = s.replace(s[i], \"\", 1)\n",
    "    return s\n",
    "\n",
    "s = input(\"Enter the string : \")\n",
    "i = int(input(\"Enter the index : \"))      \n",
    "\n",
    "# Print the new string\n",
    "\n",
    "print(\"The new string : \", remove_char(s, i))"
   ]
  },
  {
   "cell_type": "markdown",
   "id": "804cffee",
   "metadata": {},
   "source": [
    "### Question 3.\tWrite a Python program to split and join a string?"
   ]
  },
  {
   "cell_type": "code",
   "execution_count": 3,
   "id": "f3f019c7",
   "metadata": {},
   "outputs": [
    {
     "name": "stdout",
     "output_type": "stream",
     "text": [
      "Spliting a string :  ['this', 'is', 'a', 'string']\n",
      "Joining a string :  this-is-a-string\n"
     ]
    }
   ],
   "source": [
    "s1 = \"this is a string\"\n",
    "s1 = s1.split(\" \") # str is converted to a list of strings. \n",
    "print(\"Spliting a string : \",s1)\n",
    "\n",
    "s2 = \"-\".join(s1)\n",
    "print(\"Joining a string : \",s2)\n"
   ]
  },
  {
   "cell_type": "markdown",
   "id": "5a4c9735",
   "metadata": {},
   "source": [
    "### Question 4.\tWrite a Python to check if a given string is binary string or not?"
   ]
  },
  {
   "cell_type": "code",
   "execution_count": 4,
   "id": "06cd6148",
   "metadata": {},
   "outputs": [
    {
     "name": "stdout",
     "output_type": "stream",
     "text": [
      "Enter the string : 010101\n",
      "Its a Binary\n"
     ]
    }
   ],
   "source": [
    "def checkBinary(s):\n",
    "    binary = '01'\n",
    "    for i in range(len(s)):\n",
    "        if s[i] not in binary:\n",
    "            print('Not Binary')\n",
    "            break\n",
    "    else:\n",
    "        print('Its a Binary')\n",
    "        \n",
    "s = input(\"Enter the string : \")\n",
    "checkBinary(s)"
   ]
  },
  {
   "cell_type": "markdown",
   "id": "1d6ad14d",
   "metadata": {},
   "source": [
    "### Question 5.\tWrite a Python program to find uncommon words from two Strings?"
   ]
  },
  {
   "cell_type": "code",
   "execution_count": 5,
   "id": "4cc55fb0",
   "metadata": {},
   "outputs": [
    {
     "name": "stdout",
     "output_type": "stream",
     "text": [
      "Enter the string a : this is string one, ok\n",
      "Enter the string b : this is string two\n",
      "The list of uncommon words :  one, ok two\n"
     ]
    }
   ],
   "source": [
    "def unCommon(a,b):\n",
    "    list_a = a.split()\n",
    "    list_b = b.split()\n",
    "    x =''\n",
    "    \n",
    "    for i in list_a:\n",
    "        if i not in list_b:\n",
    "            x = x +\" \"+ i\n",
    "    for j in list_b:\n",
    "        if j not in list_a:\n",
    "            x = x +\" \"+ j\n",
    "    return x\n",
    "\n",
    "a = input(\"Enter the string a : \").lower()\n",
    "b = input(\"Enter the string b : \").lower()\n",
    "\n",
    "print(f\"The list of uncommon words : {unCommon(a,b)}\")           "
   ]
  },
  {
   "cell_type": "markdown",
   "id": "f31c8997",
   "metadata": {},
   "source": [
    "### Question 6.\tWrite a Python to find all duplicate characters in string?"
   ]
  },
  {
   "cell_type": "code",
   "execution_count": 6,
   "id": "fc165b00",
   "metadata": {},
   "outputs": [
    {
     "name": "stdout",
     "output_type": "stream",
     "text": [
      "Enter a string : Hello World\n"
     ]
    },
    {
     "data": {
      "text/plain": [
       "\"All duplicate characters in the given string are: ['l', 'o']\""
      ]
     },
     "execution_count": 6,
     "metadata": {},
     "output_type": "execute_result"
    }
   ],
   "source": [
    "def duplicates(s):\n",
    "    duplicate = []\n",
    "    for i in s:\n",
    "        if s.count(i) > 1 :\n",
    "            if i not in duplicate:\n",
    "                duplicate.append(i)\n",
    "\n",
    "    return f\"All duplicate characters in the given string are: {duplicate}\"\n",
    "\n",
    "s = input(\"Enter a string : \").lower()\n",
    "duplicates(s)"
   ]
  },
  {
   "cell_type": "markdown",
   "id": "f4479784",
   "metadata": {},
   "source": [
    "### Question 7.\tWrite a Python Program to check if a string contains any special character?"
   ]
  },
  {
   "cell_type": "code",
   "execution_count": 7,
   "id": "c1868da0",
   "metadata": {},
   "outputs": [
    {
     "name": "stdout",
     "output_type": "stream",
     "text": [
      "Enter the string a : asd@cab.com\n",
      "String asd@cab.com has special characters's : ['@', '.']\n"
     ]
    }
   ],
   "source": [
    "def check_spc_char(s):\n",
    "    import string\n",
    "    string_char = string.punctuation\n",
    "    spChar = []\n",
    "    for i in s:\n",
    "        if i in string_char:\n",
    "            spChar.append(i)\n",
    "    if len(spChar) > 0:\n",
    "        print(f\"String {s} has special characters\\'s : {spChar}\")\n",
    "\n",
    "str = input(\"Enter the string a : \").lower()\n",
    "\n",
    "check_spc_char(str)        \n"
   ]
  }
 ],
 "metadata": {
  "kernelspec": {
   "display_name": "Python 3",
   "language": "python",
   "name": "python3"
  },
  "language_info": {
   "codemirror_mode": {
    "name": "ipython",
    "version": 3
   },
   "file_extension": ".py",
   "mimetype": "text/x-python",
   "name": "python",
   "nbconvert_exporter": "python",
   "pygments_lexer": "ipython3",
   "version": "3.8.8"
  }
 },
 "nbformat": 4,
 "nbformat_minor": 5
}
