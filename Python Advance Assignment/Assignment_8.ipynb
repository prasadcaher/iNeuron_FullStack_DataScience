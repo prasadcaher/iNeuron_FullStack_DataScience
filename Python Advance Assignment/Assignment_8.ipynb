{
 "cells": [
  {
   "cell_type": "markdown",
   "metadata": {},
   "source": [
    "<h1 style='text-align:center'>Python Advance : Assignment - 8</h1>\n",
    "\n",
    "<h3 style='text-align:center'> Submitted by Prasad Aher </h3>\n",
    "<br>"
   ]
  },
  {
   "cell_type": "markdown",
   "metadata": {},
   "source": [
    "### Question 1 : What are the two latest user-defined exception constraints in Python 3.X?"
   ]
  },
  {
   "cell_type": "code",
   "execution_count": 1,
   "metadata": {},
   "outputs": [
    {
     "data": {
      "text/plain": [
       "'\\nIn 3.X, exceptions must be defined by classes (that is, a class instance object is\\nraised and caught). In addition, exception classes must be derived from the builtin\\nclass BaseException; most programs inherit from its Exception subclass, to support\\ncatchall handlers for normal kinds of exceptions.\\n'"
      ]
     },
     "execution_count": 1,
     "metadata": {},
     "output_type": "execute_result"
    }
   ],
   "source": [
    "# Answer : \n",
    "\"\"\"\n",
    "In 3.X, exceptions must be defined by classes (that is, a class instance object is\n",
    "raised and caught). In addition, exception classes must be derived from the builtin\n",
    "class BaseException; most programs inherit from its Exception subclass, to support\n",
    "catchall handlers for normal kinds of exceptions.\n",
    "\"\"\""
   ]
  },
  {
   "cell_type": "markdown",
   "metadata": {},
   "source": [
    "### Question 2 : How are class-based exceptions that have been raised matched to handlers?"
   ]
  },
  {
   "cell_type": "code",
   "execution_count": 2,
   "metadata": {},
   "outputs": [
    {
     "data": {
      "text/plain": [
       "'\\nClass-based exceptions match by superclass relationships: naming a superclass in\\nan exception handler will catch instances of that class, as well as instances of any\\nof its subclasses lower in the class tree. Because of this, you can think of superclasses\\nas general exception categories and subclasses as more specific types of exceptions\\nwithin those categories.\\n'"
      ]
     },
     "execution_count": 2,
     "metadata": {},
     "output_type": "execute_result"
    }
   ],
   "source": [
    "# Answer : \n",
    "\"\"\"\n",
    "Class-based exceptions match by superclass relationships: naming a superclass in\n",
    "an exception handler will catch instances of that class, as well as instances of any\n",
    "of its subclasses lower in the class tree. Because of this, you can think of superclasses\n",
    "as general exception categories and subclasses as more specific types of exceptions\n",
    "within those categories.\n",
    "\"\"\""
   ]
  },
  {
   "cell_type": "markdown",
   "metadata": {},
   "source": [
    "### Question 3 : Describe two methods for attaching context information to exception artefacts."
   ]
  },
  {
   "cell_type": "code",
   "execution_count": 3,
   "metadata": {},
   "outputs": [
    {
     "data": {
      "text/plain": [
       "'\\nYou can attach context information to class-based exceptions by filling out instance\\nattributes in the instance object raised, usually in a custom class constructor. For\\nsimpler needs, built-in exception superclasses provide a constructor that stores its\\narguments on the instance automatically (as a tuple in the attribute args). In exception\\nhandlers, you list a variable to be assigned to the raised instance, then go\\nthrough this name to access attached state information and call any methods defined\\nin the class.\\n'"
      ]
     },
     "execution_count": 3,
     "metadata": {},
     "output_type": "execute_result"
    }
   ],
   "source": [
    "# Answer: \n",
    "\"\"\"\n",
    "You can attach context information to class-based exceptions by filling out instance\n",
    "attributes in the instance object raised, usually in a custom class constructor. For\n",
    "simpler needs, built-in exception superclasses provide a constructor that stores its\n",
    "arguments on the instance automatically (as a tuple in the attribute args). In exception\n",
    "handlers, you list a variable to be assigned to the raised instance, then go\n",
    "through this name to access attached state information and call any methods defined\n",
    "in the class.\n",
    "\"\"\""
   ]
  },
  {
   "cell_type": "markdown",
   "metadata": {},
   "source": [
    "### Question 4 : Describe two methods for specifying the text of an exception object's error message."
   ]
  },
  {
   "cell_type": "code",
   "execution_count": 4,
   "metadata": {},
   "outputs": [
    {
     "data": {
      "text/plain": [
       "'\\nThe error message text in class-based exceptions can be specified with a custom\\n__str__ operator overloading method. For simpler needs, built-in exception superclasses\\nautomatically display anything you pass to the class constructor. Operations\\nlike print and str automatically fetch the display string of an exception\\nobject when it is printed either explicitly or as part of an error message.\\n'"
      ]
     },
     "execution_count": 4,
     "metadata": {},
     "output_type": "execute_result"
    }
   ],
   "source": [
    "# Answer :\n",
    "\"\"\"\n",
    "The error message text in class-based exceptions can be specified with a custom\n",
    "__str__ operator overloading method. For simpler needs, built-in exception superclasses\n",
    "automatically display anything you pass to the class constructor. Operations\n",
    "like print and str automatically fetch the display string of an exception\n",
    "object when it is printed either explicitly or as part of an error message.\n",
    "\"\"\""
   ]
  },
  {
   "cell_type": "markdown",
   "metadata": {},
   "source": [
    "### Question 5 : Why do you no longer use string-based exceptions?"
   ]
  },
  {
   "cell_type": "code",
   "execution_count": 10,
   "metadata": {},
   "outputs": [
    {
     "data": {
      "text/plain": [
       "'\\nThe with/as statement is designed to automate startup and termination activities\\nthat must occur around a block of code.\\n'"
      ]
     },
     "execution_count": 10,
     "metadata": {},
     "output_type": "execute_result"
    }
   ],
   "source": [
    "# Answer :\n",
    "\"\"\"\n",
    "string-based exceptions did not support\n",
    "categories, state information, or behavior inheritance in the way class-based exceptions\n",
    "do. In practice, this made string-based exceptions easier to use at first\n",
    "when programs were small, but more complex to use as programs grew larger\n",
    "\"\"\""
   ]
  }
 ],
 "metadata": {
  "kernelspec": {
   "display_name": "Python 3",
   "language": "python",
   "name": "python3"
  },
  "language_info": {
   "codemirror_mode": {
    "name": "ipython",
    "version": 3
   },
   "file_extension": ".py",
   "mimetype": "text/x-python",
   "name": "python",
   "nbconvert_exporter": "python",
   "pygments_lexer": "ipython3",
   "version": "3.8.5"
  }
 },
 "nbformat": 4,
 "nbformat_minor": 4
}
