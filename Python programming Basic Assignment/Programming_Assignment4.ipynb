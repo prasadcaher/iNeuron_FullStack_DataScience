{
 "cells": [
  {
   "cell_type": "markdown",
   "id": "multiple-thousand",
   "metadata": {},
   "source": [
    "# Python Programming Basic Assignment - 4\n",
    "## Submitted by Prasad Aher"
   ]
  },
  {
   "cell_type": "markdown",
   "id": "nutritional-generator",
   "metadata": {},
   "source": [
    "### Question 1 : Write a Python Program to Find the Factorial of a Number?"
   ]
  },
  {
   "cell_type": "code",
   "execution_count": 1,
   "id": "imperial-wellington",
   "metadata": {},
   "outputs": [
    {
     "name": "stdout",
     "output_type": "stream",
     "text": [
      "Enter a number to find factorial : 50\n",
      "Factorial of 50 is : 30414093201713378043612608166064768844377641568960512000000000000\n"
     ]
    }
   ],
   "source": [
    "n = int(input(\"Enter a number to find factorial : \"))\n",
    "c = 1\n",
    "for i in range (1,n+1):\n",
    "    c = i*c\n",
    "\n",
    "print(f\"Factorial of {n} is : {c}\")"
   ]
  },
  {
   "cell_type": "markdown",
   "id": "convinced-crazy",
   "metadata": {},
   "source": [
    "### Question 2 : Write a Python Program to Display the multiplication Table?"
   ]
  },
  {
   "cell_type": "code",
   "execution_count": 2,
   "id": "conventional-toolbox",
   "metadata": {},
   "outputs": [
    {
     "name": "stdout",
     "output_type": "stream",
     "text": [
      "Enter a number : 17\n",
      "Multiplication Table for 17 is : \n",
      "17 x 1 = 17\n",
      "17 x 2 = 34\n",
      "17 x 3 = 51\n",
      "17 x 4 = 68\n",
      "17 x 5 = 85\n",
      "17 x 6 = 102\n",
      "17 x 7 = 119\n",
      "17 x 8 = 136\n",
      "17 x 9 = 153\n",
      "17 x 10 = 170\n"
     ]
    }
   ],
   "source": [
    "a = int(input(\"Enter a number : \"))\n",
    "print(f\"Multiplication Table for {a} is : \")\n",
    "for i in range (1,11):\n",
    "    print(f\"{a} x {i} = {a*i}\")"
   ]
  },
  {
   "cell_type": "markdown",
   "id": "played-myanmar",
   "metadata": {},
   "source": [
    "### Question 3 : Write a Python Program to Print the Fibonacci sequence?"
   ]
  },
  {
   "cell_type": "code",
   "execution_count": 3,
   "id": "rational-algorithm",
   "metadata": {},
   "outputs": [
    {
     "name": "stdout",
     "output_type": "stream",
     "text": [
      "Enter range to view Fibonacci Sequence upto : 10\n",
      "The Fibonacci Sequence upto 10 is :\n",
      "0\n",
      "1\n",
      "1\n",
      "2\n",
      "3\n",
      "5\n",
      "8\n",
      "13\n",
      "21\n",
      "34\n",
      "55\n"
     ]
    }
   ],
   "source": [
    "a,b = 0 ,1\n",
    "c = [a,b]\n",
    "n = int(input(\"Enter range to view Fibonacci Sequence upto : \"))\n",
    "for i in range (1,n):\n",
    "   j = a+b\n",
    "   c.append(j)\n",
    "   a = b\n",
    "   b = j\n",
    "print(f\"The Fibonacci Sequence upto {n} is :\")\n",
    "for i in c:\n",
    "    print(i)"
   ]
  },
  {
   "cell_type": "markdown",
   "id": "blind-incident",
   "metadata": {},
   "source": [
    "### Question 4: Write a Python Program to Check Armstrong Number?"
   ]
  },
  {
   "cell_type": "code",
   "execution_count": 4,
   "id": "informal-burner",
   "metadata": {},
   "outputs": [
    {
     "name": "stdout",
     "output_type": "stream",
     "text": [
      "Enter a number: 1634\n",
      "1634 is an Armstrong Number\n"
     ]
    }
   ],
   "source": [
    "n = int(input(\"Enter a number: \"))\n",
    "t = 0 # Temp variable to store order of individual number\n",
    "r = 0\n",
    "l = len(str(n))\n",
    "\n",
    "for i in str(n):\n",
    "    t = int(i)**l\n",
    "    r += t\n",
    "if n == r:\n",
    "    print(f\"{n} is an Armstrong Number\")\n",
    "else:\n",
    "    print(f\"{n} is not an Armstrong Number\")\n",
    "    "
   ]
  },
  {
   "cell_type": "markdown",
   "id": "killing-desperate",
   "metadata": {},
   "source": [
    "### Question 5 : Write a Python Program to Find Armstrong Number in an Interval?"
   ]
  },
  {
   "cell_type": "code",
   "execution_count": 5,
   "id": "systematic-corruption",
   "metadata": {},
   "outputs": [
    {
     "name": "stdout",
     "output_type": "stream",
     "text": [
      "Enter Start point : 10\n",
      "Enter End point : 250000\n",
      "153\n",
      "370\n",
      "371\n",
      "407\n",
      "1634\n",
      "8208\n",
      "9474\n",
      "54748\n",
      "92727\n",
      "93084\n"
     ]
    }
   ],
   "source": [
    "start = int(input(\"Enter Start point : \"))\n",
    "end = int(input(\"Enter End point : \"))\n",
    "if start < 10:\n",
    "    print(\"Start point should be greater than 9\")\n",
    "elif end <= 150:\n",
    "    print(\"There are no Armstrong Numbers in given Range\")\n",
    "else:\n",
    "    for i in range(start,end+1):\n",
    "        l = len(str(i))\n",
    "        temp = 0\n",
    "        for j in str(i):\n",
    "            temp += int(j)**l\n",
    "        if i == temp:\n",
    "            print(i)"
   ]
  },
  {
   "cell_type": "markdown",
   "id": "limited-beach",
   "metadata": {},
   "source": [
    "### Question 6 : Write a Python Program to Find the Sum of Natural Numbers?"
   ]
  },
  {
   "cell_type": "code",
   "execution_count": 6,
   "id": "organizational-canyon",
   "metadata": {},
   "outputs": [
    {
     "name": "stdout",
     "output_type": "stream",
     "text": [
      "Enter a number: 25\n",
      "The Sum of Natural Numbers from 0 to 25 is : 325\n"
     ]
    }
   ],
   "source": [
    "n = int(input(\"Enter a number: \"))\n",
    "s = 0\n",
    "if n < 0 :\n",
    "    print(f\"{n} is not a natural number.\")\n",
    "else:\n",
    "    for i in range(0,n+1):\n",
    "        s+=i\n",
    "\n",
    "    print(f\"The Sum of Natural Numbers from 0 to {n} is : {s}\")"
   ]
  }
 ],
 "metadata": {
  "kernelspec": {
   "display_name": "Python 3",
   "language": "python",
   "name": "python3"
  },
  "language_info": {
   "codemirror_mode": {
    "name": "ipython",
    "version": 3
   },
   "file_extension": ".py",
   "mimetype": "text/x-python",
   "name": "python",
   "nbconvert_exporter": "python",
   "pygments_lexer": "ipython3",
   "version": "3.9.2"
  }
 },
 "nbformat": 4,
 "nbformat_minor": 5
}
