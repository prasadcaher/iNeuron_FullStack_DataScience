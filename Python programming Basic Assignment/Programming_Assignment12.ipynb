{
 "cells": [
  {
   "cell_type": "markdown",
   "id": "0f5d9cb7",
   "metadata": {},
   "source": [
    "# Python Programming Basic Assignment - 12\n",
    "## Submitted by Prasad Aher"
   ]
  },
  {
   "cell_type": "markdown",
   "id": "9a593801",
   "metadata": {},
   "source": [
    "### Question 1.\tWrite a Python program to Extract Unique values dictionary values?"
   ]
  },
  {
   "cell_type": "code",
   "execution_count": 2,
   "id": "f86d390a",
   "metadata": {},
   "outputs": [
    {
     "name": "stdout",
     "output_type": "stream",
     "text": [
      "unique value from dictionry values are : {1, 5, 6, 8, 74, 10, 12, 11, 15, 81, 26}\n"
     ]
    }
   ],
   "source": [
    "test_dict = {'a' : [15, 26, 74, 81],\n",
    "             'b' : [1, 12, 5, 12],\n",
    "             'c' : [6, 15, 10, 8],\n",
    "             'd' : [11, 26, 5,8]}\n",
    "\n",
    "lstSet = set([ele for val in test_dict.values() for ele in val])\n",
    "print(\"unique value from dictionry values are : {}\".format(lstSet))\n",
    "        "
   ]
  },
  {
   "cell_type": "markdown",
   "id": "e9ada767",
   "metadata": {},
   "source": [
    "### Question 2.\tWrite a Python program to find the sum of all items in a dictionary?"
   ]
  },
  {
   "cell_type": "code",
   "execution_count": 4,
   "id": "dc080737",
   "metadata": {},
   "outputs": [
    {
     "name": "stdout",
     "output_type": "stream",
     "text": [
      "Sum of all items is : 179\n"
     ]
    }
   ],
   "source": [
    "test_dict = {'a' : 12,\n",
    "             'b' : 9,\n",
    "             'c' : 8,\n",
    "             'd' : 150}\n",
    "\n",
    "sum = 0\n",
    "for i in test_dict.values():\n",
    "    sum += i\n",
    "print(\"Sum of all items is : {}\".format(sum))"
   ]
  },
  {
   "cell_type": "markdown",
   "id": "804cffee",
   "metadata": {},
   "source": [
    "### Question 3.\tWrite a Python program to Merging two Dictionaries?"
   ]
  },
  {
   "cell_type": "code",
   "execution_count": 5,
   "id": "f3f019c7",
   "metadata": {},
   "outputs": [
    {
     "name": "stdout",
     "output_type": "stream",
     "text": [
      "Merged dictionary : {'name': 'Prasad Aher', 'city': 'Pune', 'age': 35, 'height': 180}\n"
     ]
    }
   ],
   "source": [
    "a = { 'name': \"Prasad Aher\", 'city': \"Pune\"}\n",
    "b = { 'age': 35, 'height': 180}\n",
    "temp = a.copy()\n",
    "temp.update(b)\n",
    "print(f'Merged dictionary : {temp}')"
   ]
  },
  {
   "cell_type": "markdown",
   "id": "5a4c9735",
   "metadata": {},
   "source": [
    "### Question 4.\tWrite a Python program to convert key-values list to flat dictionary?"
   ]
  },
  {
   "cell_type": "code",
   "execution_count": 6,
   "id": "06cd6148",
   "metadata": {},
   "outputs": [
    {
     "name": "stdout",
     "output_type": "stream",
     "text": [
      "Flat dictionary : {1: 'One', 2: 'Two', 3: 'Three', 4: 'Four', 5: 'Five'}\n"
     ]
    }
   ],
   "source": [
    "test_dict = {'num' : [1, 2, 3, 4, 5],\n",
    "             'words' : ['One', 'Two', 'Three', 'Four', 'Five']}\n",
    "  \n",
    "result = dict(zip(test_dict['num'], test_dict['words']))\n",
    "  \n",
    "# printing result \n",
    "print(f\"Flat dictionary : {result}\") "
   ]
  },
  {
   "cell_type": "markdown",
   "id": "1d6ad14d",
   "metadata": {},
   "source": [
    "### Question 5.\tWrite a Python program to insertion at the beginning in OrderedDict?"
   ]
  },
  {
   "cell_type": "code",
   "execution_count": 7,
   "id": "4cc55fb0",
   "metadata": {},
   "outputs": [
    {
     "name": "stdout",
     "output_type": "stream",
     "text": [
      "Ordered Dictionary after insertion : OrderedDict([('One', '1'), ('Two', '2'), ('Three', '3')])\n"
     ]
    }
   ],
   "source": [
    "from collections import OrderedDict\n",
    "  \n",
    "iniordered_dict = OrderedDict([('Two', '2'), ('Three', '3')])\n",
    "iniordered_dict.update({'One':'1'})\n",
    "iniordered_dict.move_to_end('One', last = False)\n",
    "  \n",
    "print (\"Ordered Dictionary after insertion : \"+str(iniordered_dict))"
   ]
  },
  {
   "cell_type": "markdown",
   "id": "f31c8997",
   "metadata": {},
   "source": [
    "### Question 6.\tWrite a Python program to check order of character in string using OrderedDict()?"
   ]
  },
  {
   "cell_type": "code",
   "execution_count": 11,
   "id": "fc165b00",
   "metadata": {},
   "outputs": [
    {
     "name": "stdout",
     "output_type": "stream",
     "text": [
      "true\n"
     ]
    }
   ],
   "source": [
    "from collections import OrderedDict \n",
    "  \n",
    "def checkOrder(input, pattern): \n",
    "    dict = OrderedDict.fromkeys(input) \n",
    "    ptrlen = 0\n",
    "    for key,value in dict.items(): \n",
    "        if (key == pattern[ptrlen]): \n",
    "            ptrlen = ptrlen + 1\n",
    "\n",
    "        if (ptrlen == (len(pattern))): \n",
    "            return 'true'\n",
    "    return 'false'\n",
    "\n",
    "if __name__ == \"__main__\": \n",
    "    input = 'legendary'\n",
    "    pattern = 'len'\n",
    "    print (checkOrder(input,pattern))"
   ]
  },
  {
   "cell_type": "markdown",
   "id": "f4479784",
   "metadata": {},
   "source": [
    "### Question 7.\tWrite a Python program to sort Python Dictionaries by Key or Value?"
   ]
  },
  {
   "cell_type": "code",
   "execution_count": 12,
   "id": "c1868da0",
   "metadata": {},
   "outputs": [
    {
     "name": "stdout",
     "output_type": "stream",
     "text": [
      "d: dog\n",
      "e: elephant\n",
      "w: wool\n",
      "y: yak\n",
      "z: zebra\n"
     ]
    }
   ],
   "source": [
    "di = {'z':'zebra',\n",
    "      'y':'yak',\n",
    "      'w':'wool',\n",
    "      'd':'dog',\n",
    "      'e': 'elephant'}\n",
    "\n",
    "for key in sorted(di):\n",
    "    print(f\"{key}: {di[key]}\")"
   ]
  }
 ],
 "metadata": {
  "kernelspec": {
   "display_name": "Python 3",
   "language": "python",
   "name": "python3"
  },
  "language_info": {
   "codemirror_mode": {
    "name": "ipython",
    "version": 3
   },
   "file_extension": ".py",
   "mimetype": "text/x-python",
   "name": "python",
   "nbconvert_exporter": "python",
   "pygments_lexer": "ipython3",
   "version": "3.8.8"
  }
 },
 "nbformat": 4,
 "nbformat_minor": 5
}
