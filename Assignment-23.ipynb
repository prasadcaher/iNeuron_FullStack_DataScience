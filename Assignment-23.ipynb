{
 "cells": [
  {
   "cell_type": "markdown",
   "metadata": {},
   "source": [
    "<h1 style='text-align:center'>Python Basics : Assignment - 23</h1>\n",
    "\n",
    "<h3 style='text-align:center'> Submitted by Prasad Aher </h3>\n",
    "<br>"
   ]
  },
  {
   "cell_type": "markdown",
   "metadata": {},
   "source": [
    "### Question 1 : What is the result of the code, and why?\n",
    "\n",
    "    >>> def func(a, b=6, c=8):\n",
    "    print(a, b, c)\n",
    "    >>> func(1, 2)\n"
   ]
  },
  {
   "cell_type": "code",
   "execution_count": 1,
   "metadata": {},
   "outputs": [
    {
     "name": "stdout",
     "output_type": "stream",
     "text": [
      "1 2 8\n"
     ]
    }
   ],
   "source": [
    "def func(a, b=6, c=8):\n",
    "    print(a, b, c)\n",
    "func(1, 2)\n"
   ]
  },
  {
   "cell_type": "code",
   "execution_count": 2,
   "metadata": {},
   "outputs": [
    {
     "data": {
      "text/plain": [
       "\"\\nIn the above code, we are declaring 3 inputs (i.e. a,b,c) to the function, and we are assiging default values to 'b' & 'c'.\\nSo when the function is called by passing 2 values, first value is assigned to 'a' second value is assigned to 'b',\\nwhen we dont pass third value the function by default takes value of 'c', which was given while creating the function.\\n\""
      ]
     },
     "execution_count": 2,
     "metadata": {},
     "output_type": "execute_result"
    }
   ],
   "source": [
    "# Answer : \n",
    "\"\"\"\n",
    "In the above code, we are declaring 3 inputs (i.e. a,b,c) to the function, and we are assiging default values to 'b' & 'c'.\n",
    "So when the function is called by passing 2 values, first value is assigned to 'a' second value is assigned to 'b',\n",
    "when we dont pass third value the function by default takes value of 'c', which was given while creating the function.\n",
    "\"\"\""
   ]
  },
  {
   "cell_type": "markdown",
   "metadata": {},
   "source": [
    "### Question 2 : What is the result of this code, and why?\n",
    "    >>> def func(a, b, c=5):\n",
    "               print(a, b, c)\n",
    "    >>> func(1, c=3, b=2)\n"
   ]
  },
  {
   "cell_type": "code",
   "execution_count": 3,
   "metadata": {},
   "outputs": [
    {
     "name": "stdout",
     "output_type": "stream",
     "text": [
      "1 2 3\n"
     ]
    }
   ],
   "source": [
    "def func(a,b,c=5):\n",
    "    print(a,b,c)\n",
    "    \n",
    "func(1,c=3,b=2)"
   ]
  },
  {
   "cell_type": "code",
   "execution_count": 4,
   "metadata": {},
   "outputs": [
    {
     "data": {
      "text/plain": [
       "\"\\nIn the above code, default value for 'c' is assigned.\\nand when we call the function by passing the values to variables using '=',  the function will give output as defined \\nin function.\\n\""
      ]
     },
     "execution_count": 4,
     "metadata": {},
     "output_type": "execute_result"
    }
   ],
   "source": [
    "# Answer : \n",
    "\n",
    "\"\"\"\n",
    "In the above code, default value for 'c' is assigned.\n",
    "and when we call the function by passing the values to variables using '=',  the function will give output as defined \n",
    "in function.\n",
    "\"\"\"\n"
   ]
  },
  {
   "cell_type": "markdown",
   "metadata": {},
   "source": [
    "### Question 3 : How about this code: what is its result, and why?\n",
    "    >>> def func(a, *pargs):\n",
    "            print(a, pargs)\n",
    "    >>> func(1, 2, 3)\n"
   ]
  },
  {
   "cell_type": "code",
   "execution_count": 5,
   "metadata": {},
   "outputs": [
    {
     "name": "stdout",
     "output_type": "stream",
     "text": [
      "1 (2, 3)\n"
     ]
    }
   ],
   "source": [
    "def func(a, *pargs):\n",
    "    print(a, pargs)\n",
    "\n",
    "func(1, 2, 3)\n"
   ]
  },
  {
   "cell_type": "code",
   "execution_count": 6,
   "metadata": {},
   "outputs": [
    {
     "data": {
      "text/plain": [
       "'\\nIn above function, two inputs are required. \\nOne is a single variable and \\nSecond is syntax *args in function definitions in python is used to pass a variable number of arguments to a function.\\nIt is used to pass a non-key worded, variable-length argument list. \\nThe syntax is to use the symbol * to take in a variable number of arguments\\n'"
      ]
     },
     "execution_count": 6,
     "metadata": {},
     "output_type": "execute_result"
    }
   ],
   "source": [
    "# Answer :\n",
    "\"\"\"\n",
    "In above function, two inputs are required. \n",
    "One is a single variable and \n",
    "Second is syntax *args in function definitions in python is used to pass a variable number of arguments to a function.\n",
    "It is used to pass a non-key worded, variable-length argument list. \n",
    "The syntax is to use the symbol * to take in a variable number of arguments\n",
    "\"\"\""
   ]
  },
  {
   "cell_type": "markdown",
   "metadata": {},
   "source": [
    "### Question 4 : What does this code print, and why?\n",
    "    >>> def func(a, **kwargs):\n",
    "            print(a, kwargs)\n",
    "    >>> func(a=1, c=3, b=2)\n",
    "\n",
    "    "
   ]
  },
  {
   "cell_type": "code",
   "execution_count": 7,
   "metadata": {},
   "outputs": [
    {
     "name": "stdout",
     "output_type": "stream",
     "text": [
      "1 {'c': 3, 'b': 2}\n"
     ]
    }
   ],
   "source": [
    "def func (a,**kwargs):\n",
    "    print(a, kwargs)\n",
    "    \n",
    "func(a=1, c=3, b=2)"
   ]
  },
  {
   "cell_type": "code",
   "execution_count": 8,
   "metadata": {},
   "outputs": [
    {
     "data": {
      "text/plain": [
       "'\\nIn above function, we are using **kwargs \\n**kwargs, in function definitions in python is used to pass a keyworded, variable-length argument list. \\nWe use the name kwargs with the double star. The reason is because the double star allows us to pass through\\nkeyword arguments (and any number of them).\\n\\n'"
      ]
     },
     "execution_count": 8,
     "metadata": {},
     "output_type": "execute_result"
    }
   ],
   "source": [
    "# Answer : \n",
    "\"\"\"\n",
    "In above function, we are using **kwargs \n",
    "**kwargs, in function definitions in python is used to pass a keyworded, variable-length argument list. \n",
    "We use the name kwargs with the double star. The reason is because the double star allows us to pass through\n",
    "keyword arguments (and any number of them).\n",
    "\n",
    "\"\"\""
   ]
  },
  {
   "cell_type": "markdown",
   "metadata": {},
   "source": [
    "### Question 5 : What gets printed by this, and explain?\n",
    "    >>> def func(a, b, c=8, d=5): print(a, b, c, d)\n",
    "    >>> func(1, *(5, 6))\n"
   ]
  },
  {
   "cell_type": "code",
   "execution_count": 9,
   "metadata": {},
   "outputs": [
    {
     "name": "stdout",
     "output_type": "stream",
     "text": [
      "1 5 6 5\n"
     ]
    }
   ],
   "source": [
    "def func(a,b, c=8, d=5):\n",
    "    print(a,b,c,d)\n",
    "    \n",
    "func(1, *(5,6))"
   ]
  },
  {
   "cell_type": "code",
   "execution_count": 10,
   "metadata": {},
   "outputs": [
    {
     "data": {
      "text/plain": [
       "'\\nIn the above code, we are using the * to pass the values to the function call, the variable that we associate with the * \\nbecomes an iterable and when the function is called the variables gets the values assigned.\\n'"
      ]
     },
     "execution_count": 10,
     "metadata": {},
     "output_type": "execute_result"
    }
   ],
   "source": [
    "# Answer : \n",
    "\"\"\"\n",
    "In the above code, we are using the * to pass the values to the function call, the variable that we associate with the * \n",
    "becomes an iterable and when the function is called the variables gets the values assigned.\n",
    "\"\"\""
   ]
  },
  {
   "cell_type": "markdown",
   "metadata": {},
   "source": [
    "### Question 6 : What is the result of this, and explain?\n",
    "    >>> def func(a, b, c): a = 2; b[0] = 'x'; c['a'] = 'y'\n",
    "    >>> l=1; m=[1]; n={'a':0}\n",
    "    >>> func(l, m, n)\n",
    "    >>> l, m, n\n",
    "\n"
   ]
  },
  {
   "cell_type": "code",
   "execution_count": 11,
   "metadata": {},
   "outputs": [],
   "source": [
    "def func(a, b, c): a = 2; b[0] = 'x'; c['a'] = 'y'\n",
    "    "
   ]
  },
  {
   "cell_type": "code",
   "execution_count": 12,
   "metadata": {},
   "outputs": [],
   "source": [
    "l=1; m=[1]; n={'a':0}\n",
    "func(l, m, n)"
   ]
  },
  {
   "cell_type": "code",
   "execution_count": 13,
   "metadata": {},
   "outputs": [
    {
     "data": {
      "text/plain": [
       "(1, ['x'], {'a': 'y'})"
      ]
     },
     "execution_count": 13,
     "metadata": {},
     "output_type": "execute_result"
    }
   ],
   "source": [
    "l,m,n"
   ]
  },
  {
   "cell_type": "code",
   "execution_count": 14,
   "metadata": {},
   "outputs": [
    {
     "data": {
      "text/plain": [
       "'\\nIn the above code, we are passing vlaues of different datatype to the variables,\\ni.e. int, list and dictionary, and inside the fucntion we are assigning the values to each input variable.\\n\\nFurther when we are assigning values to l,m,n and passing it to the function, the function call reassigns the \\nthe value for list and dictionary variable.   \\n\\n'"
      ]
     },
     "execution_count": 14,
     "metadata": {},
     "output_type": "execute_result"
    }
   ],
   "source": [
    "# Answer : \n",
    "\"\"\"\n",
    "In the above code, we are passing vlaues of different datatype to the variables,\n",
    "i.e. int, list and dictionary, and inside the fucntion we are assigning the values to each input variable.\n",
    "\n",
    "Further when we are assigning values to l,m,n and passing it to the function, the function call reassigns the \n",
    "the value for list and dictionary variable.   \n",
    "\n",
    "\"\"\"\n"
   ]
  }
 ],
 "metadata": {
  "kernelspec": {
   "display_name": "Python 3",
   "language": "python",
   "name": "python3"
  },
  "language_info": {
   "codemirror_mode": {
    "name": "ipython",
    "version": 3
   },
   "file_extension": ".py",
   "mimetype": "text/x-python",
   "name": "python",
   "nbconvert_exporter": "python",
   "pygments_lexer": "ipython3",
   "version": "3.8.5"
  }
 },
 "nbformat": 4,
 "nbformat_minor": 5
}
