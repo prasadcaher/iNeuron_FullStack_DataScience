{
 "cells": [
  {
   "cell_type": "markdown",
   "metadata": {},
   "source": [
    "<h1 style='text-align:center'>Python Advance : Assignment - 10</h1>\n",
    "\n",
    "<h3 style='text-align:center'> Submitted by Prasad Aher </h3>\n",
    "<br>"
   ]
  },
  {
   "cell_type": "markdown",
   "metadata": {},
   "source": [
    "### Question 1 : What is the difference between \\_\\_getattr__ and \\_\\_getattribute__?"
   ]
  },
  {
   "cell_type": "code",
   "execution_count": 1,
   "metadata": {},
   "outputs": [
    {
     "data": {
      "text/plain": [
       "'\\nThe __getattr__ method is run for fetches of undefined attributes only (i.e., those\\nnot present on an instance and not inherited from any of its classes). By contrast,\\nthe __getattribute__ method is called for every attribute fetch, whether the attribute\\nis defined or not. Because of this, code inside a __getattr__ can freely fetch\\nother attributes if they are defined, whereas __getattribute__ must use special code\\nfor all such attribute fetches to avoid looping or extra calls (it must route fetches\\nto a superclass to skip itself).\\n'"
      ]
     },
     "execution_count": 1,
     "metadata": {},
     "output_type": "execute_result"
    }
   ],
   "source": [
    "# Answer : \n",
    "\"\"\"\n",
    "The __getattr__ method is run for fetches of undefined attributes only (i.e., those\n",
    "not present on an instance and not inherited from any of its classes). By contrast,\n",
    "the __getattribute__ method is called for every attribute fetch, whether the attribute\n",
    "is defined or not. Because of this, code inside a __getattr__ can freely fetch\n",
    "other attributes if they are defined, whereas __getattribute__ must use special code\n",
    "for all such attribute fetches to avoid looping or extra calls (it must route fetches\n",
    "to a superclass to skip itself).\n",
    "\"\"\""
   ]
  },
  {
   "cell_type": "markdown",
   "metadata": {},
   "source": [
    "### Question 2 : What is the difference between properties and descriptors?"
   ]
  },
  {
   "cell_type": "code",
   "execution_count": 2,
   "metadata": {},
   "outputs": [
    {
     "data": {
      "text/plain": [
       "'\\nProperties serve a specific role, while descriptors are more general. Properties define\\nget, set, and delete functions for a specific attribute; descriptors provide a class\\nwith methods for these actions, too, but they provide extra flexibility to support\\nmore arbitrary actions. In fact, properties are really a simple way to create a specific\\nkind of descriptor—one that runs functions on attribute accesses. Coding differs\\ntoo: a property is created with a built-in function, and a descriptor is coded with\\na class; thus, descriptors can leverage all the usual OOP features of classes, such\\nas inheritance. Moreover, in addition to the instance’s state information, descriptors\\nhave local state of their own, so they can sometimes avoid name collisions in\\nthe instance.\\n'"
      ]
     },
     "execution_count": 2,
     "metadata": {},
     "output_type": "execute_result"
    }
   ],
   "source": [
    "# Answer : \n",
    "\"\"\"\n",
    "Properties serve a specific role, while descriptors are more general. Properties define\n",
    "get, set, and delete functions for a specific attribute; descriptors provide a class\n",
    "with methods for these actions, too, but they provide extra flexibility to support\n",
    "more arbitrary actions. In fact, properties are really a simple way to create a specific\n",
    "kind of descriptor—one that runs functions on attribute accesses. Coding differs\n",
    "too: a property is created with a built-in function, and a descriptor is coded with\n",
    "a class; thus, descriptors can leverage all the usual OOP features of classes, such\n",
    "as inheritance. Moreover, in addition to the instance’s state information, descriptors\n",
    "have local state of their own, so they can sometimes avoid name collisions in\n",
    "the instance.\n",
    "\"\"\""
   ]
  },
  {
   "cell_type": "markdown",
   "metadata": {},
   "source": [
    "### Question 3 : What are the key differences in functionality between \\_\\_getattr__ and \\_\\_getattribute__, as well as properties and descriptors?"
   ]
  },
  {
   "cell_type": "code",
   "execution_count": 6,
   "metadata": {},
   "outputs": [],
   "source": [
    "# Answer: \n",
    "\"\"\"\n",
    "The __getattr__ and __getattribute__ methods are more generic: they can be used\n",
    "to catch arbitrarily many attributes. In contrast, each property or descriptor provides\n",
    "access interception for only one specific attribute—we can’t catch every attribute\n",
    "fetch with a single property or descriptor. On the other hand, properties\n",
    "and descriptors handle both attribute fetch and assignment by design: __get\n",
    "attr__ and __getattribute__ handle fetches only; to intercept assignments as well,\n",
    "__setattr__ must also be coded. The implementation is also different: __get\n",
    "attr__ and __getattribute__ are operator overloading methods, whereas properties\n",
    "and descriptors are objects manually assigned to class attributes. Unlike the\n",
    "others, properties and descriptors can also sometimes avoid extra calls on assignment\n",
    "to unmanaged names, and show up in dir results automatically, but are also narrower \n",
    "in scope—they can’t address generic dispatch goals. In Python evolution,\n",
    "new features tend to offer alternatives, but do not fully subsume what came before.\n",
    "\"\"\""
   ]
  }
 ],
 "metadata": {
  "kernelspec": {
   "display_name": "Python 3",
   "language": "python",
   "name": "python3"
  },
  "language_info": {
   "codemirror_mode": {
    "name": "ipython",
    "version": 3
   },
   "file_extension": ".py",
   "mimetype": "text/x-python",
   "name": "python",
   "nbconvert_exporter": "python",
   "pygments_lexer": "ipython3",
   "version": "3.8.5"
  }
 },
 "nbformat": 4,
 "nbformat_minor": 4
}
