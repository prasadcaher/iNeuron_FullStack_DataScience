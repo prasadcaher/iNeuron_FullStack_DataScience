{
 "cells": [
  {
   "cell_type": "markdown",
   "id": "0f5d9cb7",
   "metadata": {},
   "source": [
    "# Python Programming Basic Assignment - 10\n",
    "## Submitted by Prasad Aher"
   ]
  },
  {
   "cell_type": "markdown",
   "id": "9a593801",
   "metadata": {},
   "source": [
    "### Question 1.\tWrite a Python program to find sum of elements in list?"
   ]
  },
  {
   "cell_type": "code",
   "execution_count": 1,
   "id": "f86d390a",
   "metadata": {},
   "outputs": [
    {
     "data": {
      "text/plain": [
       "'List contains a string, cannot be summed'"
      ]
     },
     "execution_count": 1,
     "metadata": {},
     "output_type": "execute_result"
    }
   ],
   "source": [
    "def sum_list(items):\n",
    "    sum_numbers = 0\n",
    "    try:\n",
    "        for x in items:\n",
    "            if type(x) == str:\n",
    "                return \"List contains a string, cannot be summed\"\n",
    "            else:\n",
    "                sum_numbers += x\n",
    "        return sum_numbers\n",
    "    \n",
    "    except Exception as e:\n",
    "        return (str(e))\n",
    "\n",
    "l = [1,2,'3',4,5]\n",
    "sum_list(l)"
   ]
  },
  {
   "cell_type": "markdown",
   "id": "e9ada767",
   "metadata": {},
   "source": [
    "### Question 2.\tWrite a Python program to  Multiply all numbers in the list?"
   ]
  },
  {
   "cell_type": "code",
   "execution_count": 2,
   "id": "dc080737",
   "metadata": {},
   "outputs": [
    {
     "data": {
      "text/plain": [
       "0"
      ]
     },
     "execution_count": 2,
     "metadata": {},
     "output_type": "execute_result"
    }
   ],
   "source": [
    "def product_list(items):\n",
    "    result = 1\n",
    "    try:\n",
    "        for x in items:\n",
    "            if type(x) == str:\n",
    "                return \"List contains a string, cannot be multiplied\"\n",
    "            else:\n",
    "                result *= x\n",
    "        return result\n",
    "    \n",
    "    except Exception as e:\n",
    "        return (str(e))\n",
    "\n",
    "l = [1,2,3,4,5,0]\n",
    "product_list(l)"
   ]
  },
  {
   "cell_type": "markdown",
   "id": "804cffee",
   "metadata": {},
   "source": [
    "### Question 3.\tWrite a Python program to find smallest number in a list?"
   ]
  },
  {
   "cell_type": "code",
   "execution_count": 3,
   "id": "f3f019c7",
   "metadata": {},
   "outputs": [
    {
     "data": {
      "text/plain": [
       "'The smallest number in list is 2'"
      ]
     },
     "execution_count": 3,
     "metadata": {},
     "output_type": "execute_result"
    }
   ],
   "source": [
    "def smallest_num(l):\n",
    "    for i in range(len(l)):\n",
    "        for j in range (i, len(l)):\n",
    "            if (l[j]) <(l[i]):\n",
    "                temp = l[i]\n",
    "                l[i] = l[j]\n",
    "                l[j] = temp\n",
    "    return f\"The smallest number in list is {l[0]}\"\n",
    "\n",
    "l = [25,36,100,105,2,8,56,7,43,67,98,45]\n",
    "smallest_num(l)"
   ]
  },
  {
   "cell_type": "markdown",
   "id": "c854235f",
   "metadata": {},
   "source": [
    "###  Or"
   ]
  },
  {
   "cell_type": "code",
   "execution_count": 4,
   "id": "384a5414",
   "metadata": {},
   "outputs": [
    {
     "name": "stdout",
     "output_type": "stream",
     "text": [
      "The smallest number in list is 2\n"
     ]
    }
   ],
   "source": [
    "l = [25,36,100,105,2,8,56,7,43,67,98,45]\n",
    "print(f\"The smallest number in list is {min(l)}\")"
   ]
  },
  {
   "cell_type": "markdown",
   "id": "5a4c9735",
   "metadata": {},
   "source": [
    "### Question 4.\tWrite a Python program to find largest number in a list?"
   ]
  },
  {
   "cell_type": "code",
   "execution_count": 5,
   "id": "06cd6148",
   "metadata": {},
   "outputs": [
    {
     "data": {
      "text/plain": [
       "'The largest number in list is 1005'"
      ]
     },
     "execution_count": 5,
     "metadata": {},
     "output_type": "execute_result"
    }
   ],
   "source": [
    "def largest_num(l):\n",
    "    for i in range(len(l)):\n",
    "        for j in range (i, len(l)):\n",
    "            if (l[j]) <(l[i]):\n",
    "                temp = l[i]\n",
    "                l[i] = l[j]\n",
    "                l[j] = temp\n",
    "    return f\"The largest number in list is {l[-1]}\"\n",
    "\n",
    "l = [25,36,100,1005,2,8,56,7,43,67,98,45]\n",
    "largest_num(l)"
   ]
  },
  {
   "cell_type": "markdown",
   "id": "1d6ad14d",
   "metadata": {},
   "source": [
    "### Question 5.\tWrite a Python program to find second largest number in a list?"
   ]
  },
  {
   "cell_type": "code",
   "execution_count": 6,
   "id": "4cc55fb0",
   "metadata": {},
   "outputs": [
    {
     "data": {
      "text/plain": [
       "'The second largest number in list is 100'"
      ]
     },
     "execution_count": 6,
     "metadata": {},
     "output_type": "execute_result"
    }
   ],
   "source": [
    "def second_largest_num(l):\n",
    "    for i in range(len(l)):\n",
    "        for j in range (i, len(l)):\n",
    "            if (l[j]) <(l[i]):\n",
    "                temp = l[i]\n",
    "                l[i] = l[j]\n",
    "                l[j] = temp\n",
    "    return f\"The second largest number in list is {l[-2]}\"\n",
    "\n",
    "l = [25,36,100,105,2,8,56,7,43,67,98,45]\n",
    "second_largest_num(l)"
   ]
  },
  {
   "cell_type": "markdown",
   "id": "f31c8997",
   "metadata": {},
   "source": [
    "### Question 6.\tWrite a Python program to find N largest elements from a list?"
   ]
  },
  {
   "cell_type": "code",
   "execution_count": 7,
   "id": "fc165b00",
   "metadata": {},
   "outputs": [
    {
     "name": "stdout",
     "output_type": "stream",
     "text": [
      "What largest number you want to see in list : 3\n",
      "The N largest number in list is 98\n"
     ]
    }
   ],
   "source": [
    "def n_largest_num(l, n):\n",
    "    for i in range(len(l)):\n",
    "        for j in range (i, len(l)):\n",
    "            if (l[j])>(l[i]):\n",
    "                temp = l[i]\n",
    "                l[i] = l[j]\n",
    "                l[j] = temp\n",
    "    return f\"The N largest number in list is {l[n-1]}\"\n",
    "\n",
    "l = [25,36,100,105,2,8,56,7,43,67,98,45]\n",
    "n = int(input(\"What largest number you want to see in list : \"))\n",
    "if n > len(l):\n",
    "    print(\"Out of Range\")\n",
    "else:\n",
    "    print(n_largest_num(l,n))"
   ]
  },
  {
   "cell_type": "markdown",
   "id": "f4479784",
   "metadata": {},
   "source": [
    "### Question 7.\tWrite a Python program to print even numbers in a list?"
   ]
  },
  {
   "cell_type": "code",
   "execution_count": 8,
   "id": "c1868da0",
   "metadata": {},
   "outputs": [
    {
     "data": {
      "text/plain": [
       "'The even numbers in the list are :[36, 100, 2, 8, 56, 98]'"
      ]
     },
     "execution_count": 8,
     "metadata": {},
     "output_type": "execute_result"
    }
   ],
   "source": [
    "def even_num_in_list(l):\n",
    "    evenlist =[]\n",
    "    for i in l:\n",
    "        if i % 2 == 0:\n",
    "            evenlist.append(i)\n",
    "    return f\"The even numbers in the list are :{evenlist}\"\n",
    "\n",
    "l = [25,36,100,105,2,8,56,7,43,67,98,45]\n",
    "even_num_in_list(l)"
   ]
  },
  {
   "cell_type": "markdown",
   "id": "0cb82757",
   "metadata": {},
   "source": [
    "### Question 8.\tWrite a Python program to print odd numbers in a List?"
   ]
  },
  {
   "cell_type": "code",
   "execution_count": 9,
   "id": "8c6f448c",
   "metadata": {},
   "outputs": [
    {
     "data": {
      "text/plain": [
       "'The odd numbers in the list are :[25, 105, 7, 43, 67, 45]'"
      ]
     },
     "execution_count": 9,
     "metadata": {},
     "output_type": "execute_result"
    }
   ],
   "source": [
    "def odd_num_in_list(l):\n",
    "    oddlist =[]\n",
    "    for i in l:\n",
    "        if i % 2 != 0:\n",
    "            oddlist.append(i)\n",
    "    return f\"The odd numbers in the list are :{oddlist}\"\n",
    "\n",
    "l = [25,36,100,105,2,8,56,7,43,67,98,45]\n",
    "odd_num_in_list(l)"
   ]
  },
  {
   "cell_type": "markdown",
   "id": "c5468002",
   "metadata": {},
   "source": [
    "### Question 9.\tWrite a Python program to Remove empty List from List?"
   ]
  },
  {
   "cell_type": "code",
   "execution_count": 10,
   "id": "96f8dafc",
   "metadata": {},
   "outputs": [
    {
     "data": {
      "text/plain": [
       "[25, [6, 100, 105], 2, 8, 56, 7, 43, [67, 98, 45]]"
      ]
     },
     "execution_count": 10,
     "metadata": {},
     "output_type": "execute_result"
    }
   ],
   "source": [
    "def remove_empty_list(l):\n",
    "    newlist = [i for i in l if i != []]\n",
    "    return newlist\n",
    "\n",
    "l = [25,[6,100,105],[],2,8,56,7,[],43,[67,98,45]]\n",
    "remove_empty_list(l)"
   ]
  },
  {
   "cell_type": "markdown",
   "id": "7bc1cc5e",
   "metadata": {},
   "source": [
    "### Question 10. Write a Python program to Cloning or Copying a list?"
   ]
  },
  {
   "cell_type": "code",
   "execution_count": 11,
   "id": "ee1ff048",
   "metadata": {},
   "outputs": [
    {
     "data": {
      "text/plain": [
       "'The copied list is : [25, [6, 100, 105], [], 2, 8, 56, 7, [], 43, [67, 98, 45]]'"
      ]
     },
     "execution_count": 11,
     "metadata": {},
     "output_type": "execute_result"
    }
   ],
   "source": [
    "def copy_list(l):\n",
    "    new_list = l.copy()\n",
    "    return f\"The copied list is : {new_list}\"\n",
    "\n",
    "l = [25,[6,100,105],[],2,8,56,7,[],43,[67,98,45]]\n",
    "copy_list(l)"
   ]
  },
  {
   "cell_type": "markdown",
   "id": "f5e87991",
   "metadata": {},
   "source": [
    "### Question 11.\tWrite a Python program to Count occurrences of an element in a list? "
   ]
  },
  {
   "cell_type": "code",
   "execution_count": 12,
   "id": "63b31302",
   "metadata": {},
   "outputs": [
    {
     "name": "stdout",
     "output_type": "stream",
     "text": [
      "Element to Check Occurrence : 8\n"
     ]
    },
    {
     "data": {
      "text/plain": [
       "'8 has occured 5 times'"
      ]
     },
     "execution_count": 12,
     "metadata": {},
     "output_type": "execute_result"
    }
   ],
   "source": [
    "def count_occurrences(n,l):\n",
    "    return f\"{n} has occured {l.count(n)} times\"\n",
    "\n",
    "l = [1,1,5,4,65,65,8,1,2,5,6,7,8,9,8,8,8,9]\n",
    "n = int(input(\"Element to Check Occurrence : \"))\n",
    "count_occurrences(n,l)"
   ]
  }
 ],
 "metadata": {
  "kernelspec": {
   "display_name": "Python 3",
   "language": "python",
   "name": "python3"
  },
  "language_info": {
   "codemirror_mode": {
    "name": "ipython",
    "version": 3
   },
   "file_extension": ".py",
   "mimetype": "text/x-python",
   "name": "python",
   "nbconvert_exporter": "python",
   "pygments_lexer": "ipython3",
   "version": "3.8.8"
  }
 },
 "nbformat": 4,
 "nbformat_minor": 5
}
