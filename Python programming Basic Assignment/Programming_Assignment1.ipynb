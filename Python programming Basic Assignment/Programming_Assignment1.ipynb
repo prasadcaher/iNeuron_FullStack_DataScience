{
 "cells": [
  {
   "cell_type": "markdown",
   "id": "broke-powder",
   "metadata": {},
   "source": [
    "#  1.\tWrite a Python program to print \"Hello Python\"?"
   ]
  },
  {
   "cell_type": "code",
   "execution_count": 1,
   "id": "international-buying",
   "metadata": {},
   "outputs": [
    {
     "name": "stdout",
     "output_type": "stream",
     "text": [
      "Hello Python\n"
     ]
    }
   ],
   "source": [
    "print(\"Hello Python\")"
   ]
  },
  {
   "cell_type": "markdown",
   "id": "national-movie",
   "metadata": {},
   "source": [
    "# 2.\tWrite a Python program to do arithmetical operations addition and division.?"
   ]
  },
  {
   "cell_type": "code",
   "execution_count": 2,
   "id": "trying-summary",
   "metadata": {},
   "outputs": [
    {
     "name": "stdout",
     "output_type": "stream",
     "text": [
      "Enter a Number 1: 1\n",
      "Enter a Number 2: 2\n",
      "Addition is 3\n"
     ]
    }
   ],
   "source": [
    "# Addition\n",
    "a = int(input(\"Enter a Number 1: \"))\n",
    "b = int(input(\"Enter a Number 2: \"))\n",
    "c = int(a + b)\n",
    "print(f\"Addition is {c}\")\n",
    "# For getting result in decimals we can change data type to Float"
   ]
  },
  {
   "cell_type": "code",
   "execution_count": 3,
   "id": "english-clearing",
   "metadata": {},
   "outputs": [
    {
     "name": "stdout",
     "output_type": "stream",
     "text": [
      "Enter a Number: 6\n",
      "Enter a Number: 2\n",
      "Addition is 3.0\n"
     ]
    }
   ],
   "source": [
    "# Division\n",
    "a = int(input(\"Enter a Number: \"))\n",
    "b = int(input(\"Enter a Number: \"))\n",
    "c = float(a / b)\n",
    "print(f\"Addition is {c}\")\n",
    "# For getting result in decimals we can change data type to Float"
   ]
  },
  {
   "cell_type": "markdown",
   "id": "greatest-variation",
   "metadata": {},
   "source": [
    "# 3.\tWrite a Python program to find the area of a triangle?"
   ]
  },
  {
   "cell_type": "code",
   "execution_count": 5,
   "id": "controversial-kernel",
   "metadata": {},
   "outputs": [
    {
     "name": "stdout",
     "output_type": "stream",
     "text": [
      "Enter Length of Side A: 2.5\n",
      "Enter Length of Side b: 2.5\n",
      "Enter Length of Side c: 3\n",
      "Area of the Triangle is : 3.00\n"
     ]
    }
   ],
   "source": [
    "# Answer : Finding Area of Tiangle by using Heron's Formula\n",
    "\n",
    "a = float(input(\"Enter Length of Side A: \"))\n",
    "b = float(input(\"Enter Length of Side b: \"))\n",
    "c = float(input(\"Enter Length of Side c: \"))\n",
    "s = (a+b+c)/2\n",
    "\n",
    "area = ((s*(s-a)*(s-b)*(s-c))**0.5)\n",
    "# area = \"{:.2f}\".format((s*(s-a)*(s-b)*(s-c))**0.5)\n",
    "\n",
    "print(f\"Area of the Triangle is : {area:.2f}\")"
   ]
  },
  {
   "cell_type": "markdown",
   "id": "careful-morning",
   "metadata": {},
   "source": [
    "# 4.\tWrite a Python program to swap two variables?"
   ]
  },
  {
   "cell_type": "code",
   "execution_count": 11,
   "id": "middle-bulletin",
   "metadata": {},
   "outputs": [
    {
     "name": "stdout",
     "output_type": "stream",
     "text": [
      "Enter a Number A: 10\n",
      "Enter a Number B: 211\n",
      "Values after swap are A :211 and B: 10\n"
     ]
    }
   ],
   "source": [
    "a = int(input(\"Enter a Number A: \"))\n",
    "b = int(input(\"Enter a Number B: \"))\n",
    "a,b = b,a\n",
    "\n",
    "print(f\"Values after swap are A :{a} and B: {b}\")"
   ]
  },
  {
   "cell_type": "markdown",
   "id": "collaborative-might",
   "metadata": {},
   "source": [
    "### OR we can do same by creating temporary variable to swap value."
   ]
  },
  {
   "cell_type": "code",
   "execution_count": 1,
   "id": "split-cemetery",
   "metadata": {},
   "outputs": [
    {
     "name": "stdout",
     "output_type": "stream",
     "text": [
      "Enter a Number A: 32\n",
      "Enter a Number B: 23\n",
      "Values after swap are A :23 and B: 32\n"
     ]
    }
   ],
   "source": [
    "a = int(input(\"Enter a Number A: \"))\n",
    "b = int(input(\"Enter a Number B: \"))\n",
    "c = a\n",
    "a = b\n",
    "b = c\n",
    "\n",
    "print(f\"Values after swap are A :{a} and B: {b}\")"
   ]
  },
  {
   "cell_type": "markdown",
   "id": "unavailable-melissa",
   "metadata": {},
   "source": [
    "# 5.\tWrite a Python program to generate a random number?"
   ]
  },
  {
   "cell_type": "code",
   "execution_count": 36,
   "id": "another-effectiveness",
   "metadata": {},
   "outputs": [
    {
     "name": "stdout",
     "output_type": "stream",
     "text": [
      "Enter Start point: 2\n",
      "Enter End point: 3\n",
      "Random number between Start and End point is : 3\n"
     ]
    }
   ],
   "source": [
    "import random\n",
    "a = int(input(\"Enter Start point: \"))\n",
    "b = int(input(\"Enter End point: \"))\n",
    "s = random.randint(a,b)\n",
    "print(f\"Random number between Start and End point is : {s}\")"
   ]
  }
 ],
 "metadata": {
  "kernelspec": {
   "display_name": "Python 3",
   "language": "python",
   "name": "python3"
  },
  "language_info": {
   "codemirror_mode": {
    "name": "ipython",
    "version": 3
   },
   "file_extension": ".py",
   "mimetype": "text/x-python",
   "name": "python",
   "nbconvert_exporter": "python",
   "pygments_lexer": "ipython3",
   "version": "3.9.2"
  }
 },
 "nbformat": 4,
 "nbformat_minor": 5
}
