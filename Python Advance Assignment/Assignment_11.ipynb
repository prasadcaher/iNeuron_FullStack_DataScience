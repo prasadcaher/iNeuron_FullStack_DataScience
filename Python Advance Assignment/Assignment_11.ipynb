{
 "cells": [
  {
   "cell_type": "markdown",
   "metadata": {},
   "source": [
    "<h1 style='text-align:center'>Python Advance : Assignment - 11</h1>\n",
    "\n",
    "<h3 style='text-align:center'> Submitted by Prasad Aher </h3>\n",
    "<br>"
   ]
  },
  {
   "cell_type": "markdown",
   "metadata": {},
   "source": [
    "### Question 1 : What is the concept of a metaclass?"
   ]
  },
  {
   "cell_type": "code",
   "execution_count": 1,
   "metadata": {},
   "outputs": [
    {
     "data": {
      "text/plain": [
       "'\\nA metaclass is a class used to create a class. Normal new-style classes are instances\\nof the type class by default. Metaclasses are usually subclasses of the type class,\\nwhich redefines class creation protocol methods in order to customize the class\\ncreation call issued at the end of a class statement; they typically redefine the\\nmethods __new__ and __init__ to tap into the class creation protocol. Metaclasses\\ncan also be coded other ways—as simple functions, for example—but they are\\nalways responsible for making and returning an object for the new class. Metaclasses\\nmay have methods and data to provide behavior for their classes too—and\\nconstitute a secondary pathway for inheritance search—but their attributes are\\naccessible only to their class instances, not to their instance’s instances.\\n'"
      ]
     },
     "execution_count": 1,
     "metadata": {},
     "output_type": "execute_result"
    }
   ],
   "source": [
    "# Answer : \n",
    "\"\"\"\n",
    "A metaclass is a class used to create a class. Normal new-style classes are instances\n",
    "of the type class by default. Metaclasses are usually subclasses of the type class,\n",
    "which redefines class creation protocol methods in order to customize the class\n",
    "creation call issued at the end of a class statement; they typically redefine the\n",
    "methods __new__ and __init__ to tap into the class creation protocol. Metaclasses\n",
    "can also be coded other ways—as simple functions, for example—but they are\n",
    "always responsible for making and returning an object for the new class. Metaclasses\n",
    "may have methods and data to provide behavior for their classes too—and\n",
    "constitute a secondary pathway for inheritance search—but their attributes are\n",
    "accessible only to their class instances, not to their instance’s instances.\n",
    "\"\"\""
   ]
  },
  {
   "cell_type": "markdown",
   "metadata": {},
   "source": [
    "### Question 2 : What is the best way to declare a class's metaclass?"
   ]
  },
  {
   "cell_type": "code",
   "execution_count": 2,
   "metadata": {},
   "outputs": [
    {
     "data": {
      "text/plain": [
       "'\\nIn Python 3.X, use a keyword argument in the class header line: class C(meta\\nclass=M). In Python 2.X, use a class attribute instead: __metaclass__ = M. In 3.X,\\nthe class header line can also name normal superclasses before the metaclass keyword\\nargument; in 2.X you generally should derive from object too, though this\\nis sometimes optional.\\n'"
      ]
     },
     "execution_count": 2,
     "metadata": {},
     "output_type": "execute_result"
    }
   ],
   "source": [
    "# Answer : \n",
    "\"\"\"\n",
    "In Python 3.X, use a keyword argument in the class header line: class C(meta\n",
    "class=M). In Python 2.X, use a class attribute instead: __metaclass__ = M. In 3.X,\n",
    "the class header line can also name normal superclasses before the metaclass keyword\n",
    "argument; in 2.X you generally should derive from object too, though this\n",
    "is sometimes optional.\n",
    "\"\"\""
   ]
  },
  {
   "cell_type": "markdown",
   "metadata": {},
   "source": [
    "### Question 3 : How do class decorators overlap with metaclasses for handling classes?"
   ]
  },
  {
   "cell_type": "code",
   "execution_count": 3,
   "metadata": {},
   "outputs": [
    {
     "data": {
      "text/plain": [
       "'\\nBecause both are automatically triggered at the end of a class statement, class\\ndecorators and metaclasses can both be used to manage classes. Decorators rebind\\na class name to a callable’s result and metaclasses route class creation through a\\ncallable, but both hooks can be used for similar purposes. To manage classes,\\ndecorators simply augment and return the original class objects. Metaclasses augment\\na class after they create it. Decorators may have a slight disadvantage in this\\nrole if a new class must be defined, because the original class has already been\\ncreated.\\n'"
      ]
     },
     "execution_count": 3,
     "metadata": {},
     "output_type": "execute_result"
    }
   ],
   "source": [
    "# Answer: \n",
    "\"\"\"\n",
    "Because both are automatically triggered at the end of a class statement, class\n",
    "decorators and metaclasses can both be used to manage classes. Decorators rebind\n",
    "a class name to a callable’s result and metaclasses route class creation through a\n",
    "callable, but both hooks can be used for similar purposes. To manage classes,\n",
    "decorators simply augment and return the original class objects. Metaclasses augment\n",
    "a class after they create it. Decorators may have a slight disadvantage in this\n",
    "role if a new class must be defined, because the original class has already been\n",
    "created.\n",
    "\"\"\""
   ]
  },
  {
   "cell_type": "markdown",
   "metadata": {},
   "source": [
    "### Question 4 : How do class decorators overlap with metaclasses for handling instances?"
   ]
  },
  {
   "cell_type": "code",
   "execution_count": 4,
   "metadata": {},
   "outputs": [
    {
     "data": {
      "text/plain": [
       "'\\nBecause both are automatically triggered at the end of a class statement, we can\\nuse both class decorators and metaclasses to manage class instances, by inserting\\na wrapper (proxy) object to catch instance creation calls. Decorators may rebind\\nthe class name to a callable run on instance creation that retains the original class\\nobject. Metaclasses can do the same, but may have a slight disadvantage in this\\nrole, because they must also create the class object.\\n'"
      ]
     },
     "execution_count": 4,
     "metadata": {},
     "output_type": "execute_result"
    }
   ],
   "source": [
    "# Answer : \n",
    "\"\"\"\n",
    "Because both are automatically triggered at the end of a class statement, we can\n",
    "use both class decorators and metaclasses to manage class instances, by inserting\n",
    "a wrapper (proxy) object to catch instance creation calls. Decorators may rebind\n",
    "the class name to a callable run on instance creation that retains the original class\n",
    "object. Metaclasses can do the same, but may have a slight disadvantage in this\n",
    "role, because they must also create the class object.\n",
    "\"\"\""
   ]
  }
 ],
 "metadata": {
  "kernelspec": {
   "display_name": "Python 3",
   "language": "python",
   "name": "python3"
  },
  "language_info": {
   "codemirror_mode": {
    "name": "ipython",
    "version": 3
   },
   "file_extension": ".py",
   "mimetype": "text/x-python",
   "name": "python",
   "nbconvert_exporter": "python",
   "pygments_lexer": "ipython3",
   "version": "3.8.5"
  }
 },
 "nbformat": 4,
 "nbformat_minor": 4
}
