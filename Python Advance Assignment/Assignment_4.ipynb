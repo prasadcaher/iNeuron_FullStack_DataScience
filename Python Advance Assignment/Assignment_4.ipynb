{
 "cells": [
  {
   "cell_type": "markdown",
   "metadata": {},
   "source": [
    "<h1 style='text-align:center'>Python Advance : Assignment - 4</h1>\n",
    "\n",
    "<h3 style='text-align:center'> Submitted by Prasad Aher </h3>\n",
    "<br>"
   ]
  },
  {
   "cell_type": "markdown",
   "metadata": {},
   "source": [
    "### Question 1 : Which two operator overloading methods can you use in your classes to support iteration?"
   ]
  },
  {
   "cell_type": "code",
   "execution_count": 6,
   "metadata": {},
   "outputs": [
    {
     "data": {
      "text/plain": [
       "'\\n__getitem__ \\n\\nor\\n__iter__\\n\\n'"
      ]
     },
     "execution_count": 6,
     "metadata": {},
     "output_type": "execute_result"
    }
   ],
   "source": [
    "# Answer : \n",
    "\"\"\"\n",
    "__getitem__ \n",
    "\n",
    "or\n",
    "__iter__\n",
    "\n",
    "\"\"\""
   ]
  },
  {
   "cell_type": "markdown",
   "metadata": {},
   "source": [
    "### Question 2 : In what contexts do the two operator overloading methods manage printing?"
   ]
  },
  {
   "cell_type": "code",
   "execution_count": 7,
   "metadata": {},
   "outputs": [
    {
     "data": {
      "text/plain": [
       "'\\nThe __str__ and __repr__ methods implement object print displays. The former is\\ncalled by the print and str built-in functions; the latter is called by print and str\\nif there is no __str__, and always by the repr built-in, interactive echoes, and nested\\nappearances. That is, __repr__ is used everywhere, except by print and str when\\na __str__ is defined. A __str__ is usually used for user-friendly displays;\\n__repr__ gives extra details or the object’s as-code form.\\n\\n'"
      ]
     },
     "execution_count": 7,
     "metadata": {},
     "output_type": "execute_result"
    }
   ],
   "source": [
    "# Answer : \n",
    "\"\"\"\n",
    "The __str__ and __repr__ methods implement object print displays. The former is\n",
    "called by the print and str built-in functions; the latter is called by print and str\n",
    "if there is no __str__, and always by the repr built-in, interactive echoes, and nested\n",
    "appearances. That is, __repr__ is used everywhere, except by print and str when\n",
    "a __str__ is defined. A __str__ is usually used for user-friendly displays;\n",
    "__repr__ gives extra details or the object’s as-code form.\n",
    "\n",
    "\"\"\""
   ]
  },
  {
   "cell_type": "markdown",
   "metadata": {},
   "source": [
    "### Question 3 : In a class, how do you intercept slice operations?"
   ]
  },
  {
   "cell_type": "code",
   "execution_count": 8,
   "metadata": {},
   "outputs": [
    {
     "data": {
      "text/plain": [
       "'\\nSlicing is caught by the __getitem__ indexing method: it is called with a slice object,\\ninstead of a simple integer index, and slice objects may be passed on or inspected\\nas needed.\\n'"
      ]
     },
     "execution_count": 8,
     "metadata": {},
     "output_type": "execute_result"
    }
   ],
   "source": [
    "# Answer: \n",
    "\"\"\"\n",
    "Slicing is caught by the __getitem__ indexing method: it is called with a slice object,\n",
    "instead of a simple integer index, and slice objects may be passed on or inspected\n",
    "as needed.\n",
    "\"\"\""
   ]
  },
  {
   "cell_type": "markdown",
   "metadata": {},
   "source": [
    "### Question 4 : In a class, how do you capture in-place addition?"
   ]
  },
  {
   "cell_type": "code",
   "execution_count": 9,
   "metadata": {},
   "outputs": [
    {
     "data": {
      "text/plain": [
       "'\\nIn-place addition tries __iadd__ first, and __add__ with an assignment second. The\\nsame pattern holds true for all binary operators. The __radd__ method is also available\\nfor right-side addition.\\n'"
      ]
     },
     "execution_count": 9,
     "metadata": {},
     "output_type": "execute_result"
    }
   ],
   "source": [
    "# Answer :\n",
    "\"\"\"\n",
    "In-place addition tries __iadd__ first, and __add__ with an assignment second. The\n",
    "same pattern holds true for all binary operators. The __radd__ method is also available\n",
    "for right-side addition.\n",
    "\"\"\""
   ]
  },
  {
   "cell_type": "markdown",
   "metadata": {},
   "source": [
    "### Question 5 : When is it appropriate to use operator overloading?"
   ]
  },
  {
   "cell_type": "code",
   "execution_count": 10,
   "metadata": {},
   "outputs": [
    {
     "data": {
      "text/plain": [
       "'\\nWhen a class naturally matches, or needs to emulate, a built-in type’s interfaces.\\nFor example, collections might imitate sequence or mapping interfaces, and callables\\nmight be coded for use with an API that expects a function. You generally\\nshouldn’t implement expression operators if they don’t naturally map to your objects\\nnaturally and logically, though—use normally named methods instead.\\n'"
      ]
     },
     "execution_count": 10,
     "metadata": {},
     "output_type": "execute_result"
    }
   ],
   "source": [
    "# Answer :\n",
    "\"\"\"\n",
    "When a class naturally matches, or needs to emulate, a built-in type’s interfaces.\n",
    "For example, collections might imitate sequence or mapping interfaces, and callables\n",
    "might be coded for use with an API that expects a function. You generally\n",
    "shouldn’t implement expression operators if they don’t naturally map to your objects\n",
    "naturally and logically, though—use normally named methods instead.\n",
    "\"\"\""
   ]
  }
 ],
 "metadata": {
  "kernelspec": {
   "display_name": "Python 3",
   "language": "python",
   "name": "python3"
  },
  "language_info": {
   "codemirror_mode": {
    "name": "ipython",
    "version": 3
   },
   "file_extension": ".py",
   "mimetype": "text/x-python",
   "name": "python",
   "nbconvert_exporter": "python",
   "pygments_lexer": "ipython3",
   "version": "3.8.5"
  }
 },
 "nbformat": 4,
 "nbformat_minor": 4
}
