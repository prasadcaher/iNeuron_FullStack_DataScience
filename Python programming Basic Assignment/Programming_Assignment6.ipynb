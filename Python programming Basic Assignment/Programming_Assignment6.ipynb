{
 "cells": [
  {
   "cell_type": "markdown",
   "id": "silent-robertson",
   "metadata": {},
   "source": [
    "# Python Programming Basic Assignment - 6\n",
    "## Submitted by Prasad Aher"
   ]
  },
  {
   "cell_type": "markdown",
   "id": "false-vehicle",
   "metadata": {},
   "source": [
    "#### Question 1.\tWrite a Python Program to Display Fibonacci Sequence Using Recursion?"
   ]
  },
  {
   "cell_type": "code",
   "execution_count": 1,
   "id": "extreme-garbage",
   "metadata": {},
   "outputs": [
    {
     "name": "stdout",
     "output_type": "stream",
     "text": [
      "Number: 10\n",
      "Fibonacci sequence:\n",
      "0\n",
      "1\n",
      "1\n",
      "2\n",
      "3\n",
      "5\n",
      "8\n",
      "13\n",
      "21\n",
      "34\n"
     ]
    }
   ],
   "source": [
    "def fib_recur(n):\n",
    "    if n <= 1:\n",
    "        return n\n",
    "    else:\n",
    "        return (fib_recur(n-1) + fib_recur (n-2))\n",
    "\n",
    "n = int(input(\"Number: \"))\n",
    "\n",
    "if n <= 0:\n",
    "    print(\"Invalid input, please enter a positive integer\")\n",
    "else:\n",
    "    print(\"Fibonacci sequence:\")\n",
    "    for i in range(n):\n",
    "        print(fib_recur(i))\n",
    "    "
   ]
  },
  {
   "cell_type": "markdown",
   "id": "partial-italian",
   "metadata": {},
   "source": [
    "#### Question 2.\tWrite a Python Program to Find Factorial of Number Using Recursion?"
   ]
  },
  {
   "cell_type": "code",
   "execution_count": 2,
   "id": "human-karaoke",
   "metadata": {},
   "outputs": [
    {
     "name": "stdout",
     "output_type": "stream",
     "text": [
      "Enter Number: 50\n",
      "The factorial of 50 is 30414093201713378043612608166064768844377641568960512000000000000\n"
     ]
    }
   ],
   "source": [
    "def factorial_recur(n):\n",
    "    if n == 1:\n",
    "        return 1\n",
    "    else:\n",
    "        return (n * factorial_recur(n-1))\n",
    "\n",
    "\n",
    "n = int(input(\"Enter Number: \"))\n",
    "print(f\"The factorial of {n} is {factorial_recur(n)}\")"
   ]
  },
  {
   "cell_type": "markdown",
   "id": "directed-scott",
   "metadata": {},
   "source": [
    "#### Question 3. Write a Python Program to calculate your Body Mass Index?"
   ]
  },
  {
   "cell_type": "code",
   "execution_count": 3,
   "id": "rocky-teacher",
   "metadata": {},
   "outputs": [
    {
     "name": "stdout",
     "output_type": "stream",
     "text": [
      "This is Simple Body Mass Index Calculator\n",
      "\n",
      "BMI Categories:\n",
      "    Underweight = <18.5\n",
      "    Normal weight = 18.5 to 24.9\n",
      "    Overweight = 25 to 29.9\n",
      "    Obesity = 30 or greater\n",
      "    \n",
      "Enter your Weight in kgs: 85\n",
      "Enter your Height in centimeters: 180\n"
     ]
    },
    {
     "data": {
      "text/plain": [
       "'Your BMI is : 26.2, Your weight is in Overweight category.'"
      ]
     },
     "execution_count": 3,
     "metadata": {},
     "output_type": "execute_result"
    }
   ],
   "source": [
    "def bmi(wt,ht):\n",
    "    BMI = wt/(ht/100)**2\n",
    "    if BMI < 18.5:\n",
    "        return (f\"Your BMI is : {BMI:.1f}, Your weight is in Underweight category\")\n",
    "    elif BMI >= 18.5 and BMI < 24.9:\n",
    "        return (f\"Your BMI is : {BMI:.1f}, Your weight is in Normal category.\")\n",
    "    elif BMI >= 25 and BMI < 29.9:\n",
    "        return (f\"Your BMI is : {BMI:.1f}, Your weight is in Overweight category.\")\n",
    "    else:\n",
    "        return (f\"Your BMI is : {BMI:.1f}, Your weight is in Obesity category\")\n",
    "\n",
    "print(\"This is Simple Body Mass Index Calculator\")\n",
    "\n",
    "print(\"\"\"\\nBMI Categories:\n",
    "    Underweight = <18.5\n",
    "    Normal weight = 18.5 to 24.9\n",
    "    Overweight = 25 to 29.9\n",
    "    Obesity = 30 or greater\n",
    "    \"\"\")\n",
    "\n",
    "weight = float(input(\"Enter your Weight in kgs: \"))\n",
    "height = float(input(\"Enter your Height in centimeters: \"))\n",
    "\n",
    "bmi(weight,height)"
   ]
  },
  {
   "cell_type": "markdown",
   "id": "talented-standing",
   "metadata": {},
   "source": [
    "#### Question 4. Write a Python Program to calculate the natural logarithm of any number?"
   ]
  },
  {
   "cell_type": "code",
   "execution_count": 4,
   "id": "ordered-wheel",
   "metadata": {},
   "outputs": [
    {
     "name": "stdout",
     "output_type": "stream",
     "text": [
      "Enter number to find natural log : 25\n"
     ]
    },
    {
     "data": {
      "text/plain": [
       "'Natural Log of 25.0 is : 3.2188758248682006'"
      ]
     },
     "execution_count": 4,
     "metadata": {},
     "output_type": "execute_result"
    }
   ],
   "source": [
    "def ln(x):\n",
    "    import math\n",
    "    natural_log = math.log(x)\n",
    "    return(f\"Natural Log of {x} is : {natural_log}\")\n",
    "\n",
    "n = float(input(\"Enter number to find natural log : \"))\n",
    "ln(n)"
   ]
  },
  {
   "cell_type": "markdown",
   "id": "incorporate-boring",
   "metadata": {},
   "source": [
    "#### Question 5. Write a Python Program for cube sum of first n natural numbers?"
   ]
  },
  {
   "cell_type": "code",
   "execution_count": 5,
   "id": "mounted-cruise",
   "metadata": {},
   "outputs": [
    {
     "name": "stdout",
     "output_type": "stream",
     "text": [
      "Enter Number : 5\n"
     ]
    },
    {
     "data": {
      "text/plain": [
       "'Sum of Cubes of Natural Numbers in range 1 to 5 is : 225 '"
      ]
     },
     "execution_count": 5,
     "metadata": {},
     "output_type": "execute_result"
    }
   ],
   "source": [
    "def sum_cube(n):\n",
    "    s = 0\n",
    "    for i in range(1, n+1):\n",
    "        s += (i**3)\n",
    "    return (f\"Sum of Cubes of Natural Numbers in range 1 to {n} is : {s} \")\n",
    "\n",
    "n = int(input(\"Enter Number : \"))\n",
    "sum_cube(n)"
   ]
  }
 ],
 "metadata": {
  "kernelspec": {
   "display_name": "Python 3",
   "language": "python",
   "name": "python3"
  },
  "language_info": {
   "codemirror_mode": {
    "name": "ipython",
    "version": 3
   },
   "file_extension": ".py",
   "mimetype": "text/x-python",
   "name": "python",
   "nbconvert_exporter": "python",
   "pygments_lexer": "ipython3",
   "version": "3.9.2"
  }
 },
 "nbformat": 4,
 "nbformat_minor": 5
}
