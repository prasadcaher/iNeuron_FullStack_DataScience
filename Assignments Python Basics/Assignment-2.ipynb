{
 "cells": [
  {
   "cell_type": "markdown",
   "metadata": {},
   "source": [
    "# Python Basics : Assignment -2"
   ]
  },
  {
   "cell_type": "markdown",
   "metadata": {},
   "source": [
    "## Submitted by Prasad Aher"
   ]
  },
  {
   "cell_type": "markdown",
   "metadata": {},
   "source": [
    "### Question 1: What are the Boolean data type's two values? How do you go about writing them?"
   ]
  },
  {
   "cell_type": "code",
   "execution_count": 9,
   "metadata": {},
   "outputs": [
    {
     "data": {
      "text/plain": [
       "'\\nTrue and False\\n'"
      ]
     },
     "execution_count": 9,
     "metadata": {},
     "output_type": "execute_result"
    }
   ],
   "source": [
    "# Answer:\n",
    "\"\"\"\n",
    "True and False\n",
    "\"\"\""
   ]
  },
  {
   "cell_type": "markdown",
   "metadata": {},
   "source": [
    "### Question 2: What are the three different types of Boolean operators?"
   ]
  },
  {
   "cell_type": "code",
   "execution_count": 3,
   "metadata": {},
   "outputs": [],
   "source": [
    "# Answer:\n",
    "\"\"\"\n",
    "and\n",
    "or\n",
    "not\n",
    "\"\"\""
   ]
  },
  {
   "cell_type": "markdown",
   "metadata": {},
   "source": [
    "### Question 3: Make a list of each Boolean operator's truth tables (i.e. every possible combination of Boolean values for the operator and what it evaluate )."
   ]
  },
  {
   "cell_type": "code",
   "execution_count": 4,
   "metadata": {},
   "outputs": [],
   "source": [
    "# Answer:\n",
    "\"\"\"\n",
    "True and  True = True\n",
    "\n",
    "True and  False = False\n",
    "\n",
    "False and True = False\n",
    "\n",
    "True or True = True\n",
    "\n",
    "True or False  = True\n",
    "\n",
    "False or True = True\n",
    "\n",
    "False or False  = False\n",
    "\n",
    "not True = False\n",
    "\n",
    "not False = True\n",
    "\"\"\""
   ]
  },
  {
   "cell_type": "markdown",
   "metadata": {},
   "source": [
    "### Question 4: What are the values of the following expressions? \n",
    "#### (5 > 4) and (3 == 5)\n",
    "#### not (5 > 4)\n",
    "#### (5 > 4) or (3 == 5)\n",
    "#### not ((5 > 4) or (3 == 5))\n",
    "#### (True and True) and (True == False)\n",
    "#### (not False) or (not True)\n"
   ]
  },
  {
   "cell_type": "code",
   "execution_count": 10,
   "metadata": {},
   "outputs": [
    {
     "data": {
      "text/plain": [
       "'\\n(5 > 4) and (3 == 5)                 :  False\\nnot (5 > 4)                          :  False\\n(5 > 4) or (3 == 5)                  :  True\\nnot ((5 > 4) or (3 == 5))            :   False\\n(True and True) and (True == False)  : False\\n(not False) or (not True)  :   True \\n\\n'"
      ]
     },
     "execution_count": 10,
     "metadata": {},
     "output_type": "execute_result"
    }
   ],
   "source": [
    "# Answer:\n",
    "\"\"\"\n",
    "(5 > 4) and (3 == 5)                 :  False\n",
    "not (5 > 4)                          :  False\n",
    "(5 > 4) or (3 == 5)                  :  True\n",
    "not ((5 > 4) or (3 == 5))            :   False\n",
    "(True and True) and (True == False)  : False\n",
    "(not False) or (not True)  :   True \n",
    "\n",
    "\"\"\""
   ]
  },
  {
   "cell_type": "markdown",
   "metadata": {},
   "source": [
    "### Question 5:  What are the six different types of reference operators?"
   ]
  },
  {
   "cell_type": "code",
   "execution_count": 11,
   "metadata": {},
   "outputs": [
    {
     "data": {
      "text/plain": [
       "'\\n\\nEqual to ==\\nNot Equal to != \\nLess than < \\nGreater than >\\nLess than or equal to <=\\nGreater than or equal to >=\\n\\n'"
      ]
     },
     "execution_count": 11,
     "metadata": {},
     "output_type": "execute_result"
    }
   ],
   "source": [
    "# Answer:\n",
    "\"\"\"\n",
    "\n",
    "Equal to ==\n",
    "Not Equal to != \n",
    "Less than < \n",
    "Greater than >\n",
    "Less than or equal to <=\n",
    "Greater than or equal to >=\n",
    "\n",
    "\"\"\""
   ]
  },
  {
   "cell_type": "markdown",
   "metadata": {},
   "source": [
    "### Question 6: How do you tell the difference between the equal to and assignment operators? "
   ]
  },
  {
   "cell_type": "code",
   "execution_count": 12,
   "metadata": {},
   "outputs": [
    {
     "data": {
      "text/plain": [
       "'\\n\" == \" is  an Equal to operator used to compares two values. \\n\\n\" = \" is the assignment operator that stores a value in a variable.\\n\\n'"
      ]
     },
     "execution_count": 12,
     "metadata": {},
     "output_type": "execute_result"
    }
   ],
   "source": [
    "# Answer:\n",
    "\"\"\"\n",
    "\" == \" is  an Equal to operator used to compares two values. \n",
    "\n",
    "\" = \" is the assignment operator that stores a value in a variable.\n",
    "\n",
    "\"\"\""
   ]
  },
  {
   "cell_type": "markdown",
   "metadata": {},
   "source": [
    "### Question 7: Describe a condition and when you would use one."
   ]
  },
  {
   "cell_type": "code",
   "execution_count": 13,
   "metadata": {},
   "outputs": [
    {
     "data": {
      "text/plain": [
       "'\\nCondition is an statement which compares variable and evaluate to True or False \\n'"
      ]
     },
     "execution_count": 13,
     "metadata": {},
     "output_type": "execute_result"
    }
   ],
   "source": [
    "# Answer:\n",
    "\"\"\"\n",
    "Condition is an statement which compares variable and evaluate to True or False \n",
    "\"\"\""
   ]
  },
  {
   "cell_type": "markdown",
   "metadata": {},
   "source": [
    "### Question 8: Recognize the following three blocks in this code:\n",
    "\n",
    "##### spam = 0\n",
    "##### if spam == 10:\n",
    "#####    print('eggs')\n",
    "#####    if spam > 5:\n",
    "#####        print('bacon')\n",
    "#####    else:\n",
    "#####        print('ham')\n",
    "#####     print('spam')\n",
    "##### print('spam')\n"
   ]
  },
  {
   "cell_type": "code",
   "execution_count": null,
   "metadata": {},
   "outputs": [],
   "source": [
    "# Answer:\n",
    "\"\"\"\n",
    "1st Block :\n",
    "if spam == 10:\n",
    "    print('eggs')\n",
    "\n",
    "2nd Block :\n",
    "    if spam > 5:\n",
    "        print('bacon')\n",
    "\n",
    "3rd Block :\n",
    "    else:\n",
    "        print('ham')\n",
    "    print('spam')\n",
    "print('spam')\n",
    "\n",
    "\n",
    "\"\"\""
   ]
  },
  {
   "cell_type": "markdown",
   "metadata": {},
   "source": [
    "### Question 9: Create a programme that prints. If 1 is stored in spam, prints Hello; if 2 is stored in spam, prints Howdy; and if 3 is stored in spam, prints Salutations! if there's something else in spam."
   ]
  },
  {
   "cell_type": "code",
   "execution_count": 14,
   "metadata": {},
   "outputs": [
    {
     "name": "stdout",
     "output_type": "stream",
     "text": [
      "Hello\n"
     ]
    }
   ],
   "source": [
    "spam = 1\n",
    "if spam == 1:\n",
    "    print(\"Hello\")\n",
    "elif spam == 2:\n",
    "    print(\"Howdy\")\n",
    "elif spam == 3:\n",
    "    print(\"Salutations!\")\n",
    "else:\n",
    "    print(\"if there's something wrong\")"
   ]
  },
  {
   "cell_type": "markdown",
   "metadata": {},
   "source": [
    "# Question 10: If your programme is stuck in an endless loop, what keys can you press?"
   ]
  },
  {
   "cell_type": "code",
   "execution_count": 15,
   "metadata": {},
   "outputs": [
    {
     "data": {
      "text/plain": [
       "'\\nWe can break loop by pressing \"Ctrl + C\"\\n'"
      ]
     },
     "execution_count": 15,
     "metadata": {},
     "output_type": "execute_result"
    }
   ],
   "source": [
    "#Answer :\n",
    "\"\"\"\n",
    "We can break loop by pressing \"Ctrl + C\"\n",
    "\"\"\""
   ]
  },
  {
   "cell_type": "markdown",
   "metadata": {},
   "source": [
    "# Question 11: How can you tell the difference between break and continue?"
   ]
  },
  {
   "cell_type": "code",
   "execution_count": null,
   "metadata": {},
   "outputs": [],
   "source": [
    "# Answer:\n",
    "\"\"\"\n",
    "Break : When used in a statement, it breaks the loop and exits the statement.\n",
    "\n",
    "Continue : The continue statement ignores the rest of the statements inside a loop, \n",
    "           and continues with the next iteration.\n",
    "\n",
    "\"\"\""
   ]
  },
  {
   "cell_type": "markdown",
   "metadata": {},
   "source": [
    "# Question 12: In a for loop, what is the difference between range(10), range(0, 10), and range(0, 10, 1)?"
   ]
  },
  {
   "cell_type": "code",
   "execution_count": 1,
   "metadata": {},
   "outputs": [
    {
     "data": {
      "text/plain": [
       "'\\n1. range(10) = This will call range from 0 to 9 \\n2. range(0,10) = Here we are mentioning Start point and End point \\n3. range(0,10,1) = Here we are mentioning Start point, End point and Step Size.\\n\\nAll of above will give same output.\\n'"
      ]
     },
     "execution_count": 1,
     "metadata": {},
     "output_type": "execute_result"
    }
   ],
   "source": [
    "# Answer:\n",
    "\"\"\"\n",
    "1. range(10) = This will call range from 0 to 9 \n",
    "2. range(0,10) = Here we are mentioning Start point and End point \n",
    "3. range(0,10,1) = Here we are mentioning Start point, End point and Step Size.\n",
    "\n",
    "All of above will give same output.\n",
    "\"\"\""
   ]
  },
  {
   "cell_type": "markdown",
   "metadata": {},
   "source": [
    "# Question 13: Using a for loop, write a short programme that prints the numbers 1 to 10 Then, using a while loop, create an identical programme that prints the numbers 1 to 10."
   ]
  },
  {
   "cell_type": "code",
   "execution_count": 2,
   "metadata": {
    "collapsed": true
   },
   "outputs": [
    {
     "name": "stdout",
     "output_type": "stream",
     "text": [
      "1\n",
      "2\n",
      "3\n",
      "4\n",
      "5\n",
      "6\n",
      "7\n",
      "8\n",
      "9\n",
      "10\n"
     ]
    }
   ],
   "source": [
    "# Answer:\n",
    "# Part-1 using for loop\n",
    "\n",
    "for i in range(1,11):\n",
    "    print(i)"
   ]
  },
  {
   "cell_type": "code",
   "execution_count": 3,
   "metadata": {
    "collapsed": true
   },
   "outputs": [
    {
     "name": "stdout",
     "output_type": "stream",
     "text": [
      "1\n",
      "2\n",
      "3\n",
      "4\n",
      "5\n",
      "6\n",
      "7\n",
      "8\n",
      "9\n",
      "10\n"
     ]
    }
   ],
   "source": [
    "# Answer:\n",
    "# Part-2 using while loop\n",
    "\n",
    "i = 1\n",
    "while i <=10:\n",
    "    print(i)\n",
    "    i+=1"
   ]
  },
  {
   "cell_type": "markdown",
   "metadata": {},
   "source": [
    "# Question 14: If you had a bacon() function within a spam module, how  would you call it after importing spam?"
   ]
  },
  {
   "cell_type": "code",
   "execution_count": null,
   "metadata": {},
   "outputs": [],
   "source": [
    "# Answer:\n",
    "\n",
    "\"\"\"\n",
    "import spam\n",
    "\n",
    "spam.bacon()\n",
    "\n",
    "\"\"\""
   ]
  }
 ],
 "metadata": {
  "kernelspec": {
   "display_name": "Python 3",
   "language": "python",
   "name": "python3"
  },
  "language_info": {
   "codemirror_mode": {
    "name": "ipython",
    "version": 3
   },
   "file_extension": ".py",
   "mimetype": "text/x-python",
   "name": "python",
   "nbconvert_exporter": "python",
   "pygments_lexer": "ipython3",
   "version": "3.9.1"
  }
 },
 "nbformat": 4,
 "nbformat_minor": 4
}
