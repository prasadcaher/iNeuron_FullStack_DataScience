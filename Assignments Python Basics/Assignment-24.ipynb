{
 "cells": [
  {
   "cell_type": "markdown",
   "metadata": {},
   "source": [
    "<h1 style='text-align:center'>Python Basics : Assignment - 24</h1>\n",
    "\n",
    "<h3 style='text-align:center'> Submitted by Prasad Aher </h3>\n",
    "<br>"
   ]
  },
  {
   "cell_type": "markdown",
   "metadata": {},
   "source": [
    "### Question 1 : What is the relationship between def statements and lambda expressions ?"
   ]
  },
  {
   "cell_type": "code",
   "execution_count": 2,
   "metadata": {},
   "outputs": [
    {
     "data": {
      "text/plain": [
       "\"\\n\\n1. Lambda is an expression also known as anonymous functions, which can be assigned to a variable and can be called \\n   using the variable later in function.\\n   \\n2. Lambda's body is a single expression and not a block of statements like def statement.\\n   The lambda's body is similar to what we'd put in a def body's return statement. We simply type the result as an\\n   expression instead of explicitly returning it. Because it is limited to an expression, a lambda is less general \\n   than a def statement. \\n   \\n\""
      ]
     },
     "execution_count": 2,
     "metadata": {},
     "output_type": "execute_result"
    }
   ],
   "source": [
    "# Answer :\n",
    "\"\"\"\n",
    "\n",
    "1. Lambda is an expression also known as anonymous functions, which can be assigned to a variable and can be called \n",
    "   using the variable later in function.\n",
    "   \n",
    "2. Lambda's body is a single expression and not a block of statements like def statement.\n",
    "   The lambda's body is similar to what we'd put in a def body's return statement. We simply type the result as an\n",
    "   expression instead of explicitly returning it. Because it is limited to an expression, a lambda is less general \n",
    "   than a def statement. \n",
    "   \n",
    "\"\"\""
   ]
  },
  {
   "cell_type": "markdown",
   "metadata": {},
   "source": [
    "### Question 2 : What is the benefit of lambda?"
   ]
  },
  {
   "cell_type": "code",
   "execution_count": 3,
   "metadata": {},
   "outputs": [
    {
     "data": {
      "text/plain": [
       "'\\n1. Fewer lines of Code.\\n2. Can be used easily by calling the variable.\\n\\n'"
      ]
     },
     "execution_count": 3,
     "metadata": {},
     "output_type": "execute_result"
    }
   ],
   "source": [
    "# Answer : \n",
    "\"\"\"\n",
    "1. Fewer lines of Code.\n",
    "2. Can be used easily by calling the variable.\n",
    "\n",
    "\"\"\""
   ]
  },
  {
   "cell_type": "markdown",
   "metadata": {},
   "source": [
    "### Question 3 : Compare and contrast map, filter, and reduce."
   ]
  },
  {
   "cell_type": "code",
   "execution_count": 4,
   "metadata": {},
   "outputs": [
    {
     "data": {
      "text/plain": [
       "'\\nThe map() function: The map() function is a type of higher-order. This function takes another function as a parameter\\nalong with a sequence of iterables and returns an output after applying the function to each iterable present in the\\nsequence. \\n\\nThe filter() function: The filter() function is used to create an output list consisting of values for which the \\nfunction returns true.\\n\\nThe reduce() function: The reduce() function, as the name describes, applies a given function to the iterables and \\nreturns a single value.\\n\\n'"
      ]
     },
     "execution_count": 4,
     "metadata": {},
     "output_type": "execute_result"
    }
   ],
   "source": [
    "# Answer :\n",
    "\"\"\"\n",
    "The map() function: The map() function is a type of higher-order. This function takes another function as a parameter\n",
    "along with a sequence of iterables and returns an output after applying the function to each iterable present in the\n",
    "sequence. \n",
    "\n",
    "The filter() function: The filter() function is used to create an output list consisting of values for which the \n",
    "function returns true.\n",
    "\n",
    "The reduce() function: The reduce() function, as the name describes, applies a given function to the iterables and \n",
    "returns a single value.\n",
    "\n",
    "\"\"\""
   ]
  },
  {
   "cell_type": "code",
   "execution_count": 21,
   "metadata": {},
   "outputs": [
    {
     "data": {
      "text/plain": [
       "'\\nHere, the function will print the value of local variable X  when the function func() is called.\\nand print(X) will print value of X which is defined outside function.\\n'"
      ]
     },
     "execution_count": 21,
     "metadata": {},
     "output_type": "execute_result"
    }
   ],
   "source": [
    "# Answer :\n",
    "\"\"\"\n",
    "Here, the function will print the value of local variable X  when the function func() is called.\n",
    "and print(X) will print value of X which is defined outside function.\n",
    "\"\"\""
   ]
  },
  {
   "cell_type": "markdown",
   "metadata": {},
   "source": [
    "### Question 4 : What are function annotations, and how are they used?"
   ]
  },
  {
   "cell_type": "code",
   "execution_count": 5,
   "metadata": {},
   "outputs": [
    {
     "data": {
      "text/plain": [
       "'\\nFunction annotations provide a way of associating various parts of a function with arbitrary python\\nexpressions at compile time. \\n\\nAnnotations of simple parameters\\n\\ndef func(x: expression, y: expression = 20):\\n\\n\\nWhereas the annotations for excess parameters are as −\\n\\ndef func (**args: expression, **kwargs: expression):\\n\\n\\n'"
      ]
     },
     "execution_count": 5,
     "metadata": {},
     "output_type": "execute_result"
    }
   ],
   "source": [
    "# Answer : \n",
    "\"\"\"\n",
    "Function annotations provide a way of associating various parts of a function with arbitrary python\n",
    "expressions at compile time. \n",
    "\n",
    "Annotations of simple parameters\n",
    "\n",
    "def func(x: expression, y: expression = 20):\n",
    "\n",
    "\n",
    "Whereas the annotations for excess parameters are as −\n",
    "\n",
    "def func (**args: expression, **kwargs: expression):\n",
    "\n",
    "\n",
    "\"\"\""
   ]
  },
  {
   "cell_type": "code",
   "execution_count": 23,
   "metadata": {},
   "outputs": [
    {
     "data": {
      "text/plain": [
       "'\\nIn the above code, inside the function we are calling the global variable X and further assigning new value to it.\\nSo when we call the function the value of X is changed as per the defined function. \\n'"
      ]
     },
     "execution_count": 23,
     "metadata": {},
     "output_type": "execute_result"
    }
   ],
   "source": [
    "# Answer : \n",
    "\"\"\"\n",
    "In the above code, inside the function we are calling the global variable X and further assigning new value to it.\n",
    "So when we call the function the value of X is changed as per the defined function. \n",
    "\"\"\""
   ]
  },
  {
   "cell_type": "markdown",
   "metadata": {},
   "source": [
    "### Question 5 : What are recursive functions, and how are they used?"
   ]
  },
  {
   "cell_type": "code",
   "execution_count": 6,
   "metadata": {},
   "outputs": [
    {
     "data": {
      "text/plain": [
       "'\\nA recursive function is a function that calls itself during its execution. The process may repeat several times, \\noutputting the result and the end of each iteration. \\n'"
      ]
     },
     "execution_count": 6,
     "metadata": {},
     "output_type": "execute_result"
    }
   ],
   "source": [
    "# Answer : \n",
    "\"\"\"\n",
    "A recursive function is a function that calls itself during its execution. The process may repeat several times, \n",
    "outputting the result and the end of each iteration. \n",
    "\"\"\"\n"
   ]
  },
  {
   "cell_type": "markdown",
   "metadata": {},
   "source": [
    "### Question 6 : What are some general design guidelines for coding functions?"
   ]
  },
  {
   "cell_type": "code",
   "execution_count": 9,
   "metadata": {},
   "outputs": [
    {
     "data": {
      "text/plain": [
       "'\\n1. Limited use of globals\\n\\n2. Standard headers for different modules.\\n\\n3. Naming conventions for local variables, global variables, constants and functions:\\n    Some of the naming conventions are given below:\\n    - Meaningful and understandable variables name helps anyone to understand the reason of using it.\\n    \\n    - Local variables should be named using camel case lettering starting with small letter (e.g. localData) whereas \\n    Global variables names should start with a capital letter (e.g. GlobalData). Constant names should be formed using capital letters only (e.g. CONSDATA).\\n    \\n    - It is better to avoid the use of digits in variable names.\\n    \\n    - The names of the function should be written in camel case starting with small letters.\\n    \\n    - The name of the function must describe the reason of using the function clearly and briefly.\\n    \\n    \\n4. Proper indentation is very important to increase the readability of the code. \\n\\n\\n'"
      ]
     },
     "execution_count": 9,
     "metadata": {},
     "output_type": "execute_result"
    }
   ],
   "source": [
    "# Answer : Following are few general guidelines for coding functions:\n",
    "\"\"\"\n",
    "1. Limited use of globals\n",
    "\n",
    "2. Standard headers for different modules.\n",
    "\n",
    "3. Naming conventions for local variables, global variables, constants and functions:\n",
    "    Some of the naming conventions are given below:\n",
    "    - Meaningful and understandable variables name helps anyone to understand the reason of using it.\n",
    "    \n",
    "    - Local variables should be named using camel case lettering starting with small letter (e.g. localData) whereas \n",
    "    Global variables names should start with a capital letter (e.g. GlobalData). Constant names should be formed using capital letters only (e.g. CONSDATA).\n",
    "    \n",
    "    - It is better to avoid the use of digits in variable names.\n",
    "    \n",
    "    - The names of the function should be written in camel case starting with small letters.\n",
    "    \n",
    "    - The name of the function must describe the reason of using the function clearly and briefly.\n",
    "    \n",
    "    \n",
    "4. Proper indentation is very important to increase the readability of the code. \n",
    "\n",
    "\n",
    "\"\"\""
   ]
  },
  {
   "cell_type": "markdown",
   "metadata": {},
   "source": [
    "### Question 6 : Name three or more ways that functions can communicate results to a caller."
   ]
  },
  {
   "cell_type": "code",
   "execution_count": 10,
   "metadata": {},
   "outputs": [
    {
     "data": {
      "text/plain": [
       "'\\nprint()\\nreturn\\nyield \\n'"
      ]
     },
     "execution_count": 10,
     "metadata": {},
     "output_type": "execute_result"
    }
   ],
   "source": [
    "# Answer :\n",
    "\"\"\"\n",
    "print()\n",
    "return\n",
    "yield \n",
    "\"\"\""
   ]
  }
 ],
 "metadata": {
  "kernelspec": {
   "display_name": "Python 3",
   "language": "python",
   "name": "python3"
  },
  "language_info": {
   "codemirror_mode": {
    "name": "ipython",
    "version": 3
   },
   "file_extension": ".py",
   "mimetype": "text/x-python",
   "name": "python",
   "nbconvert_exporter": "python",
   "pygments_lexer": "ipython3",
   "version": "3.8.5"
  }
 },
 "nbformat": 4,
 "nbformat_minor": 5
}
