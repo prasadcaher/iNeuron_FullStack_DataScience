{
 "cells": [
  {
   "cell_type": "markdown",
   "id": "heavy-coast",
   "metadata": {},
   "source": [
    "# Python Basic Programming Assignment -2\n"
   ]
  },
  {
   "cell_type": "markdown",
   "id": "medieval-weekend",
   "metadata": {},
   "source": [
    "### Question 1: Write a Python program to convert kilometers to miles?"
   ]
  },
  {
   "cell_type": "code",
   "execution_count": 17,
   "id": "serial-being",
   "metadata": {},
   "outputs": [
    {
     "name": "stdout",
     "output_type": "stream",
     "text": [
      "Enter kilometers: 123\n",
      "123 kilometers = 76.43 miles\n"
     ]
    }
   ],
   "source": [
    "## Answer :\n",
    "a = int(input(\"Enter kilometers: \"))\n",
    "mile = a*0.6213712\n",
    "print (f'{a} kilometers = {mile:.2f} miles')"
   ]
  },
  {
   "cell_type": "markdown",
   "id": "careful-blast",
   "metadata": {},
   "source": [
    "### Question 2:\tWrite a Python program to convert Celsius to Fahrenheit?"
   ]
  },
  {
   "cell_type": "code",
   "execution_count": 20,
   "id": "instructional-roller",
   "metadata": {},
   "outputs": [
    {
     "name": "stdout",
     "output_type": "stream",
     "text": [
      "Enter Temperature in Degree Celsius: 36.2\n",
      "36.2 Deg Celsius = 97.16 Deg Fahrenheit\n"
     ]
    }
   ],
   "source": [
    "# Answer :\n",
    "temp = float(input(\"Enter Temperature in Degree Celsius: \"))\n",
    "f = temp*(9/5)+32\n",
    "print (f'{temp} Deg Celsius = {f:.2f} Deg Fahrenheit')"
   ]
  },
  {
   "cell_type": "markdown",
   "id": "official-pizza",
   "metadata": {},
   "source": [
    "### Question 3:\tWrite a Python program to display calendar?"
   ]
  },
  {
   "cell_type": "code",
   "execution_count": 36,
   "id": "eligible-temple",
   "metadata": {},
   "outputs": [
    {
     "name": "stdout",
     "output_type": "stream",
     "text": [
      "Enter Year in 'YYYY' format to view calander: 2021\n",
      "                                  2021\n",
      "\n",
      "      January                   February                   March\n",
      "Mo Tu We Th Fr Sa Su      Mo Tu We Th Fr Sa Su      Mo Tu We Th Fr Sa Su\n",
      "             1  2  3       1  2  3  4  5  6  7       1  2  3  4  5  6  7\n",
      " 4  5  6  7  8  9 10       8  9 10 11 12 13 14       8  9 10 11 12 13 14\n",
      "11 12 13 14 15 16 17      15 16 17 18 19 20 21      15 16 17 18 19 20 21\n",
      "18 19 20 21 22 23 24      22 23 24 25 26 27 28      22 23 24 25 26 27 28\n",
      "25 26 27 28 29 30 31                                29 30 31\n",
      "\n",
      "       April                      May                       June\n",
      "Mo Tu We Th Fr Sa Su      Mo Tu We Th Fr Sa Su      Mo Tu We Th Fr Sa Su\n",
      "          1  2  3  4                      1  2          1  2  3  4  5  6\n",
      " 5  6  7  8  9 10 11       3  4  5  6  7  8  9       7  8  9 10 11 12 13\n",
      "12 13 14 15 16 17 18      10 11 12 13 14 15 16      14 15 16 17 18 19 20\n",
      "19 20 21 22 23 24 25      17 18 19 20 21 22 23      21 22 23 24 25 26 27\n",
      "26 27 28 29 30            24 25 26 27 28 29 30      28 29 30\n",
      "                          31\n",
      "\n",
      "        July                     August                  September\n",
      "Mo Tu We Th Fr Sa Su      Mo Tu We Th Fr Sa Su      Mo Tu We Th Fr Sa Su\n",
      "          1  2  3  4                         1             1  2  3  4  5\n",
      " 5  6  7  8  9 10 11       2  3  4  5  6  7  8       6  7  8  9 10 11 12\n",
      "12 13 14 15 16 17 18       9 10 11 12 13 14 15      13 14 15 16 17 18 19\n",
      "19 20 21 22 23 24 25      16 17 18 19 20 21 22      20 21 22 23 24 25 26\n",
      "26 27 28 29 30 31         23 24 25 26 27 28 29      27 28 29 30\n",
      "                          30 31\n",
      "\n",
      "      October                   November                  December\n",
      "Mo Tu We Th Fr Sa Su      Mo Tu We Th Fr Sa Su      Mo Tu We Th Fr Sa Su\n",
      "             1  2  3       1  2  3  4  5  6  7             1  2  3  4  5\n",
      " 4  5  6  7  8  9 10       8  9 10 11 12 13 14       6  7  8  9 10 11 12\n",
      "11 12 13 14 15 16 17      15 16 17 18 19 20 21      13 14 15 16 17 18 19\n",
      "18 19 20 21 22 23 24      22 23 24 25 26 27 28      20 21 22 23 24 25 26\n",
      "25 26 27 28 29 30 31      29 30                     27 28 29 30 31\n",
      "\n"
     ]
    }
   ],
   "source": [
    "import calendar\n",
    "year = int(input(\"Enter Year in 'YYYY' format to view calander: \"))\n",
    "print(calendar.calendar(theyear =year))"
   ]
  },
  {
   "cell_type": "markdown",
   "id": "responsible-comment",
   "metadata": {},
   "source": [
    "### Question 4 : Write a Python program to solve quadratic equation?"
   ]
  },
  {
   "cell_type": "code",
   "execution_count": 43,
   "id": "laden-failure",
   "metadata": {},
   "outputs": [
    {
     "name": "stdout",
     "output_type": "stream",
     "text": [
      "Enter valu of a :1\n",
      "Enter valu of b :2\n",
      "Enter valu of c :3\n",
      "The values of x are : -1.00+1.41j and -1.00-1.41j\n"
     ]
    }
   ],
   "source": [
    "a = int(input(\"Enter valu of a :\"))\n",
    "b = int(input(\"Enter valu of b :\"))\n",
    "c = int(input(\"Enter valu of c :\"))\n",
    "\n",
    "x_positive = (-b + ((b**2)-(4*a*c))**0.5)/(2*a)\n",
    "x_negative = (-b - ((b**2)-(4*a*c))**0.5)/(2*a)\n",
    "\n",
    "print(f\"The values of x are : {x_positive:.2f} and {x_negative:.2f}\")"
   ]
  },
  {
   "cell_type": "markdown",
   "id": "convinced-trail",
   "metadata": {},
   "source": [
    "### Question 5:\tWrite a Python program to swap two variables without temp variable?"
   ]
  },
  {
   "cell_type": "code",
   "execution_count": 45,
   "id": "opposed-surface",
   "metadata": {},
   "outputs": [
    {
     "name": "stdout",
     "output_type": "stream",
     "text": [
      "Enter a Number A: 2\n",
      "Enter a Number B: 3\n",
      "Values after swap are A: 3 and B: 2\n"
     ]
    }
   ],
   "source": [
    "a = int(input(\"Enter a Number A: \"))\n",
    "b = int(input(\"Enter a Number B: \"))\n",
    "a,b = b,a\n",
    "\n",
    "print(f\"Values after swap are A: {a} and B: {b}\")"
   ]
  }
 ],
 "metadata": {
  "kernelspec": {
   "display_name": "Python 3",
   "language": "python",
   "name": "python3"
  },
  "language_info": {
   "codemirror_mode": {
    "name": "ipython",
    "version": 3
   },
   "file_extension": ".py",
   "mimetype": "text/x-python",
   "name": "python",
   "nbconvert_exporter": "python",
   "pygments_lexer": "ipython3",
   "version": "3.9.2"
  }
 },
 "nbformat": 4,
 "nbformat_minor": 5
}
