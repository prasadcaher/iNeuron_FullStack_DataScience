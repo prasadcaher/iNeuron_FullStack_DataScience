{
 "cells": [
  {
   "cell_type": "markdown",
   "metadata": {},
   "source": [
    "# Python Programming Basic Assignment - 9\n",
    "## Submitted by Prasad Aher"
   ]
  },
  {
   "cell_type": "markdown",
   "metadata": {},
   "source": [
    "### Question 1.\tWrite a Python program to check if the given number is a Disarium Number?"
   ]
  },
  {
   "cell_type": "code",
   "execution_count": 1,
   "metadata": {},
   "outputs": [],
   "source": [
    "n = 135\n",
    "\n",
    "def disarium_check(n):\n",
    "    li = [i for i in str(n)]\n",
    "    check = 0\n",
    "\n",
    "    for i in li:\n",
    "        check = check + int(i)**(li.index(i)+1)\n",
    "\n",
    "    if check == n:\n",
    "        return f\"The given number {n} is Disarium Number\"\n",
    "    else:\n",
    "        return f\"The given number {n} is not Disarium Number\"\n",
    "    \n",
    "\n",
    "disarium_check(n)"
   ]
  },
  {
   "cell_type": "markdown",
   "metadata": {},
   "source": [
    "### Question 2.\tWrite a Python program to print all disarium numbers between 1 to 100?"
   ]
  },
  {
   "cell_type": "code",
   "execution_count": 2,
   "metadata": {},
   "outputs": [
    {
     "name": "stdout",
     "output_type": "stream",
     "text": [
      "1 is Disarium Number\n",
      "2 is Disarium Number\n",
      "3 is Disarium Number\n",
      "4 is Disarium Number\n",
      "5 is Disarium Number\n",
      "6 is Disarium Number\n",
      "7 is Disarium Number\n",
      "8 is Disarium Number\n",
      "9 is Disarium Number\n",
      "89 is Disarium Number\n",
      "135 is Disarium Number\n",
      "175 is Disarium Number\n",
      "518 is Disarium Number\n",
      "598 is Disarium Number\n"
     ]
    }
   ],
   "source": [
    "def disarium_check(n):\n",
    "    li = [i for i in str(n)]\n",
    "    check = 0\n",
    "    for i in li:\n",
    "        check = check + int(i)**(li.index(i)+1)\n",
    "\n",
    "    if check == n:\n",
    "        print(f\"{n} is Disarium Number\")\n",
    "    \n",
    "\n",
    "\n",
    "for i in range(1,1000):\n",
    "    disarium_check(i)"
   ]
  },
  {
   "cell_type": "markdown",
   "metadata": {},
   "source": [
    "### Question 3.\tWrite a Python program to check if the given number is Happy Number?"
   ]
  },
  {
   "cell_type": "code",
   "execution_count": 3,
   "metadata": {},
   "outputs": [
    {
     "name": "stdout",
     "output_type": "stream",
     "text": [
      "Enter number: 239\n",
      "239 is a Happy Number\n"
     ]
    }
   ],
   "source": [
    "def isHappyNumber(n):    \n",
    "    mod = 0\n",
    "    s = 0  \n",
    "    while(n > 0):    \n",
    "        mod = n%10\n",
    "        s = s + (mod**2)\n",
    "        n = n //10\n",
    "    return s\n",
    "\n",
    "\n",
    "def check_happy(n):\n",
    "    result = n\n",
    "    while(result != 1 and result != 4):\n",
    "        result = isHappyNumber(result)\n",
    "        \n",
    "    if result == 1:\n",
    "        print (f\"{n} is a Happy Number\")\n",
    "    else:\n",
    "        print (f\"{n} is not a Happy Number\")\n",
    "\n",
    "               \n",
    "x = int(input(\"Enter number: \"))\n",
    "check_happy(x)"
   ]
  },
  {
   "cell_type": "markdown",
   "metadata": {},
   "source": [
    "### Question 4.\tWrite a Python program to print all happy numbers between 1 and 100?"
   ]
  },
  {
   "cell_type": "code",
   "execution_count": 4,
   "metadata": {},
   "outputs": [
    {
     "name": "stdout",
     "output_type": "stream",
     "text": [
      "1 is a Happy Number\n",
      "7 is a Happy Number\n",
      "10 is a Happy Number\n",
      "13 is a Happy Number\n",
      "19 is a Happy Number\n",
      "23 is a Happy Number\n",
      "28 is a Happy Number\n",
      "31 is a Happy Number\n",
      "32 is a Happy Number\n",
      "44 is a Happy Number\n",
      "49 is a Happy Number\n",
      "68 is a Happy Number\n",
      "70 is a Happy Number\n",
      "79 is a Happy Number\n",
      "82 is a Happy Number\n",
      "86 is a Happy Number\n",
      "91 is a Happy Number\n",
      "94 is a Happy Number\n",
      "97 is a Happy Number\n",
      "100 is a Happy Number\n"
     ]
    }
   ],
   "source": [
    "def isHappyNumber(n):\n",
    "    mod = 0\n",
    "    s = 0  \n",
    "    while(n > 0):\n",
    "        mod = n%10\n",
    "        s = s + (mod**2)\n",
    "        n = n//10\n",
    "    return s\n",
    "\n",
    "def check_happy(num):\n",
    "    result = num\n",
    "    while(result != 1 and result != 4):\n",
    "        result = isHappyNumber(result)\n",
    "    \n",
    "    if result == 1:\n",
    "        print (f\"{num} is a Happy Number\")\n",
    "        \n",
    "for i in range(1,101):\n",
    "    check_happy(i)"
   ]
  },
  {
   "cell_type": "markdown",
   "metadata": {},
   "source": [
    "### Question 5.\tWrite a Python program to determine whether the given number is a Harshad Number?"
   ]
  },
  {
   "cell_type": "code",
   "execution_count": 5,
   "metadata": {},
   "outputs": [
    {
     "name": "stdout",
     "output_type": "stream",
     "text": [
      "Enter a Number : 18\n"
     ]
    },
    {
     "data": {
      "text/plain": [
       "'18 is Harshad Number'"
      ]
     },
     "execution_count": 5,
     "metadata": {},
     "output_type": "execute_result"
    }
   ],
   "source": [
    "def checkHarshadNum(n):\n",
    "    li = [int(i) for i in str(n)]\n",
    "    s = sum(li)\n",
    "    if n%s == 0:\n",
    "        return(f\"{n} is Harshad Number\")\n",
    "    else:\n",
    "        return(f\"{n} is not Harshad Number\")\n",
    "    \n",
    "n = int(input(\"Enter a Number : \"))\n",
    "checkHarshadNum(n)"
   ]
  },
  {
   "cell_type": "markdown",
   "metadata": {},
   "source": [
    "### Question 6.\tWrite a Python program to print all pronic numbers between 1 and 100?"
   ]
  },
  {
   "cell_type": "code",
   "execution_count": 6,
   "metadata": {},
   "outputs": [
    {
     "name": "stdout",
     "output_type": "stream",
     "text": [
      "Pronic Numbers between 1 to 100 are : \n",
      "2\n",
      "6\n",
      "12\n",
      "20\n",
      "30\n",
      "42\n",
      "56\n",
      "72\n",
      "90\n"
     ]
    }
   ],
   "source": [
    "def checkPronic(x):\n",
    "    i = 0\n",
    "    while ( i <= (x**0.5)):\n",
    "        if ( x == i * (i + 1)):\n",
    "            return True\n",
    "        i = i + 1\n",
    "\n",
    "    return False\n",
    "\n",
    "print(\"Pronic Numbers between 1 to 100 are : \")\n",
    "for i in range(1,101):\n",
    "    if checkPronic(i):\n",
    "        print(i)"
   ]
  }
 ],
 "metadata": {
  "kernelspec": {
   "display_name": "Python 3",
   "language": "python",
   "name": "python3"
  },
  "language_info": {
   "codemirror_mode": {
    "name": "ipython",
    "version": 3
   },
   "file_extension": ".py",
   "mimetype": "text/x-python",
   "name": "python",
   "nbconvert_exporter": "python",
   "pygments_lexer": "ipython3",
   "version": "3.8.5"
  }
 },
 "nbformat": 4,
 "nbformat_minor": 5
}
