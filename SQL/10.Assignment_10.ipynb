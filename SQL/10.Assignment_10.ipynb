{
 "cells": [
  {
   "cell_type": "markdown",
   "id": "6a14539e",
   "metadata": {},
   "source": [
    "## Assignment 10 Solutions"
   ]
  },
  {
   "cell_type": "markdown",
   "id": "8093a61f",
   "metadata": {},
   "source": [
    "#### Q-19. Write an SQL query to determine the 5th highest salary without using TOP or limit method."
   ]
  },
  {
   "cell_type": "code",
   "execution_count": null,
   "id": "3ffa9cb4",
   "metadata": {},
   "outputs": [],
   "source": [
    "SELECT * FROM (SELECT ROW_NUMBER() OVER (ORDER BY salary DESC) AS R_NUM, first_name, salary FROM employee) as HEllO WHERE R_NUM=5;"
   ]
  },
  {
   "cell_type": "markdown",
   "id": "5e9a4eb0",
   "metadata": {},
   "source": [
    "#### Q-20. Write an SQL query to fetch the list of employees with the same salary."
   ]
  },
  {
   "cell_type": "code",
   "execution_count": null,
   "id": "f3b8eb01",
   "metadata": {},
   "outputs": [],
   "source": [
    "CREATE TABLE Employee\n",
    "(\n",
    "   Name VARCHAR(20),\n",
    "   Station INT,\n",
    "   Salary DECIMAL(10,2)\n",
    ");\n",
    "\n",
    "\n",
    "INSERT INTO Employee VALUES\n",
    "('Bob  ', 1      , 2000  ),\n",
    "('Steve', 2      , 1750  ),\n",
    "('Mark ', 3      , 2050  ),\n",
    "('Lisa ', 4      , 2200  ),\n",
    "('Hans ', 5      , 2000  );\n",
    "\n",
    "\n",
    "#Solution\n",
    "\n",
    "SELECT e.* \n",
    "FROM Employee e\n",
    "INNER JOIN\n",
    "(\n",
    "   SELECT Salary\n",
    "   FROM Employee\n",
    "   GROUP BY Salary\n",
    "   HAVING COUNT(*) > 1\n",
    ") grp ON e.Salary = grp.Salary"
   ]
  }
 ],
 "metadata": {
  "kernelspec": {
   "display_name": "Python 3 (ipykernel)",
   "language": "python",
   "name": "python3"
  },
  "language_info": {
   "codemirror_mode": {
    "name": "ipython",
    "version": 3
   },
   "file_extension": ".py",
   "mimetype": "text/x-python",
   "name": "python",
   "nbconvert_exporter": "python",
   "pygments_lexer": "ipython3",
   "version": "3.9.7"
  }
 },
 "nbformat": 4,
 "nbformat_minor": 5
}
