{
 "cells": [
  {
   "cell_type": "markdown",
   "id": "663e69e0",
   "metadata": {},
   "source": [
    "# Python Advanced Programming Assignment 12\n",
    "## by Prasad Aher"
   ]
  },
  {
   "cell_type": "markdown",
   "id": "dff1ea50",
   "metadata": {},
   "source": [
    "## 1. For this challenge, forget how to add two numbers together. The best explanation on what to do for this function is this meme:\n",
    "Examples\n",
    "\n",
    "meme_sum(26, 39) ➞ 515 #2+3 = 5, 6+9 = 15\n",
    "\n",
    "#26 + 39 = 515\n",
    "\n",
    "meme_sum(122, 81) ➞ 1103 #1+0 = 1, 2+8 = 10, 2+1 = 3\n",
    "\n",
    "#122 + 81 = 1103\n",
    "\n",
    "meme_sum(1222, 30277) ➞ 31499\n"
   ]
  },
  {
   "cell_type": "code",
   "execution_count": 1,
   "id": "3358a21c",
   "metadata": {},
   "outputs": [
    {
     "name": "stdout",
     "output_type": "stream",
     "text": [
      "515\n",
      "1103\n",
      "31499\n",
      "213\n"
     ]
    }
   ],
   "source": [
    "def meme_sum(a,b):\n",
    "    a = str(a)\n",
    "    b = str(b)\n",
    "    sum1 = ''\n",
    "    \n",
    "    while True:\n",
    "        if len(a) < len(b):\n",
    "            a = '0'+a\n",
    "        elif len(b) < len(a):\n",
    "            b = '0'+b\n",
    "        else:\n",
    "            break\n",
    "    \n",
    "    for i in range(len(a)):\n",
    "        sum1 += str(int(a[i]) + int(b[i]))\n",
    "\n",
    "    return sum1\n",
    "\n",
    "print(meme_sum(26, 39))\n",
    "print(meme_sum(122,81))\n",
    "print(meme_sum(1222, 30277))\n",
    "print(meme_sum(10,203))"
   ]
  },
  {
   "cell_type": "markdown",
   "id": "de589eec",
   "metadata": {},
   "source": [
    "## 2. Given an integer, create a function that returns the next prime. If the number is prime, return the number itself.\n",
    "\n",
    "Examples\n",
    "\n",
    "next_prime(12) ➞ 13\n",
    "\n",
    "next_prime(24) ➞ 29\n",
    "\n",
    "next_prime(11) ➞ 11\n",
    "#11 is a prime, so we return the number itself.\n"
   ]
  },
  {
   "cell_type": "code",
   "execution_count": 2,
   "id": "454ceb1d",
   "metadata": {},
   "outputs": [
    {
     "name": "stdout",
     "output_type": "stream",
     "text": [
      "13\n",
      "29\n",
      "11\n",
      "83\n"
     ]
    }
   ],
   "source": [
    "def prime_num(n):\n",
    "    for i in range(2,n):\n",
    "        if n % i == 0:\n",
    "            break\n",
    "    else:\n",
    "        return n\n",
    "        \n",
    "def next_prime(n):\n",
    "    while True:\n",
    "        if prime_num(n) != None:\n",
    "            break\n",
    "        n = n + 1\n",
    "        prime_num(n)\n",
    "    \n",
    "    return prime_num(n)    \n",
    "            \n",
    "print(next_prime(12))\n",
    "print(next_prime(24))\n",
    "print(next_prime(11))\n",
    "print(next_prime(83))"
   ]
  },
  {
   "cell_type": "markdown",
   "id": "502baf1a",
   "metadata": {},
   "source": [
    "## 3. If a person traveled up a hill for 18mins at 20mph and then traveled back down the same path at 60mph then their average speed traveled was 30mph.\n",
    "\n",
    "Write a function that returns the average speed traveled given an uphill time, uphill rate and a downhill rate. Uphill time is given in minutes. Return the rate as an integer (mph). No rounding is necessary.\n",
    "\n",
    "Examples\n",
    "\n",
    "ave_spd(18, 20, 60) ➞ 30\n",
    "\n",
    "ave_spd(30, 10, 30) ➞ 15\n",
    "\n",
    "ave_spd(30, 8, 24) ➞ 12"
   ]
  },
  {
   "cell_type": "code",
   "execution_count": 3,
   "id": "7769ba40",
   "metadata": {},
   "outputs": [
    {
     "name": "stdout",
     "output_type": "stream",
     "text": [
      "30\n",
      "15\n",
      "12\n"
     ]
    }
   ],
   "source": [
    "# as distance is same, formula  is  2ab/a+b where a and b are two speeds\n",
    "\n",
    "def ave_spd(uphill_time, uphill_rate, downhill_rate):\n",
    "    return int(2 * uphill_rate * downhill_rate/ (uphill_rate + downhill_rate))\n",
    "\n",
    "print(ave_spd(18, 20, 60))\n",
    "print(ave_spd(30, 10, 30))\n",
    "print(ave_spd(30,8,24))"
   ]
  },
  {
   "cell_type": "markdown",
   "id": "f3b6f44b",
   "metadata": {},
   "source": [
    "## 4. The Kempner Function, applied to a composite number, permits to find the smallest integer greater than zero whose factorial is exactly divided by the number.\n",
    "\n",
    "kempner(6) ➞ 3\n",
    "\n",
    "1! = 1 % 6 > 0\n",
    "2! = 2 % 6 > 0\n",
    "3! = 6 % 6 === 0\n",
    "\n",
    "kempner(10) ➞ 5\n",
    "\n",
    "1! = 1 % 10 > 0\n",
    "2! = 2 % 10 > 0\n",
    "3! = 6 % 10 > 0\n",
    "4! = 24 % 10 > 0\n",
    "5! = 120 % 10 === 0\n",
    "\n",
    "A Kempner Function applied to a prime will always return the prime itself.\n",
    "\n",
    "kempner(2) ➞ 2\n",
    "kempner(5) ➞ 5\n",
    "\n",
    "Given an integer n, implement a Kempner Function.\n",
    "\n",
    "Examples\n",
    "\n",
    "kempner(6) ➞ 3\n",
    "\n",
    "kempner(10) ➞ 5\n",
    "\n",
    "kempner(2) ➞ 2\n"
   ]
  },
  {
   "cell_type": "code",
   "execution_count": 4,
   "id": "16340e18",
   "metadata": {},
   "outputs": [
    {
     "name": "stdout",
     "output_type": "stream",
     "text": [
      "3\n",
      "5\n",
      "2\n"
     ]
    }
   ],
   "source": [
    "#n = 6\n",
    "\n",
    "def fact(n):\n",
    "    if n == 0 or n == 1:\n",
    "        return 1\n",
    "    else:\n",
    "        return n * fact(n-1)\n",
    "        \n",
    "def kempner(n):\n",
    "    for i in range(1,n+1):\n",
    "        if fact(i) % n == 0:\n",
    "            return i\n",
    "\n",
    "print(kempner(6))\n",
    "print(kempner(10))\n",
    "print(kempner(2))"
   ]
  },
  {
   "cell_type": "markdown",
   "id": "72b34205",
   "metadata": {},
   "source": [
    "## 5. You work in a factory, and your job is to take items from a conveyor belt and pack them into boxes. Each box can hold a maximum of 10 kgs. Given a list containing the weight (in kg) of each item, how many boxes would you need to pack all of the items?\n",
    "\n",
    "Example\n",
    "\n",
    "boxes([2, 1, 2, 5, 4, 3, 6, 1, 1, 9, 3, 2]) ➞ 5\n",
    "\n",
    "#Box 1 = [2, 1, 2, 5] (10kg)\n",
    "#Box 2 = [4, 3] (7kg)\n",
    "#Box 3 = [6, 1, 1] (8kg)\n",
    "#Box 4 = [9] (9kg)\n",
    "#Box 5 = [3, 2] (5kg)\n"
   ]
  },
  {
   "cell_type": "code",
   "execution_count": 5,
   "id": "ca992aad",
   "metadata": {},
   "outputs": [
    {
     "name": "stdout",
     "output_type": "stream",
     "text": [
      "[[2, 1, 2, 5], [4, 3], [6, 1, 1], [9], [3, 2]]\n",
      "[[5, 1, 3], [6], [8, 2], [3, 1, 4, 2], [5], [6], [10]]\n"
     ]
    }
   ],
   "source": [
    "def boxes(l):\n",
    "    l1 =[]\n",
    "    box =[]\n",
    "    \n",
    "    for i in l:\n",
    "        box.append(i)\n",
    "        if sum(box) > 10:\n",
    "            box.pop()\n",
    "            l1.append(box)\n",
    "            box = []\n",
    "            box.append(i)\n",
    "            \n",
    "    l1.append(box)\n",
    "    return l1    \n",
    "\n",
    "print(boxes([2, 1, 2, 5, 4, 3, 6, 1, 1, 9, 3, 2]))\n",
    "print(boxes([5,1,3,6,8,2,3,1,4,2,5,6,10]))\n"
   ]
  }
 ],
 "metadata": {
  "kernelspec": {
   "display_name": "Python 3 (ipykernel)",
   "language": "python",
   "name": "python3"
  },
  "language_info": {
   "codemirror_mode": {
    "name": "ipython",
    "version": 3
   },
   "file_extension": ".py",
   "mimetype": "text/x-python",
   "name": "python",
   "nbconvert_exporter": "python",
   "pygments_lexer": "ipython3",
   "version": "3.9.7"
  }
 },
 "nbformat": 4,
 "nbformat_minor": 5
}
