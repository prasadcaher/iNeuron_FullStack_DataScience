{
 "cells": [
  {
   "cell_type": "markdown",
   "id": "b2aa57f2",
   "metadata": {},
   "source": [
    "# Assignment 10"
   ]
  },
  {
   "cell_type": "markdown",
   "id": "111120c6",
   "metadata": {},
   "source": [
    "##### 1.\tDefine the Bayesian interpretation of probability."
   ]
  },
  {
   "cell_type": "markdown",
   "id": "96067912",
   "metadata": {},
   "source": [
    "**Ans:** Bayesian probability is the study of subjective probabilities or belief in an outcome, compared to the frequentist approach where probabilities are based purely on the past occurrence of the event. A Bayesian Network captures the joint probabilities of the events represented by the model."
   ]
  },
  {
   "cell_type": "markdown",
   "id": "4ae857d4",
   "metadata": {},
   "source": [
    "##### 2.\tDefine probability of a union of two events with equation."
   ]
  },
  {
   "cell_type": "markdown",
   "id": "271b4fe5",
   "metadata": {},
   "source": [
    "**Ans:** The general probability addition rule for the union of two events states that **`P(A∪B)=P(A)+P(B)−P(A∩B)`**, where **`A∩B`** is the intersection of the two sets."
   ]
  },
  {
   "cell_type": "markdown",
   "id": "ce64a63a",
   "metadata": {},
   "source": [
    "***Independent***: Any two events are independent of each other if one has zero effect on the other i.e. the occurrence of one event does not affect the occurrence of the other. If A and B are two independent events then, $P(A \\cap B) = P(A) * P(B)$."
   ]
  },
  {
   "cell_type": "markdown",
   "id": "c981ac1e",
   "metadata": {},
   "source": [
    "##### 3.\tWhat is joint probability? What is its formula?"
   ]
  },
  {
   "cell_type": "markdown",
   "id": "ee9e368a",
   "metadata": {},
   "source": [
    "**Ans:** We may be interested in the probability of two simultaneous events, e.g. the outcomes of two different random variables.\n",
    "\n",
    "The probability of two (or more) events is called the joint probability. The joint probability of two or more random variables is referred to as the joint probability distribution.\n",
    "\n",
    "For example, the joint probability of event A and event B is written formally as:\n",
    "\n",
    "**P(A and B)**\n",
    "\n",
    "The joint probability for events A and B is calculated as the probability of event A given event B multiplied by the probability of event B.\n",
    "\n",
    "This can be stated formally as follows:\n",
    "\n",
    "**P(A and B) = P(A given B) * P(B)**\n",
    "\n",
    "Here, P(A given B) is the probability of event A given that event B has occurred, called the conditional probability, described below.\n",
    "\n",
    "*The joint probability is symmetrical, meaning that P(A and B) is the same as P(B and A). The calculation using the conditional probability is also symmetrical, for example:*\n",
    "\n",
    "P(A and B) = P(A given B) * P(B) = P(B given A) * P(A)"
   ]
  },
  {
   "cell_type": "markdown",
   "id": "07ab2a64",
   "metadata": {},
   "source": [
    "##### 4.\tWhat is chain rule of probability?"
   ]
  },
  {
   "cell_type": "markdown",
   "id": "a76ade99",
   "metadata": {},
   "source": [
    "**Ans:** The chain rule, or general product rule, calculates any component of the joint distribution of a set of random variables using only conditional probabilities. This probability theory is used as a foundation for backpropagation and in creating Bayesian networks.\n",
    "\n",
    "For example, with three events A, B and C, we would have:\n",
    "\n",
    "P(A, B, C) = P(A|B, C)P(B, C)\n",
    "\n",
    "This means that the probability that the events A, B and C occurred is equal to the probability that A occurred given that B and C occurred multiplied by the probability that B and C occurred.\n",
    "\n",
    "We can chain these probability products. Since the product rule says that:\n",
    "P(B, C) = P(B|C)P(C)\n",
    "We get:\n",
    "\n",
    "P(A, B, C) = P(A|B, C)P(B|C)P(C)"
   ]
  },
  {
   "cell_type": "markdown",
   "id": "0be2162e",
   "metadata": {},
   "source": [
    "##### 5.\tWhat is conditional probability means? What is the formula of it?"
   ]
  },
  {
   "cell_type": "markdown",
   "id": "75b5268a",
   "metadata": {},
   "source": [
    "**Ans:** Conditional probability is defined as the likelihood of an event or outcome occurring, based on the occurrence of a previous event or outcome. \n",
    "\n",
    "Conditional probability is calculated by multiplying the probability of the preceding event by the updated probability of the succeeding, or conditional, event.\n",
    "\n",
    "Let's take a real-life example. Probability of selling a TV on a given normal day may be only 30%. But if we consider that given day is Diwali, then there are much more chances of selling a TV. The conditional Probability of selling a TV on a day given that Day is Diwali might be 70%."
   ]
  },
  {
   "cell_type": "markdown",
   "id": "a96163dd",
   "metadata": {},
   "source": [
    "##### 6.\tWhat are continuous random variables?"
   ]
  },
  {
   "cell_type": "markdown",
   "id": "1f7183c9",
   "metadata": {},
   "source": [
    "**Ans:** A continuous random variable X takes all values in a given interval of numbers. ▪ The probability distribution of a continuous random variable is shown by a density curve. ▪ The probability that X is between an interval of numbers is the area under the density curve between the interval endpoints."
   ]
  },
  {
   "cell_type": "markdown",
   "id": "6b3b649e",
   "metadata": {},
   "source": [
    "##### 7.\tWhat are Bernoulli distributions? What is the formula of it?"
   ]
  },
  {
   "cell_type": "markdown",
   "id": "f59d2c66",
   "metadata": {},
   "source": [
    "**Ans:** A Bernoulli distribution is a discrete probability distribution for a Bernoulli trial — a random experiment that has only two outcomes (usually called a `Succes` or a `Failure`).The expected value for a random variable, X.\n",
    "\n",
    "For a Bernoulli distribution is: `E[X] = p`.For example, if `p = 0.04`, then `E[X] = 0.4`"
   ]
  },
  {
   "cell_type": "markdown",
   "id": "54020cf8",
   "metadata": {},
   "source": [
    "##### 8.\tWhat is binomial distribution? What is the formula?"
   ]
  },
  {
   "cell_type": "markdown",
   "id": "14b5a4e6",
   "metadata": {},
   "source": [
    "**Ans:** The binomial is a type of distribution that has two possible outcomes (the prefix “bi” means two, or twice).For example, a coin toss has only two possible outcomes: heads or tails and taking a test could have two possible outcomes: pass or fail. \n",
    "\n",
    "A Binomial Distribution shows either (S)uccess or (F)ailure."
   ]
  },
  {
   "cell_type": "markdown",
   "id": "9db681d1",
   "metadata": {},
   "source": [
    "##### 9.\tWhat is Poisson distribution? What is the formula?"
   ]
  },
  {
   "cell_type": "markdown",
   "id": "05536168",
   "metadata": {},
   "source": [
    "**Ans:** A Poisson distribution is defined as a discrete frequency distribution that gives the probability of the number of independent events that occur in the fixed time.\n",
    "\n",
    "In statistics, a Poisson distribution is a probability distribution that is used to show how many times an event is likely to occur over a specified period. ... The Poisson distribution is a discrete function, meaning that the variable can only take specific values in a (potentially infinite) list."
   ]
  },
  {
   "cell_type": "markdown",
   "id": "5b686929",
   "metadata": {},
   "source": [
    "##### 10. Define covariance ?"
   ]
  },
  {
   "cell_type": "markdown",
   "id": "5eafa674",
   "metadata": {},
   "source": [
    "**Ans:** Covariance is a measure of how much two random variables vary together. It's similar to variance, but where variance tells you how a single variable varies, co variance tells you how two variables vary together."
   ]
  },
  {
   "cell_type": "markdown",
   "id": "07f8c8f8",
   "metadata": {},
   "source": [
    "The *sample covariance* is a measure that quantifies the strength and direction of a relationship between a pair of variables:\n",
    "\n",
    "If the *correlation is positive,* then the covariance is positive, as well. A stronger relationship corresponds to a higher value of the covariance.\n",
    "\n",
    "If the *correlation is negative,* then the covariance is negative, as well. A stronger relationship corresponds to a lower (or higher absolute) value of the covariance.\n",
    "\n",
    "If the *correlation is weak,* then the covariance is close to zero."
   ]
  },
  {
   "cell_type": "markdown",
   "id": "7057aa6e",
   "metadata": {},
   "source": [
    "The covariance of the variables 𝑥 and 𝑦 is mathematically defined as \n",
    "\n",
    "𝑠ˣʸ = Σᵢ (𝑥ᵢ − mean(𝑥)) (𝑦ᵢ − mean(𝑦)) / (𝑛 − 1), where 𝑖 = 1, 2, …, 𝑛, mean(𝑥) is the sample mean of 𝑥, and mean(𝑦) is the sample mean of 𝑦.\n",
    "\n",
    "It follows that the covariance of two identical variables is actually the variance: 𝑠ˣˣ = Σᵢ(𝑥ᵢ − mean(𝑥))² / (𝑛 − 1) = (𝑠ˣ)² and 𝑠ʸʸ = Σᵢ(𝑦ᵢ − mean(𝑦))² / (𝑛 − 1) = (𝑠ʸ)²."
   ]
  },
  {
   "cell_type": "code",
   "execution_count": 2,
   "id": "b6256b06",
   "metadata": {},
   "outputs": [],
   "source": [
    "import numpy as np\n",
    "x = list(range(-10, 11))\n",
    "y = [0, 2, 2, 2, 2, 3, 3, 6, 7, 4, 7, 6, 6, 9, 4, 5, 5, 10, 11, 12, 14]\n",
    "x_, y_ = np.array(x), np.array(y)"
   ]
  },
  {
   "cell_type": "code",
   "execution_count": 3,
   "id": "3810e92d",
   "metadata": {},
   "outputs": [
    {
     "data": {
      "text/plain": [
       "array([[38.5       , 19.95      ],\n",
       "       [19.95      , 13.91428571]])"
      ]
     },
     "execution_count": 3,
     "metadata": {},
     "output_type": "execute_result"
    }
   ],
   "source": [
    "cov_matrix = np.cov(x_, y_)\n",
    "cov_matrix"
   ]
  },
  {
   "cell_type": "markdown",
   "id": "3e636eaf",
   "metadata": {},
   "source": [
    "##### 11. Define correlation ?"
   ]
  },
  {
   "cell_type": "markdown",
   "id": "07b07384",
   "metadata": {},
   "source": [
    "**Ans:** Correlation explains how one or more variables are related to each other. These variables can be input data features which have been used to forecast our target variable. It's a bi-variate analysis measure which describes the association between different variables.\n",
    "\n",
    "Correlation coefficients quantify the association between variables or features of a dataset."
   ]
  },
  {
   "cell_type": "markdown",
   "id": "64feb7de",
   "metadata": {},
   "source": [
    "##### 12. Define sampling with replacement. Give example."
   ]
  },
  {
   "cell_type": "markdown",
   "id": "3a910c7c",
   "metadata": {},
   "source": [
    "**Ans:** If you sample with replacement, you would choose one person's name, put that person's name back in the hat, and then choose another name. The possibilities for your two-name sample are: John, John ; John, Jack."
   ]
  },
  {
   "cell_type": "markdown",
   "id": "bcec9c51",
   "metadata": {},
   "source": [
    "##### 13. What is sampling without replacement? Give example."
   ]
  },
  {
   "cell_type": "markdown",
   "id": "6746764b",
   "metadata": {},
   "source": [
    "**Ans:** In sampling without replacement, each sample unit of the population has only one chance to be selected in the sample. For example, if one draws a simple random sample such that no unit occurs more than one time in the sample, the sample is drawn without replacement."
   ]
  },
  {
   "cell_type": "markdown",
   "id": "5830b034",
   "metadata": {},
   "source": [
    "##### 14.What is hypothesis? Give example."
   ]
  },
  {
   "cell_type": "markdown",
   "id": "c8ba0028",
   "metadata": {},
   "source": [
    "**Ans:** A hypothesis (plural hypotheses) is a proposed explanation for a phenomenon. For a hypothesis to be a scientific hypothesis, the scientific method requires that one can test it. ... Even though the words \"hypothesis\" and \"theory\" are often used synonymously, a scientific hypothesis is not the same as a scientific theory.\n",
    "\n",
    "**Examples of hypothesis statements:** If garlic repels fleas, then a dog that is given garlic every day will not get  fleas. Bacterial growth may be affected by moisture levels in the air. If sugar causes cavities, then people who eat a lot of candy may be more prone to cavities."
   ]
  }
 ],
 "metadata": {
  "kernelspec": {
   "display_name": "Python 3 (ipykernel)",
   "language": "python",
   "name": "python3"
  },
  "language_info": {
   "codemirror_mode": {
    "name": "ipython",
    "version": 3
   },
   "file_extension": ".py",
   "mimetype": "text/x-python",
   "name": "python",
   "nbconvert_exporter": "python",
   "pygments_lexer": "ipython3",
   "version": "3.9.7"
  }
 },
 "nbformat": 4,
 "nbformat_minor": 5
}
