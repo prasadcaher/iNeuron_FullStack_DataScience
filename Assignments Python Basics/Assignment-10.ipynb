{
 "cells": [
  {
   "cell_type": "markdown",
   "metadata": {},
   "source": [
    "<h1 style='text-align:center'>Python Basics : Assignment - 10</h1>\n",
    "\n",
    "<h3 style='text-align:center'> Submitted by Prasad Aher </h3>\n",
    "<br>"
   ]
  },
  {
   "cell_type": "markdown",
   "metadata": {},
   "source": [
    "### Question 1: How do you distinguish between shutil.copy() and shutil.copytree()?"
   ]
  },
  {
   "cell_type": "code",
   "execution_count": 3,
   "metadata": {},
   "outputs": [
    {
     "data": {
      "text/plain": [
       "'\\nshutil.copy() will copy a single file,\\nshutil.copytree() will copy an entire folder and every folder and file contained in it. \\n\\n'"
      ]
     },
     "execution_count": 3,
     "metadata": {},
     "output_type": "execute_result"
    }
   ],
   "source": [
    "# Answer : \n",
    "\n",
    "\"\"\"\n",
    "shutil.copy() will copy a single file,\n",
    "shutil.copytree() will copy an entire folder and every folder and file contained in it. \n",
    "\n",
    "\"\"\"\n"
   ]
  },
  {
   "cell_type": "markdown",
   "metadata": {},
   "source": [
    "### Question 2 : What function is used to rename files??"
   ]
  },
  {
   "cell_type": "code",
   "execution_count": 11,
   "metadata": {},
   "outputs": [
    {
     "data": {
      "text/plain": [
       "\"\\n\\nos.rename('file name', 'new filename')\\n\\nor\\n\\nshutil.move('file name', 'new filename')\\n\\n\""
      ]
     },
     "execution_count": 11,
     "metadata": {},
     "output_type": "execute_result"
    }
   ],
   "source": [
    "'''\n",
    "\n",
    "os.rename('file name', 'new filename')\n",
    "\n",
    "or\n",
    "\n",
    "shutil.move('file name', 'new filename')\n",
    "\n",
    "'''"
   ]
  },
  {
   "cell_type": "markdown",
   "metadata": {},
   "source": [
    "### Question 3 : What is the difference between the delete functions in the send2trash and shutil modules?"
   ]
  },
  {
   "cell_type": "code",
   "execution_count": 12,
   "metadata": {},
   "outputs": [
    {
     "data": {
      "text/plain": [
       "'\\ndelete functions will delete file from system\\n\\nsend2trash() will send the files to recycle bin.\\n'"
      ]
     },
     "execution_count": 12,
     "metadata": {},
     "output_type": "execute_result"
    }
   ],
   "source": [
    "# Answer : \n",
    "\"\"\"\n",
    "delete functions will delete file from system\n",
    "\n",
    "send2trash() will send the files to recycle bin.\n",
    "\"\"\""
   ]
  },
  {
   "cell_type": "markdown",
   "metadata": {},
   "source": [
    "### Question 4: ZipFile objects have a close() method just like File objects’ close() method. What ZipFile method is equivalent to File objects’ open() method?"
   ]
  },
  {
   "cell_type": "code",
   "execution_count": 13,
   "metadata": {},
   "outputs": [],
   "source": [
    "#  extractall() "
   ]
  },
  {
   "cell_type": "markdown",
   "metadata": {},
   "source": [
    "### Question 5 : Create a programme that searches a folder tree for files with a certain file extension (such as .pdf or .jpg). Copy these files from whatever location they are in to a new folder."
   ]
  },
  {
   "cell_type": "code",
   "execution_count": 61,
   "metadata": {},
   "outputs": [
    {
     "name": "stdout",
     "output_type": "stream",
     "text": [
      "Current Working Directory  E:\\Data_Science\\iNeuron\\assignments-python\\01 Python Basic Assignment \t\n",
      "\n",
      "Enter new folder name: test_folder\n",
      "E:\\Data_Science\\iNeuron\\assignments-python\\01 Python Basic Assignment\n",
      "E:\\Data_Science\\iNeuron\\assignments-python\\01 Python Basic Assignment\\test_folder\n",
      "Looking in E:\\Data_Science\\iNeuron\\assignments-python\\01 Python Basic Assignment for files with extensions of  .ipynb,.docx\n",
      "*** E:\\Data_Science\\iNeuron\\assignments-python\\01 Python Basic Assignment ** ['.ipynb_checkpoints', 'submitted', 'test_folder'] * ['Assignment-1.ipynb', 'Assignment-10.ipynb', 'Assignment-2.ipynb', 'Assignment-3.ipynb', 'Assignment-4.ipynb', 'Assignment-5.ipynb', 'Assignment-6.ipynb', 'Assignment-7.ipynb', 'Assignment-8.ipynb', 'Assignment-9.ipynb', 'Assignment_10.docx', 'Assignment_11.docx', 'Assignment_12.docx', 'Assignment_13.docx', 'Assignment_14.docx', 'Assignment_15.docx', 'Assignment_16.docx', 'Assignment_17.docx', 'Assignment_18.docx', 'Assignment_19.docx', 'Assignment_20.docx', 'Assignment_21.docx', 'Assignment_22.docx', 'Assignment_23.docx', 'Assignment_24.docx', 'Assignment_25.docx', 'prasad_1', 'two.txt', '~$signment_10.docx']\n",
      "Copying E:\\Data_Science\\iNeuron\\assignments-python\\01 Python Basic Assignment\\Assignment-1.ipynb to E:\\Data_Science\\iNeuron\\assignments-python\\01 Python Basic Assignment\\test_folder\n",
      "Copying E:\\Data_Science\\iNeuron\\assignments-python\\01 Python Basic Assignment\\Assignment-10.ipynb to E:\\Data_Science\\iNeuron\\assignments-python\\01 Python Basic Assignment\\test_folder\n",
      "Copying E:\\Data_Science\\iNeuron\\assignments-python\\01 Python Basic Assignment\\Assignment-2.ipynb to E:\\Data_Science\\iNeuron\\assignments-python\\01 Python Basic Assignment\\test_folder\n",
      "Copying E:\\Data_Science\\iNeuron\\assignments-python\\01 Python Basic Assignment\\Assignment-3.ipynb to E:\\Data_Science\\iNeuron\\assignments-python\\01 Python Basic Assignment\\test_folder\n",
      "Copying E:\\Data_Science\\iNeuron\\assignments-python\\01 Python Basic Assignment\\Assignment-4.ipynb to E:\\Data_Science\\iNeuron\\assignments-python\\01 Python Basic Assignment\\test_folder\n",
      "Copying E:\\Data_Science\\iNeuron\\assignments-python\\01 Python Basic Assignment\\Assignment-5.ipynb to E:\\Data_Science\\iNeuron\\assignments-python\\01 Python Basic Assignment\\test_folder\n",
      "Copying E:\\Data_Science\\iNeuron\\assignments-python\\01 Python Basic Assignment\\Assignment-6.ipynb to E:\\Data_Science\\iNeuron\\assignments-python\\01 Python Basic Assignment\\test_folder\n",
      "Copying E:\\Data_Science\\iNeuron\\assignments-python\\01 Python Basic Assignment\\Assignment-7.ipynb to E:\\Data_Science\\iNeuron\\assignments-python\\01 Python Basic Assignment\\test_folder\n",
      "Copying E:\\Data_Science\\iNeuron\\assignments-python\\01 Python Basic Assignment\\Assignment-8.ipynb to E:\\Data_Science\\iNeuron\\assignments-python\\01 Python Basic Assignment\\test_folder\n",
      "Copying E:\\Data_Science\\iNeuron\\assignments-python\\01 Python Basic Assignment\\Assignment-9.ipynb to E:\\Data_Science\\iNeuron\\assignments-python\\01 Python Basic Assignment\\test_folder\n",
      "Copying E:\\Data_Science\\iNeuron\\assignments-python\\01 Python Basic Assignment\\Assignment_10.docx to E:\\Data_Science\\iNeuron\\assignments-python\\01 Python Basic Assignment\\test_folder\n",
      "Copying E:\\Data_Science\\iNeuron\\assignments-python\\01 Python Basic Assignment\\Assignment_11.docx to E:\\Data_Science\\iNeuron\\assignments-python\\01 Python Basic Assignment\\test_folder\n",
      "Copying E:\\Data_Science\\iNeuron\\assignments-python\\01 Python Basic Assignment\\Assignment_12.docx to E:\\Data_Science\\iNeuron\\assignments-python\\01 Python Basic Assignment\\test_folder\n",
      "Copying E:\\Data_Science\\iNeuron\\assignments-python\\01 Python Basic Assignment\\Assignment_13.docx to E:\\Data_Science\\iNeuron\\assignments-python\\01 Python Basic Assignment\\test_folder\n",
      "Copying E:\\Data_Science\\iNeuron\\assignments-python\\01 Python Basic Assignment\\Assignment_14.docx to E:\\Data_Science\\iNeuron\\assignments-python\\01 Python Basic Assignment\\test_folder\n",
      "Copying E:\\Data_Science\\iNeuron\\assignments-python\\01 Python Basic Assignment\\Assignment_15.docx to E:\\Data_Science\\iNeuron\\assignments-python\\01 Python Basic Assignment\\test_folder\n",
      "Copying E:\\Data_Science\\iNeuron\\assignments-python\\01 Python Basic Assignment\\Assignment_16.docx to E:\\Data_Science\\iNeuron\\assignments-python\\01 Python Basic Assignment\\test_folder\n",
      "Copying E:\\Data_Science\\iNeuron\\assignments-python\\01 Python Basic Assignment\\Assignment_17.docx to E:\\Data_Science\\iNeuron\\assignments-python\\01 Python Basic Assignment\\test_folder\n",
      "Copying E:\\Data_Science\\iNeuron\\assignments-python\\01 Python Basic Assignment\\Assignment_18.docx to E:\\Data_Science\\iNeuron\\assignments-python\\01 Python Basic Assignment\\test_folder\n",
      "Copying E:\\Data_Science\\iNeuron\\assignments-python\\01 Python Basic Assignment\\Assignment_19.docx to E:\\Data_Science\\iNeuron\\assignments-python\\01 Python Basic Assignment\\test_folder\n",
      "Copying E:\\Data_Science\\iNeuron\\assignments-python\\01 Python Basic Assignment\\Assignment_20.docx to E:\\Data_Science\\iNeuron\\assignments-python\\01 Python Basic Assignment\\test_folder\n",
      "Copying E:\\Data_Science\\iNeuron\\assignments-python\\01 Python Basic Assignment\\Assignment_21.docx to E:\\Data_Science\\iNeuron\\assignments-python\\01 Python Basic Assignment\\test_folder\n",
      "Copying E:\\Data_Science\\iNeuron\\assignments-python\\01 Python Basic Assignment\\Assignment_22.docx to E:\\Data_Science\\iNeuron\\assignments-python\\01 Python Basic Assignment\\test_folder\n",
      "Copying E:\\Data_Science\\iNeuron\\assignments-python\\01 Python Basic Assignment\\Assignment_23.docx to E:\\Data_Science\\iNeuron\\assignments-python\\01 Python Basic Assignment\\test_folder\n",
      "Copying E:\\Data_Science\\iNeuron\\assignments-python\\01 Python Basic Assignment\\Assignment_24.docx to E:\\Data_Science\\iNeuron\\assignments-python\\01 Python Basic Assignment\\test_folder\n",
      "Copying E:\\Data_Science\\iNeuron\\assignments-python\\01 Python Basic Assignment\\Assignment_25.docx to E:\\Data_Science\\iNeuron\\assignments-python\\01 Python Basic Assignment\\test_folder\n",
      "Copying E:\\Data_Science\\iNeuron\\assignments-python\\01 Python Basic Assignment\\~$signment_10.docx to E:\\Data_Science\\iNeuron\\assignments-python\\01 Python Basic Assignment\\test_folder\n",
      "*** E:\\Data_Science\\iNeuron\\assignments-python\\01 Python Basic Assignment\\.ipynb_checkpoints ** [] * ['Assignment-10-checkpoint.ipynb', 'Assignment-7-checkpoint.ipynb', 'Assignment-8-checkpoint.ipynb', 'Assignment-9-checkpoint.ipynb']\n",
      "Copying E:\\Data_Science\\iNeuron\\assignments-python\\01 Python Basic Assignment\\.ipynb_checkpoints\\Assignment-10-checkpoint.ipynb to E:\\Data_Science\\iNeuron\\assignments-python\\01 Python Basic Assignment\\test_folder\n",
      "Copying E:\\Data_Science\\iNeuron\\assignments-python\\01 Python Basic Assignment\\.ipynb_checkpoints\\Assignment-7-checkpoint.ipynb to E:\\Data_Science\\iNeuron\\assignments-python\\01 Python Basic Assignment\\test_folder\n",
      "Copying E:\\Data_Science\\iNeuron\\assignments-python\\01 Python Basic Assignment\\.ipynb_checkpoints\\Assignment-8-checkpoint.ipynb to E:\\Data_Science\\iNeuron\\assignments-python\\01 Python Basic Assignment\\test_folder\n",
      "Copying E:\\Data_Science\\iNeuron\\assignments-python\\01 Python Basic Assignment\\.ipynb_checkpoints\\Assignment-9-checkpoint.ipynb to E:\\Data_Science\\iNeuron\\assignments-python\\01 Python Basic Assignment\\test_folder\n",
      "*** E:\\Data_Science\\iNeuron\\assignments-python\\01 Python Basic Assignment\\submitted ** [] * ['Assignment_1.docx', 'Assignment_2.docx', 'Assignment_3.docx', 'Assignment_3_Updated.docx', 'Assignment_4.docx', 'Assignment_5.docx', 'Assignment_6.docx', 'Assignment_7.docx', 'Assignment_8.docx', 'Assignment_9.docx']\n",
      "Copying E:\\Data_Science\\iNeuron\\assignments-python\\01 Python Basic Assignment\\submitted\\Assignment_1.docx to E:\\Data_Science\\iNeuron\\assignments-python\\01 Python Basic Assignment\\test_folder\n",
      "Copying E:\\Data_Science\\iNeuron\\assignments-python\\01 Python Basic Assignment\\submitted\\Assignment_2.docx to E:\\Data_Science\\iNeuron\\assignments-python\\01 Python Basic Assignment\\test_folder\n",
      "Copying E:\\Data_Science\\iNeuron\\assignments-python\\01 Python Basic Assignment\\submitted\\Assignment_3.docx to E:\\Data_Science\\iNeuron\\assignments-python\\01 Python Basic Assignment\\test_folder\n",
      "Copying E:\\Data_Science\\iNeuron\\assignments-python\\01 Python Basic Assignment\\submitted\\Assignment_3_Updated.docx to E:\\Data_Science\\iNeuron\\assignments-python\\01 Python Basic Assignment\\test_folder\n",
      "Copying E:\\Data_Science\\iNeuron\\assignments-python\\01 Python Basic Assignment\\submitted\\Assignment_4.docx to E:\\Data_Science\\iNeuron\\assignments-python\\01 Python Basic Assignment\\test_folder\n",
      "Copying E:\\Data_Science\\iNeuron\\assignments-python\\01 Python Basic Assignment\\submitted\\Assignment_5.docx to E:\\Data_Science\\iNeuron\\assignments-python\\01 Python Basic Assignment\\test_folder\n",
      "Copying E:\\Data_Science\\iNeuron\\assignments-python\\01 Python Basic Assignment\\submitted\\Assignment_6.docx to E:\\Data_Science\\iNeuron\\assignments-python\\01 Python Basic Assignment\\test_folder\n",
      "Copying E:\\Data_Science\\iNeuron\\assignments-python\\01 Python Basic Assignment\\submitted\\Assignment_7.docx to E:\\Data_Science\\iNeuron\\assignments-python\\01 Python Basic Assignment\\test_folder\n",
      "Copying E:\\Data_Science\\iNeuron\\assignments-python\\01 Python Basic Assignment\\submitted\\Assignment_8.docx to E:\\Data_Science\\iNeuron\\assignments-python\\01 Python Basic Assignment\\test_folder\n",
      "Copying E:\\Data_Science\\iNeuron\\assignments-python\\01 Python Basic Assignment\\submitted\\Assignment_9.docx to E:\\Data_Science\\iNeuron\\assignments-python\\01 Python Basic Assignment\\test_folder\n",
      "*** E:\\Data_Science\\iNeuron\\assignments-python\\01 Python Basic Assignment\\test_folder ** [] * ['Assignment-1.ipynb', 'Assignment-10-checkpoint.ipynb', 'Assignment-10.ipynb', 'Assignment-2.ipynb', 'Assignment-3.ipynb', 'Assignment-4.ipynb', 'Assignment-5.ipynb', 'Assignment-6.ipynb', 'Assignment-7-checkpoint.ipynb', 'Assignment-7.ipynb', 'Assignment-8-checkpoint.ipynb', 'Assignment-8.ipynb', 'Assignment-9-checkpoint.ipynb', 'Assignment-9.ipynb', 'Assignment_1.docx', 'Assignment_10.docx', 'Assignment_11.docx', 'Assignment_12.docx', 'Assignment_13.docx', 'Assignment_14.docx', 'Assignment_15.docx', 'Assignment_16.docx', 'Assignment_17.docx', 'Assignment_18.docx', 'Assignment_19.docx', 'Assignment_2.docx', 'Assignment_20.docx', 'Assignment_21.docx', 'Assignment_22.docx', 'Assignment_23.docx', 'Assignment_24.docx', 'Assignment_25.docx', 'Assignment_3.docx', 'Assignment_3_Updated.docx', 'Assignment_4.docx', 'Assignment_5.docx', 'Assignment_6.docx', 'Assignment_7.docx', 'Assignment_8.docx', 'Assignment_9.docx', '~$signment_10.docx']\n",
      "Copying E:\\Data_Science\\iNeuron\\assignments-python\\01 Python Basic Assignment\\test_folder\\Assignment-1.ipynb to E:\\Data_Science\\iNeuron\\assignments-python\\01 Python Basic Assignment\\test_folder\n"
     ]
    }
   ],
   "source": [
    "import shutil,os\n",
    "\n",
    "def selectiveCopy(folder,extensions,destFolder):\n",
    "    folder=os.path.abspath(folder)\n",
    "    print(folder)\n",
    "    destFolder=os.path.abspath(destFolder)\n",
    "    print(destFolder)\n",
    "    print('Looking in '+ folder+ ' for files with extensions of ', ','.join(extensions))\n",
    "    \n",
    "    try:\n",
    "        for foldername,subfolders,filenames in os.walk(folder):\n",
    "            print(\"***\",foldername, \"**\", subfolders , \"*\",filenames)\n",
    "            for file in filenames:\n",
    "                name, extension = os.path.splitext(file)\n",
    "\n",
    "                if extension in extensions and file not in destFolder:\n",
    "                    fileAbsPath = foldername + os.path.sep + file\n",
    "                    print('Copying', fileAbsPath, 'to', destFolder)\n",
    "                    shutil.copy(fileAbsPath, destFolder)\n",
    "    except shutil.SameFileError:\n",
    "        pass\n",
    "    \n",
    "\n",
    "\n",
    "print(\"Current Working Directory \" , os.getcwd(), \"\\t\\n\")\n",
    "extensions=['.ipynb','.docx']\n",
    "folder= os.getcwd()\n",
    "new_folder = input('Enter new folder name: ')\n",
    "os.mkdir(new_folder)\n",
    "destFolder = new_folder\n",
    "\n",
    "if __name__ == \"__main__\":\n",
    "    selectiveCopy(folder, extensions, destFolder)"
   ]
  },
  {
   "cell_type": "code",
   "execution_count": null,
   "metadata": {},
   "outputs": [],
   "source": []
  }
 ],
 "metadata": {
  "kernelspec": {
   "display_name": "Python 3",
   "language": "python",
   "name": "python3"
  },
  "language_info": {
   "codemirror_mode": {
    "name": "ipython",
    "version": 3
   },
   "file_extension": ".py",
   "mimetype": "text/x-python",
   "name": "python",
   "nbconvert_exporter": "python",
   "pygments_lexer": "ipython3",
   "version": "3.8.5"
  }
 },
 "nbformat": 4,
 "nbformat_minor": 5
}
