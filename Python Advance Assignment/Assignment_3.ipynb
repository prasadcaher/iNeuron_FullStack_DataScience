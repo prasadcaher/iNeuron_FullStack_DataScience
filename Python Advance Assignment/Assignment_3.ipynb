{
 "cells": [
  {
   "cell_type": "markdown",
   "metadata": {},
   "source": [
    "<h1 style='text-align:center'>Python Advance : Assignment - 3</h1>\n",
    "\n",
    "<h3 style='text-align:center'> Submitted by Prasad Aher </h3>\n",
    "<br>"
   ]
  },
  {
   "cell_type": "markdown",
   "metadata": {},
   "source": [
    "### Question 1 : What is the concept of an abstract superclass?"
   ]
  },
  {
   "cell_type": "code",
   "execution_count": 1,
   "metadata": {},
   "outputs": [
    {
     "data": {
      "text/plain": [
       "'\\nAn abstract superclass is a class that calls a method, but does not inherit or define\\nit — it expects the method to be filled in by a subclass. This is often used as a way\\nto generalize classes when behavior cannot be predicted until a more specific subclass\\nis coded.\\n'"
      ]
     },
     "execution_count": 1,
     "metadata": {},
     "output_type": "execute_result"
    }
   ],
   "source": [
    "# Answer : \n",
    "\"\"\"\n",
    "An abstract superclass is a class that calls a method, but does not inherit or define\n",
    "it — it expects the method to be filled in by a subclass. This is often used as a way\n",
    "to generalize classes when behavior cannot be predicted until a more specific subclass\n",
    "is coded.\n",
    "\"\"\""
   ]
  },
  {
   "cell_type": "markdown",
   "metadata": {},
   "source": [
    "### Question 2 : What happens when a class statement's top level contains a basic assignment statement?"
   ]
  },
  {
   "cell_type": "code",
   "execution_count": 3,
   "metadata": {},
   "outputs": [
    {
     "data": {
      "text/plain": [
       "'\\nWhen a class statements top level contains a simple assignment statement (X = Y), it attaches a data attribute to the\\nclass (Class.X). Like all class attributes, this will be shared by all instances; data attributes are not callable \\nmethod functions, though.\\n'"
      ]
     },
     "execution_count": 3,
     "metadata": {},
     "output_type": "execute_result"
    }
   ],
   "source": [
    "# Answer : \n",
    "\"\"\"\n",
    "When a class statements top level contains a simple assignment statement (X = Y), it attaches a data attribute to the\n",
    "class (Class.X). Like all class attributes, this will be shared by all instances; data attributes are not callable \n",
    "method functions, though.\n",
    "\"\"\"\n"
   ]
  },
  {
   "cell_type": "markdown",
   "metadata": {},
   "source": [
    "### Question 3 : Why does a class need to manually call a superclass's \\__init__ method?"
   ]
  },
  {
   "cell_type": "code",
   "execution_count": 4,
   "metadata": {},
   "outputs": [
    {
     "data": {
      "text/plain": [
       "'\\n\\nA class must manually call the __init__ method in a superclass if it defines an\\n__init__ constructor of its own and still wants the superclass’s construction code\\nto run. Python itself automatically runs just one constructor—the lowest one in\\nthe tree. Superclass constructors are usually called through the class name, passing\\nin the self instance manually: Superclass.__init__(self, ...)\\n\\n'"
      ]
     },
     "execution_count": 4,
     "metadata": {},
     "output_type": "execute_result"
    }
   ],
   "source": [
    "# Answer: \n",
    "\"\"\"\n",
    "\n",
    "A class must manually call the __init__ method in a superclass if it defines an\n",
    "__init__ constructor of its own and still wants the superclass’s construction code\n",
    "to run. Python itself automatically runs just one constructor—the lowest one in\n",
    "the tree. Superclass constructors are usually called through the class name, passing\n",
    "in the self instance manually: Superclass.__init__(self, ...)\n",
    "\n",
    "\"\"\""
   ]
  },
  {
   "cell_type": "markdown",
   "metadata": {},
   "source": [
    "### Question 4 : How can you augment, instead of completely replacing, an inherited method?"
   ]
  },
  {
   "cell_type": "code",
   "execution_count": 5,
   "metadata": {},
   "outputs": [
    {
     "data": {
      "text/plain": [
       "'\\nTo augment instead of completely replacing an inherited method, redefine it in a\\nsubclass, but call back to the superclass’s version of the method manually from the\\nnew version of the method in the subclass.\\n'"
      ]
     },
     "execution_count": 5,
     "metadata": {},
     "output_type": "execute_result"
    }
   ],
   "source": [
    "# Answer :\n",
    "\"\"\"\n",
    "To augment instead of completely replacing an inherited method, redefine it in a\n",
    "subclass, but call back to the superclass’s version of the method manually from the\n",
    "new version of the method in the subclass.\n",
    "\"\"\""
   ]
  },
  {
   "cell_type": "markdown",
   "metadata": {},
   "source": [
    "### Question 5 : How is the local scope of a class different from that of a function?"
   ]
  },
  {
   "cell_type": "code",
   "execution_count": 6,
   "metadata": {},
   "outputs": [
    {
     "data": {
      "text/plain": [
       "'\\nA class is a local scope and has access to enclosing local scopes, but it does not\\nserve as an enclosing local scope to further nested code. Like modules, the class\\nlocal scope morphs into an attribute namespace after the class statement is run.\\n'"
      ]
     },
     "execution_count": 6,
     "metadata": {},
     "output_type": "execute_result"
    }
   ],
   "source": [
    "# Answer :\n",
    "\"\"\"\n",
    "A class is a local scope and has access to enclosing local scopes, but it does not\n",
    "serve as an enclosing local scope to further nested code. Like modules, the class\n",
    "local scope morphs into an attribute namespace after the class statement is run.\n",
    "\"\"\"\n"
   ]
  }
 ],
 "metadata": {
  "kernelspec": {
   "display_name": "Python 3",
   "language": "python",
   "name": "python3"
  },
  "language_info": {
   "codemirror_mode": {
    "name": "ipython",
    "version": 3
   },
   "file_extension": ".py",
   "mimetype": "text/x-python",
   "name": "python",
   "nbconvert_exporter": "python",
   "pygments_lexer": "ipython3",
   "version": "3.8.5"
  }
 },
 "nbformat": 4,
 "nbformat_minor": 4
}
