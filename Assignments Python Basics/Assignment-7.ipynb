{
 "cells": [
  {
   "cell_type": "markdown",
   "id": "sacred-revelation",
   "metadata": {},
   "source": [
    "# Python Basics : Assignment - 7\n",
    "## Submitted by Prasad Aher"
   ]
  },
  {
   "cell_type": "markdown",
   "id": "immune-viewer",
   "metadata": {},
   "source": [
    "### Question 1:  What is the name of the feature responsible for generating Regex objects?"
   ]
  },
  {
   "cell_type": "code",
   "execution_count": 1,
   "id": "adjustable-pickup",
   "metadata": {},
   "outputs": [
    {
     "data": {
      "text/plain": [
       "re.compile(r'pattern', re.UNICODE)"
      ]
     },
     "execution_count": 1,
     "metadata": {},
     "output_type": "execute_result"
    }
   ],
   "source": [
    "import re\n",
    "\n",
    "re.compile(\"pattern\")"
   ]
  },
  {
   "cell_type": "markdown",
   "id": "adolescent-reset",
   "metadata": {},
   "source": [
    "### Question 2: Why do raw strings often appear in Regex objects?"
   ]
  },
  {
   "cell_type": "code",
   "execution_count": 2,
   "id": "incredible-constitution",
   "metadata": {},
   "outputs": [
    {
     "data": {
      "text/plain": [
       "'\\nRegular expressions use the backslash character (\\'\\') to indicate special forms or to allow special characters\\nto be used without invoking their special meaning. This collides with Python’s usage of the same character for \\nthe same purpose in string literals; \\n\\nHence, Raw strings are used (e.g. r\"\\n\") so that backslashes do not have to be escaped.\\n\\n'"
      ]
     },
     "execution_count": 2,
     "metadata": {},
     "output_type": "execute_result"
    }
   ],
   "source": [
    "# Answer: \n",
    "\"\"\"\n",
    "Regular expressions use the backslash character ('\\') to indicate special forms or to allow special characters\n",
    "to be used without invoking their special meaning. This collides with Python’s usage of the same character for \n",
    "the same purpose in string literals; \n",
    "\n",
    "Hence, Raw strings are used (e.g. r\"\\n\") so that backslashes do not have to be escaped.\n",
    "\n",
    "\"\"\""
   ]
  },
  {
   "cell_type": "markdown",
   "id": "single-behalf",
   "metadata": {},
   "source": [
    "### Question 3: What is the return value of the search() method?"
   ]
  },
  {
   "cell_type": "code",
   "execution_count": 3,
   "id": "waiting-riverside",
   "metadata": {},
   "outputs": [],
   "source": [
    "#Answer: search() checks for a match anywhere in the string and returns the matched objects."
   ]
  },
  {
   "cell_type": "markdown",
   "id": "falling-proof",
   "metadata": {},
   "source": [
    "### Question 4: From a Match item, how do you get the actual strings that match the pattern?"
   ]
  },
  {
   "cell_type": "code",
   "execution_count": 4,
   "id": "general-technique",
   "metadata": {},
   "outputs": [],
   "source": [
    "# Answer : By using match.group() method"
   ]
  },
  {
   "cell_type": "markdown",
   "id": "checked-budapest",
   "metadata": {},
   "source": [
    "### Question 5: In the regex which created from the r'(\\d\\d\\d)-(\\d\\d\\d-\\d\\d\\d\\d)', what does group zero cover? Group 2? Group 1?"
   ]
  },
  {
   "cell_type": "code",
   "execution_count": 5,
   "id": "partial-device",
   "metadata": {},
   "outputs": [
    {
     "data": {
      "text/plain": [
       "'\\nGroup 0 is the entire match\\nGroup 1 covers the first set of parentheses\\nGroup 2 covers the second set of parentheses.\\n'"
      ]
     },
     "execution_count": 5,
     "metadata": {},
     "output_type": "execute_result"
    }
   ],
   "source": [
    "# Answer:\n",
    "\"\"\"\n",
    "Group 0 is the entire match\n",
    "Group 1 covers the first set of parentheses\n",
    "Group 2 covers the second set of parentheses.\n",
    "\"\"\""
   ]
  },
  {
   "cell_type": "markdown",
   "id": "duplicate-brass",
   "metadata": {},
   "source": [
    "### Question 6: In standard expression syntax, parentheses and intervals have distinct meanings. How can you tell a regex that you want it to fit real parentheses and periods?"
   ]
  },
  {
   "cell_type": "code",
   "execution_count": 6,
   "id": "hungarian-benchmark",
   "metadata": {},
   "outputs": [],
   "source": [
    "# Answer: Periods and parentheses can be escaped using a backslash."
   ]
  },
  {
   "cell_type": "markdown",
   "id": "structural-moses",
   "metadata": {},
   "source": [
    "### Question 7: The findall() method returns a string list or a list of string tuples. What causes it to return one of the two options?"
   ]
  },
  {
   "cell_type": "code",
   "execution_count": 7,
   "id": "animal-broadway",
   "metadata": {},
   "outputs": [
    {
     "data": {
      "text/plain": [
       "'\\nIf regular expression contains groups, the result will be list of tuples\\n\\nand\\n\\nIf there are no groups in regular expression than a list of string is returned.\\n'"
      ]
     },
     "execution_count": 7,
     "metadata": {},
     "output_type": "execute_result"
    }
   ],
   "source": [
    "# Answer : \n",
    "\"\"\"\n",
    "If regular expression contains groups, the result will be list of tuples\n",
    "\n",
    "and\n",
    "\n",
    "If there are no groups in regular expression than a list of string is returned.\n",
    "\"\"\""
   ]
  },
  {
   "cell_type": "markdown",
   "id": "solid-version",
   "metadata": {},
   "source": [
    "### Question 8: In standard expressions, what does the | character mean?"
   ]
  },
  {
   "cell_type": "code",
   "execution_count": 8,
   "id": "honey-produce",
   "metadata": {},
   "outputs": [],
   "source": [
    "# Answer : | symbol in standard expression means \"either\" \"or\" between group of regex."
   ]
  },
  {
   "cell_type": "markdown",
   "id": "pursuant-mambo",
   "metadata": {},
   "source": [
    "### Question 9: In regular expressions, what does the character stand for?"
   ]
  },
  {
   "cell_type": "code",
   "execution_count": 9,
   "id": "mature-incidence",
   "metadata": {},
   "outputs": [],
   "source": [
    "# Question is not clear."
   ]
  },
  {
   "cell_type": "markdown",
   "id": "enormous-recommendation",
   "metadata": {},
   "source": [
    "### Question 10: In regular expressions, what is the difference between the + and * characters?"
   ]
  },
  {
   "cell_type": "code",
   "execution_count": 10,
   "id": "imported-transsexual",
   "metadata": {},
   "outputs": [
    {
     "data": {
      "text/plain": [
       "'\\n +  matches one or more cases, \\n \\n while.\\n \\n * matches zero or more cases\\n'"
      ]
     },
     "execution_count": 10,
     "metadata": {},
     "output_type": "execute_result"
    }
   ],
   "source": [
    "# Answer : \n",
    "\n",
    "\"\"\"\n",
    " +  matches one or more cases, \n",
    " \n",
    " while.\n",
    " \n",
    " * matches zero or more cases\n",
    "\"\"\""
   ]
  },
  {
   "cell_type": "markdown",
   "id": "republican-corps",
   "metadata": {},
   "source": [
    "### Question 11: What is the difference between {4} and {4,5} in regular expression?"
   ]
  },
  {
   "cell_type": "code",
   "execution_count": 11,
   "id": "spanish-operations",
   "metadata": {},
   "outputs": [
    {
     "data": {
      "text/plain": [
       "'\\nThe {4} matches exactly four instances of the preceding group. \\n\\nand \\n\\nThe {4,5} matches between four and five instances.\\n\\n'"
      ]
     },
     "execution_count": 11,
     "metadata": {},
     "output_type": "execute_result"
    }
   ],
   "source": [
    "# Answer:\n",
    "\"\"\"\n",
    "The {4} matches exactly four instances of the preceding group. \n",
    "\n",
    "and \n",
    "\n",
    "The {4,5} matches between four and five instances.\n",
    "\n",
    "\"\"\""
   ]
  },
  {
   "cell_type": "markdown",
   "id": "blond-lemon",
   "metadata": {},
   "source": [
    "### Question 12 : What do you mean by the \\d, \\w, and \\s shorthand character classes signify in regular ?"
   ]
  },
  {
   "cell_type": "code",
   "execution_count": 12,
   "id": "expressed-camping",
   "metadata": {},
   "outputs": [
    {
     "data": {
      "text/plain": [
       "'\\n\\n\\\\d  : Matches any decimal digit; this is equivalent to the class [0-9].\\n\\n\\\\w : Matches any alphanumeric character; this is equivalent to the class [a-zA-Z0-9_]\\n\\n\\\\s : Matches any whitespace character; this is equivalent to the class [ \\t\\n\\r\\x0c\\x0b].\\n\\n'"
      ]
     },
     "execution_count": 12,
     "metadata": {},
     "output_type": "execute_result"
    }
   ],
   "source": [
    "# Answer :\n",
    "\n",
    "\"\"\"\n",
    "\n",
    "\\d  : Matches any decimal digit; this is equivalent to the class [0-9].\n",
    "\n",
    "\\w : Matches any alphanumeric character; this is equivalent to the class [a-zA-Z0-9_]\n",
    "\n",
    "\\s : Matches any whitespace character; this is equivalent to the class [ \\t\\n\\r\\f\\v].\n",
    "\n",
    "\"\"\""
   ]
  },
  {
   "cell_type": "markdown",
   "id": "strong-heritage",
   "metadata": {},
   "source": [
    "### Question 13 : What do means by \\D, \\W, and \\S shorthand character classes signify in regular expressions?"
   ]
  },
  {
   "cell_type": "code",
   "execution_count": 13,
   "id": "vietnamese-lexington",
   "metadata": {},
   "outputs": [
    {
     "data": {
      "text/plain": [
       "'\\n\\\\D : Matches any non-digit character; this is equivalent to the class [^0-9]\\n\\n\\\\W : Matches any non-alphanumeric character; this is equivalent to the class [^a-zA-Z0-9_].\\n\\n\\\\S : Matches any non-whitespace character; this is equivalent to the class [^ \\t\\n\\r\\x0c\\x0b].\\n\\n'"
      ]
     },
     "execution_count": 13,
     "metadata": {},
     "output_type": "execute_result"
    }
   ],
   "source": [
    "# Answer : \n",
    "\"\"\"\n",
    "\\D : Matches any non-digit character; this is equivalent to the class [^0-9]\n",
    "\n",
    "\\W : Matches any non-alphanumeric character; this is equivalent to the class [^a-zA-Z0-9_].\n",
    "\n",
    "\\S : Matches any non-whitespace character; this is equivalent to the class [^ \\t\\n\\r\\f\\v].\n",
    "\n",
    "\"\"\""
   ]
  },
  {
   "cell_type": "markdown",
   "id": "textile-bristol",
   "metadata": {},
   "source": [
    "### Question 14 : What is the difference between .\\? and \\.\\*"
   ]
  },
  {
   "cell_type": "code",
   "execution_count": 14,
   "id": "protective-livestock",
   "metadata": {},
   "outputs": [
    {
     "data": {
      "text/plain": [
       "'\\nThe .* performs a greedy match, and the .? performs a nongreedy match.\\n'"
      ]
     },
     "execution_count": 14,
     "metadata": {},
     "output_type": "execute_result"
    }
   ],
   "source": [
    "# Answer:\n",
    "\n",
    "\"\"\"\n",
    "The .* performs a greedy match, and the .? performs a nongreedy match.\n",
    "\"\"\"\n",
    "\n"
   ]
  },
  {
   "cell_type": "markdown",
   "id": "finnish-pasta",
   "metadata": {},
   "source": [
    "### Question 15 : What is the syntax for matching both numbers and lowercase letters with a character class?"
   ]
  },
  {
   "cell_type": "code",
   "execution_count": 15,
   "id": "foster-merchandise",
   "metadata": {},
   "outputs": [],
   "source": [
    "# Answer: [0-9a-z] or [a-z0-9]"
   ]
  },
  {
   "cell_type": "markdown",
   "id": "catholic-matter",
   "metadata": {},
   "source": [
    "### Question 16: What is the procedure for making a normal expression in regax case insensitive?"
   ]
  },
  {
   "cell_type": "code",
   "execution_count": 16,
   "id": "refined-batman",
   "metadata": {},
   "outputs": [],
   "source": [
    "# Answer :  re.I or re.IGNORECASE¶"
   ]
  },
  {
   "cell_type": "markdown",
   "id": "necessary-steering",
   "metadata": {},
   "source": [
    "### Question 17 : What does the . character normally match? What does it match if re.DOTALL is passed as 2nd argument in re.compile()?"
   ]
  },
  {
   "cell_type": "code",
   "execution_count": 17,
   "id": "dutch-isaac",
   "metadata": {},
   "outputs": [
    {
     "data": {
      "text/plain": [
       "'\\nThe . character will matche any character except the newline character. \\n\\nAnd \\n\\nre.DOTALL if passed as the second argument to re.compile(), then the dot will also match newline characters.\\n\\n'"
      ]
     },
     "execution_count": 17,
     "metadata": {},
     "output_type": "execute_result"
    }
   ],
   "source": [
    "# Answer:\n",
    "\n",
    "\"\"\"\n",
    "The . character will matche any character except the newline character. \n",
    "\n",
    "And \n",
    "\n",
    "re.DOTALL if passed as the second argument to re.compile(), then the dot will also match newline characters.\n",
    "\n",
    "\"\"\""
   ]
  },
  {
   "cell_type": "markdown",
   "id": "secret-staff",
   "metadata": {},
   "source": [
    "### Question 18: If numReg = re.compile(r'\\d+'), what will numRegex.sub('X', '11 drummers, 10 pipers, five rings, 4 hen') return?"
   ]
  },
  {
   "cell_type": "code",
   "execution_count": 18,
   "id": "coral-identity",
   "metadata": {},
   "outputs": [
    {
     "data": {
      "text/plain": [
       "'X drummers, X pipers, five rings, X hen'"
      ]
     },
     "execution_count": 18,
     "metadata": {},
     "output_type": "execute_result"
    }
   ],
   "source": [
    "# Answer : 'X drummers, X pipers, five rings, X hen'\n",
    "\n",
    "import re\n",
    "numReg = re.compile(r'\\d+')\n",
    "numReg.sub('X', '11 drummers, 10 pipers, five rings, 4 hen')"
   ]
  },
  {
   "cell_type": "markdown",
   "id": "outer-rwanda",
   "metadata": {},
   "source": [
    "### Question 19 : What does passing re.VERBOSE as the 2nd argument to re.compile() allow to do?"
   ]
  },
  {
   "cell_type": "code",
   "execution_count": 19,
   "id": "funny-cathedral",
   "metadata": {},
   "outputs": [
    {
     "data": {
      "text/plain": [
       "'\\n\\nThis flag allows you to write regular expressions that look nicer and are more readable by allowing you to\\nvisually separate logical sections of the pattern and add comments. Whitespace within the pattern is ignored,\\nexcept when in a character class, or when preceded by an unescaped backslash, or within tokens like \\n*?, (?: or (?P<...>.\\n\\n'"
      ]
     },
     "execution_count": 19,
     "metadata": {},
     "output_type": "execute_result"
    }
   ],
   "source": [
    "# Answer : \n",
    "\"\"\"\n",
    "\n",
    "This flag allows you to write regular expressions that look nicer and are more readable by allowing you to\n",
    "visually separate logical sections of the pattern and add comments. Whitespace within the pattern is ignored,\n",
    "except when in a character class, or when preceded by an unescaped backslash, or within tokens like \n",
    "*?, (?: or (?P<...>.\n",
    "\n",
    "\"\"\""
   ]
  },
  {
   "cell_type": "markdown",
   "id": "broken-structure",
   "metadata": {},
   "source": [
    "### Question 20 : How would you write a regex that match a number with comma for every three digits? It must match the given following:\n",
    "- '42'\n",
    "- '1,234'\n",
    "- '6,368,745'\n",
    "\n",
    "##### but not the following:\n",
    "- '12,34,567' (which has only two digits between the commas)\n",
    "- '1234' (which lacks commas)\n"
   ]
  },
  {
   "cell_type": "code",
   "execution_count": 20,
   "id": "changing-india",
   "metadata": {},
   "outputs": [
    {
     "data": {
      "text/plain": [
       "<re.Match object; span=(0, 9), match='6,368,745'>"
      ]
     },
     "execution_count": 20,
     "metadata": {},
     "output_type": "execute_result"
    }
   ],
   "source": [
    "numRegex = re.compile(r'^\\d{1,3}(,\\d{3})*$') \n",
    "\n",
    "numRegex.search('6,368,745')\n"
   ]
  },
  {
   "cell_type": "markdown",
   "id": "driven-senior",
   "metadata": {},
   "source": [
    "### Question 21 :  How would you write a regex that matches the full name of someone whose last name is Watanabe? You can assume that the first name that comes before it will always be one word that begins with a capital letter. The regex must match the following:\n",
    "\n",
    "\n",
    "\n",
    "'Haruto Watanabe'<br>\n",
    "'Alice Watanabe'<br>\n",
    "'RoboCop Watanabe'<br>\n",
    "<br>\n",
    "__but not the following:__<br>\n",
    "<br>\n",
    "'haruto Watanabe' (where the first name is not capitalized)<br>\n",
    "'Mr. Watanabe' (where the preceding word has a nonletter character)<br>\n",
    "'Watanabe' (which has no first name)<br>\n",
    "'Haruto watanabe' (where Watanabe is not capitalized)<br>\n",
    "\n"
   ]
  },
  {
   "cell_type": "code",
   "execution_count": 21,
   "id": "searching-bottom",
   "metadata": {},
   "outputs": [
    {
     "data": {
      "text/plain": [
       "<re.Match object; span=(0, 15), match='Haruto Watanabe'>"
      ]
     },
     "execution_count": 21,
     "metadata": {},
     "output_type": "execute_result"
    }
   ],
   "source": [
    "strRegex = re.compile(r'[A-Z][a-z]*\\sWatanabe')\n",
    "\n",
    "strRegex.search('Haruto Watanabe')"
   ]
  },
  {
   "cell_type": "markdown",
   "id": "periodic-rabbit",
   "metadata": {},
   "source": [
    "#### Question 22 : How would you write a regex that matches a sentence where the first word is either Alice, Bob, or Carol; the second word is either eats, pets, or throws; the third word is apples, cats, or baseballs; and the sentence ends with a period? This regex should be case-insensitive. It must match the following:\n",
    "'Alice eats apples.'\n",
    "<br>'Bob pets cats.'\n",
    "<br>'Carol throws baseballs.'\n",
    "<br>'Alice throws Apples.'\n",
    "<br>'BOB EATS CATS.'\n",
    "<br>but not the following:\n",
    "<br>'RoboCop eats apples.'\n",
    "<br>'ALICE THROWS FOOTBALLS.'\n",
    "<br>'Carol eats 7 cats.'\n"
   ]
  },
  {
   "cell_type": "code",
   "execution_count": 22,
   "id": "precious-violence",
   "metadata": {},
   "outputs": [
    {
     "data": {
      "text/plain": [
       "<re.Match object; span=(0, 14), match='Bob pets cats.'>"
      ]
     },
     "execution_count": 22,
     "metadata": {},
     "output_type": "execute_result"
    }
   ],
   "source": [
    "sentenceRegex = re.compile(r'(Alice|Bob|Carol)\\s(eats|pets|throws)\\s(apples|cats|baseballs)\\.', re.IGNORECASE)\n",
    "\n",
    "sentenceRegex.search(\"Bob pets cats.\")"
   ]
  }
 ],
 "metadata": {
  "kernelspec": {
   "display_name": "Python 3",
   "language": "python",
   "name": "python3"
  },
  "language_info": {
   "codemirror_mode": {
    "name": "ipython",
    "version": 3
   },
   "file_extension": ".py",
   "mimetype": "text/x-python",
   "name": "python",
   "nbconvert_exporter": "python",
   "pygments_lexer": "ipython3",
   "version": "3.9.2"
  }
 },
 "nbformat": 4,
 "nbformat_minor": 5
}
