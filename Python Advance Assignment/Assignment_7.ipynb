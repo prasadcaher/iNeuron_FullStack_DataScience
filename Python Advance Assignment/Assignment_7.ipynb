{
 "cells": [
  {
   "cell_type": "markdown",
   "metadata": {},
   "source": [
    "<h1 style='text-align:center'>Python Advance : Assignment - 7</h1>\n",
    "\n",
    "<h3 style='text-align:center'> Submitted by Prasad Aher </h3>\n",
    "<br>"
   ]
  },
  {
   "cell_type": "markdown",
   "metadata": {},
   "source": [
    "### Question 1 : What is the purpose of the try statement?"
   ]
  },
  {
   "cell_type": "code",
   "execution_count": 6,
   "metadata": {},
   "outputs": [
    {
     "data": {
      "text/plain": [
       "'\\nThe try statement catches and recovers from exceptions—it specifies a block of\\ncode to run, and one or more handlers for exceptions that may be raised during\\nthe block’s execution.\\n'"
      ]
     },
     "execution_count": 6,
     "metadata": {},
     "output_type": "execute_result"
    }
   ],
   "source": [
    "# Answer : \n",
    "\"\"\"\n",
    "The try statement catches and recovers from exceptions—it specifies a block of\n",
    "code to run, and one or more handlers for exceptions that may be raised during\n",
    "the block’s execution.\n",
    "\"\"\""
   ]
  },
  {
   "cell_type": "markdown",
   "metadata": {},
   "source": [
    "### Question 2 : What are the two most popular try statement variations?"
   ]
  },
  {
   "cell_type": "code",
   "execution_count": 2,
   "metadata": {},
   "outputs": [
    {
     "data": {
      "text/plain": [
       "'\\n'"
      ]
     },
     "execution_count": 2,
     "metadata": {},
     "output_type": "execute_result"
    }
   ],
   "source": [
    "# Answer : \n",
    "\"\"\"\n",
    "The two common variations on the try statement are \n",
    "1. try/except/else : for catching exceptions\n",
    "and\n",
    "2. try/finally : for specifying cleanup actions that must occur whether an exception is raised or not.\n",
    "\"\"\""
   ]
  },
  {
   "cell_type": "markdown",
   "metadata": {},
   "source": [
    "### Question 3 : What is the purpose of the raise statement?"
   ]
  },
  {
   "cell_type": "code",
   "execution_count": 7,
   "metadata": {},
   "outputs": [
    {
     "data": {
      "text/plain": [
       "'\\nThe raise statement raises (triggers) an exception. Python raises built-in exceptions\\non errors internally, but your scripts can trigger built-in or user-defined exceptions\\nwith raise, too.\\n'"
      ]
     },
     "execution_count": 7,
     "metadata": {},
     "output_type": "execute_result"
    }
   ],
   "source": [
    "# Answer: \n",
    "\"\"\"\n",
    "The raise statement raises (triggers) an exception. Python raises built-in exceptions\n",
    "on errors internally, but your scripts can trigger built-in or user-defined exceptions\n",
    "with raise, too.\n",
    "\"\"\""
   ]
  },
  {
   "cell_type": "markdown",
   "metadata": {},
   "source": [
    "### Question 4 : What does the assert statement do, and what other statement is it like?"
   ]
  },
  {
   "cell_type": "code",
   "execution_count": 8,
   "metadata": {},
   "outputs": [
    {
     "data": {
      "text/plain": [
       "'\\nThe assert statement raises an AssertionError exception if a condition is false. It\\nworks like a conditional raise statement wrapped up in an if statement, and can\\nbe disabled with a –O switch.\\n'"
      ]
     },
     "execution_count": 8,
     "metadata": {},
     "output_type": "execute_result"
    }
   ],
   "source": [
    "# Answer :\n",
    "\"\"\"\n",
    "The assert statement raises an AssertionError exception if a condition is false. It\n",
    "works like a conditional raise statement wrapped up in an if statement, and can\n",
    "be disabled with a –O switch.\n",
    "\"\"\""
   ]
  },
  {
   "cell_type": "markdown",
   "metadata": {},
   "source": [
    "### Question 5 : What is the purpose of the with/as argument, and what other statement is it like?"
   ]
  },
  {
   "cell_type": "code",
   "execution_count": 10,
   "metadata": {},
   "outputs": [
    {
     "data": {
      "text/plain": [
       "'\\nThe with/as statement is designed to automate startup and termination activities\\nthat must occur around a block of code.\\n'"
      ]
     },
     "execution_count": 10,
     "metadata": {},
     "output_type": "execute_result"
    }
   ],
   "source": [
    "# Answer :\n",
    "\"\"\"\n",
    "The with/as statement is designed to automate startup and termination activities\n",
    "that must occur around a block of code.\n",
    "\"\"\""
   ]
  }
 ],
 "metadata": {
  "kernelspec": {
   "display_name": "Python 3",
   "language": "python",
   "name": "python3"
  },
  "language_info": {
   "codemirror_mode": {
    "name": "ipython",
    "version": 3
   },
   "file_extension": ".py",
   "mimetype": "text/x-python",
   "name": "python",
   "nbconvert_exporter": "python",
   "pygments_lexer": "ipython3",
   "version": "3.8.5"
  }
 },
 "nbformat": 4,
 "nbformat_minor": 4
}
