{
 "cells": [
  {
   "cell_type": "markdown",
   "id": "e7af0bbf",
   "metadata": {},
   "source": [
    "<h1><center>Python Advance: Assignment 12</center></h1>\n",
    "<h3><center>Submitted by Prasad Aher</center></h3>"
   ]
  },
  {
   "cell_type": "markdown",
   "id": "c408bb50",
   "metadata": {},
   "source": [
    "### Q1. Does assigning a value to a string's indexed character violate Python's string immutability?"
   ]
  },
  {
   "cell_type": "code",
   "execution_count": 2,
   "id": "52d85de4",
   "metadata": {},
   "outputs": [
    {
     "data": {
      "text/plain": [
       "\"\\nYes, string is immutable, and when we try to assign a value to string's index, it will give error:\\n'str' object does not support item assignment\\n\""
      ]
     },
     "execution_count": 2,
     "metadata": {},
     "output_type": "execute_result"
    }
   ],
   "source": [
    "# Answer:\n",
    "'''\n",
    "Yes, string is immutable, and when we try to assign a value to string's index, it will give error:\n",
    "'str' object does not support item assignment\n",
    "'''"
   ]
  },
  {
   "cell_type": "markdown",
   "id": "2d2fbf2d",
   "metadata": {},
   "source": [
    "### Q2. Does using the += operator to concatenate strings violate Python's string immutability? Why or why not?"
   ]
  },
  {
   "cell_type": "code",
   "execution_count": 3,
   "id": "5ebed8dc",
   "metadata": {},
   "outputs": [
    {
     "data": {
      "text/plain": [
       "'No it is not. when we do += the result points to a new string.'"
      ]
     },
     "execution_count": 3,
     "metadata": {},
     "output_type": "execute_result"
    }
   ],
   "source": [
    "# Answer:\n",
    "\"\"\"No it is not. when we do += the result points to a new string.\"\"\""
   ]
  },
  {
   "cell_type": "markdown",
   "id": "4f76795a",
   "metadata": {},
   "source": [
    "### Q3. In Python, how many different ways are there to index a character?"
   ]
  },
  {
   "cell_type": "code",
   "execution_count": 5,
   "id": "e8bece8f",
   "metadata": {},
   "outputs": [
    {
     "data": {
      "text/plain": [
       "'\\nWe can access characters in a String in Two ways :\\n\\n1. Accessing Characters by Positive Index Number. \\n    Example: str[1]\\n2. Accessing Characters by Negative Index Numbe\\n    Example: str[-1]\\n'"
      ]
     },
     "execution_count": 5,
     "metadata": {},
     "output_type": "execute_result"
    }
   ],
   "source": [
    "# Answer:\n",
    "'''\n",
    "We can access characters in a String in Two ways :\n",
    "\n",
    "1. Accessing Characters by Positive Index Number. \n",
    "    Example: str[1]\n",
    "2. Accessing Characters by Negative Index Numbe\n",
    "    Example: str[-1]\n",
    "'''"
   ]
  },
  {
   "cell_type": "markdown",
   "id": "2e20a122",
   "metadata": {},
   "source": [
    "### Q4. What is the relationship between indexing and slicing?"
   ]
  },
  {
   "cell_type": "code",
   "execution_count": 6,
   "id": "d70ed750",
   "metadata": {},
   "outputs": [
    {
     "data": {
      "text/plain": [
       "'\\n1. Slicing in Python is a feature that enables accessing parts of sequence.\\n   In slicing string, we create a substring, which is essentially a string that exists within another string.\\n   We use slicing when we require a part of string and not the complete string.\\n   \\n2. We need to know index in order to perform the slicing as per our reqiurements.\\n'"
      ]
     },
     "execution_count": 6,
     "metadata": {},
     "output_type": "execute_result"
    }
   ],
   "source": [
    "# Answer:\n",
    "'''\n",
    "1. Slicing in Python is a feature that enables accessing parts of sequence.\n",
    "   In slicing string, we create a substring, which is essentially a string that exists within another string.\n",
    "   We use slicing when we require a part of string and not the complete string.\n",
    "   \n",
    "2. We need to know index in order to perform the slicing as per our reqiurements.\n",
    "'''"
   ]
  },
  {
   "cell_type": "markdown",
   "id": "19bb7b9c",
   "metadata": {},
   "source": [
    "### Q5. What is an indexed character's exact data type? What is the data form of a slicing-generated substring?"
   ]
  },
  {
   "cell_type": "code",
   "execution_count": 7,
   "id": "a82e86c5",
   "metadata": {},
   "outputs": [
    {
     "data": {
      "text/plain": [
       "\"\\nIt is of same datatype that is 'str', as that the orginal entity is. \\nData form of a slicing-generated substring is of same data type 'str'.\\n\""
      ]
     },
     "execution_count": 7,
     "metadata": {},
     "output_type": "execute_result"
    }
   ],
   "source": [
    "# Answer\n",
    "\"\"\"\n",
    "It is of same datatype that is 'str', as that the orginal entity is. \n",
    "Data form of a slicing-generated substring is of same data type 'str'.\n",
    "\"\"\""
   ]
  },
  {
   "cell_type": "markdown",
   "id": "be9d63e4",
   "metadata": {},
   "source": [
    "### Q6. What is the relationship between string and character \"types\" in Python?"
   ]
  },
  {
   "cell_type": "code",
   "execution_count": 8,
   "id": "76a1b375",
   "metadata": {},
   "outputs": [
    {
     "data": {
      "text/plain": [
       "'\\nIn Python, Strings are arrays of bytes representing Unicode characters.\\nHowever, Python does not have a character data type, a single character is simply a string with a length of 1.\\nSquare brackets can be used to access elements of the string.\\n'"
      ]
     },
     "execution_count": 8,
     "metadata": {},
     "output_type": "execute_result"
    }
   ],
   "source": [
    "# Answer\n",
    "'''\n",
    "In Python, Strings are arrays of bytes representing Unicode characters.\n",
    "However, Python does not have a character data type, a single character is simply a string with a length of 1.\n",
    "Square brackets can be used to access elements of the string.\n",
    "'''"
   ]
  },
  {
   "cell_type": "markdown",
   "id": "12f38a10",
   "metadata": {},
   "source": [
    "### Q7. Identify at least two operators and one method that allow you to combine one or more smaller strings to create a larger string."
   ]
  },
  {
   "cell_type": "code",
   "execution_count": 9,
   "id": "e108fe0b",
   "metadata": {},
   "outputs": [
    {
     "data": {
      "text/plain": [
       "'\\nTwo operator to combine strings:\\n1. +\\n2. *\\n\\n1 method: join\\n'"
      ]
     },
     "execution_count": 9,
     "metadata": {},
     "output_type": "execute_result"
    }
   ],
   "source": [
    "# Answer:\n",
    "'''\n",
    "Two operator to combine strings:\n",
    "1. +\n",
    "2. *\n",
    "\n",
    "1 method: join\n",
    "'''"
   ]
  },
  {
   "cell_type": "markdown",
   "id": "283201fd",
   "metadata": {},
   "source": [
    "### Q8. What is the benefit of first checking the target string with in or not in before using the index method to find a substring?"
   ]
  },
  {
   "cell_type": "code",
   "execution_count": null,
   "id": "041eea8d",
   "metadata": {},
   "outputs": [],
   "source": [
    "# Answer:\n",
    "'''\n",
    "This helps to reduce the program complexity and provide us optimum solution for the program.\n",
    "'''"
   ]
  },
  {
   "cell_type": "markdown",
   "id": "e147f277",
   "metadata": {},
   "source": [
    "### Q9. Which operators and built-in string methods produce simple Boolean (true/false) results?"
   ]
  },
  {
   "cell_type": "code",
   "execution_count": 10,
   "id": "6a1f2d3f",
   "metadata": {},
   "outputs": [
    {
     "data": {
      "text/plain": [
       "'\\nBelow is list of methods that can be used to return true/false:\\n\\nisalnum() Returns True if all characters in the string are alphanumeric\\n\\nisalpha() Returns True if all characters in the string are in the alphabet\\n\\nisascii() Returns True if all characters in the string are ascii characters\\n\\nisdecimal() Returns True if all characters in the string are decimals\\n\\nisdigit() Returns True if all characters in the string are digits\\n\\nisidentifier() Returns True if the string is an identifier\\n\\nislower() Returns True if all characters in the string are lower case\\n\\nisnumeric() Returns True if all characters in the string are numeric\\n\\nisprintable() Returns True if all characters in the string are printable\\n\\nisspace() Returns True if all characters in the string are whitespaces\\n\\nistitle() Returns True if the string follows the rules of a title\\n\\nisupper() Returns True if all characters in the string are upper case\\n'"
      ]
     },
     "execution_count": 10,
     "metadata": {},
     "output_type": "execute_result"
    }
   ],
   "source": [
    "# Answer:\n",
    "\"\"\"\n",
    "Below is list of methods that can be used to return true/false:\n",
    "\n",
    "isalnum() Returns True if all characters in the string are alphanumeric\n",
    "\n",
    "isalpha() Returns True if all characters in the string are in the alphabet\n",
    "\n",
    "isascii() Returns True if all characters in the string are ascii characters\n",
    "\n",
    "isdecimal() Returns True if all characters in the string are decimals\n",
    "\n",
    "isdigit() Returns True if all characters in the string are digits\n",
    "\n",
    "isidentifier() Returns True if the string is an identifier\n",
    "\n",
    "islower() Returns True if all characters in the string are lower case\n",
    "\n",
    "isnumeric() Returns True if all characters in the string are numeric\n",
    "\n",
    "isprintable() Returns True if all characters in the string are printable\n",
    "\n",
    "isspace() Returns True if all characters in the string are whitespaces\n",
    "\n",
    "istitle() Returns True if the string follows the rules of a title\n",
    "\n",
    "isupper() Returns True if all characters in the string are upper case\n",
    "\"\"\""
   ]
  }
 ],
 "metadata": {
  "kernelspec": {
   "display_name": "Python 3 (ipykernel)",
   "language": "python",
   "name": "python3"
  },
  "language_info": {
   "codemirror_mode": {
    "name": "ipython",
    "version": 3
   },
   "file_extension": ".py",
   "mimetype": "text/x-python",
   "name": "python",
   "nbconvert_exporter": "python",
   "pygments_lexer": "ipython3",
   "version": "3.9.7"
  }
 },
 "nbformat": 4,
 "nbformat_minor": 5
}
