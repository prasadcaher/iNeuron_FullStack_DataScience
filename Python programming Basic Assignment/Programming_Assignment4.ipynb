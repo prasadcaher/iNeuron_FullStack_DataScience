{
 "cells": [
  {
   "cell_type": "markdown",
   "id": "multiple-thousand",
   "metadata": {},
   "source": [
    "# Python Programming Basic Assignment - 4\n",
    "## Submitted by Prasad Aher"
   ]
  },
  {
   "cell_type": "markdown",
   "id": "nutritional-generator",
   "metadata": {},
   "source": [
    "### Question 1 : Write a Python Program to Find the Factorial of a Number?"
   ]
  },
  {
   "cell_type": "code",
   "execution_count": 3,
   "id": "imperial-wellington",
   "metadata": {},
   "outputs": [
    {
     "name": "stdout",
     "output_type": "stream",
     "text": [
      "Enter a number: 5\n",
      "Factorial of 5 is : 120\n"
     ]
    }
   ],
   "source": [
    "n = int(input(\"Enter a number: \"))\n",
    "c = 1\n",
    "for i in range (1,n+1):\n",
    "    c = i*c\n",
    "\n",
    "print(f\"Factorial of {n} is : {c}\")"
   ]
  },
  {
   "cell_type": "markdown",
   "id": "convinced-crazy",
   "metadata": {},
   "source": [
    "### Question 2 : Write a Python Program to Display the multiplication Table?"
   ]
  },
  {
   "cell_type": "code",
   "execution_count": 4,
   "id": "conventional-toolbox",
   "metadata": {},
   "outputs": [
    {
     "name": "stdout",
     "output_type": "stream",
     "text": [
      "Enter a number : 15\n",
      "Multiplication Table for 15 is : \n",
      "15 x 1 = 15\n",
      "15 x 2 = 30\n",
      "15 x 3 = 45\n",
      "15 x 4 = 60\n",
      "15 x 5 = 75\n",
      "15 x 6 = 90\n",
      "15 x 7 = 105\n",
      "15 x 8 = 120\n",
      "15 x 9 = 135\n",
      "15 x 10 = 150\n"
     ]
    }
   ],
   "source": [
    "a = int(input(\"Enter a number : \"))\n",
    "print(f\"Multiplication Table for {a} is : \")\n",
    "for i in range (1,11):\n",
    "    print(f\"{a} x {i} = {a*i}\")"
   ]
  },
  {
   "cell_type": "markdown",
   "id": "played-myanmar",
   "metadata": {},
   "source": [
    "### Question 3 : Write a Python Program to Print the Fibonacci sequence?"
   ]
  },
  {
   "cell_type": "code",
   "execution_count": 7,
   "id": "rational-algorithm",
   "metadata": {},
   "outputs": [
    {
     "name": "stdout",
     "output_type": "stream",
     "text": [
      "Enter range to view Fibonacci Sequence upto : 12\n",
      "The Fibonacci Sequence upto 12 is :\n",
      "0\n",
      "1\n",
      "1\n",
      "2\n",
      "3\n",
      "5\n",
      "8\n",
      "13\n",
      "21\n",
      "34\n",
      "55\n",
      "89\n",
      "144\n"
     ]
    }
   ],
   "source": [
    "a,b = 0 ,1\n",
    "c = [a,b]\n",
    "n = int(input(\"Enter range to view Fibonacci Sequence upto : \"))\n",
    "for i in range (1,n):\n",
    "   j = a+b\n",
    "   c.append(j)\n",
    "   a = b\n",
    "   b = j\n",
    "print(f\"The Fibonacci Sequence upto {n} is :\")\n",
    "for i in c:\n",
    "    print(i)"
   ]
  },
  {
   "cell_type": "markdown",
   "id": "blind-incident",
   "metadata": {},
   "source": [
    "### Question 4: Write a Python Program to Check Armstrong Number?"
   ]
  },
  {
   "cell_type": "code",
   "execution_count": 10,
   "id": "informal-burner",
   "metadata": {},
   "outputs": [
    {
     "name": "stdout",
     "output_type": "stream",
     "text": [
      "Enter a number: 1634\n",
      "1634 is an Armstrong Number\n"
     ]
    }
   ],
   "source": [
    "n = int(input(\"Enter a number: \"))\n",
    "t = 0 # Temp variable to store order of individual number\n",
    "r = 0\n",
    "l = len(str(n))\n",
    "\n",
    "for i in str(n):\n",
    "    t = int(i)**l\n",
    "    r += t\n",
    "if n == r:\n",
    "    print(f\"{n} is an Armstrong Number\")\n",
    "else:\n",
    "    print(f\"{n} is not an Armstrong Number\")\n",
    "    "
   ]
  },
  {
   "cell_type": "code",
   "execution_count": null,
   "id": "crude-child",
   "metadata": {},
   "outputs": [],
   "source": []
  },
  {
   "cell_type": "code",
   "execution_count": null,
   "id": "talented-rochester",
   "metadata": {},
   "outputs": [],
   "source": []
  }
 ],
 "metadata": {
  "kernelspec": {
   "display_name": "Python 3",
   "language": "python",
   "name": "python3"
  },
  "language_info": {
   "codemirror_mode": {
    "name": "ipython",
    "version": 3
   },
   "file_extension": ".py",
   "mimetype": "text/x-python",
   "name": "python",
   "nbconvert_exporter": "python",
   "pygments_lexer": "ipython3",
   "version": "3.9.2"
  }
 },
 "nbformat": 4,
 "nbformat_minor": 5
}
