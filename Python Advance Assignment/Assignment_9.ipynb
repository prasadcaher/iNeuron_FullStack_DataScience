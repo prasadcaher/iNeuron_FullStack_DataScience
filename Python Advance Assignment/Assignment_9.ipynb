{
 "cells": [
  {
   "cell_type": "markdown",
   "metadata": {},
   "source": [
    "<h1 style='text-align:center'>Python Advance : Assignment - 9</h1>\n",
    "\n",
    "<h3 style='text-align:center'> Submitted by Prasad Aher </h3>\n",
    "<br>"
   ]
  },
  {
   "cell_type": "markdown",
   "metadata": {},
   "source": [
    "### Question 1 : In Python 3.X, what are the names and functions of string object types?"
   ]
  },
  {
   "cell_type": "code",
   "execution_count": 1,
   "metadata": {},
   "outputs": [
    {
     "data": {
      "text/plain": [
       "'\\nIn 3.X, exceptions must be defined by classes (that is, a class instance object is\\nraised and caught). In addition, exception classes must be derived from the builtin\\nclass BaseException; most programs inherit from its Exception subclass, to support\\ncatchall handlers for normal kinds of exceptions.\\n'"
      ]
     },
     "execution_count": 1,
     "metadata": {},
     "output_type": "execute_result"
    }
   ],
   "source": [
    "# Answer : \n",
    "\"\"\"\n",
    "Python 3.X has three string types: \n",
    "str (for Unicode text, including ASCII), \n",
    "bytes(for binary data with absolute byte values), and\n",
    "bytearray (a mutable flavor of bytes).\n",
    "\"\"\""
   ]
  },
  {
   "cell_type": "markdown",
   "metadata": {},
   "source": [
    "### Question 2 : How do the string forms in Python 3.X vary in terms of operations?"
   ]
  },
  {
   "cell_type": "code",
   "execution_count": 1,
   "metadata": {},
   "outputs": [
    {
     "data": {
      "text/plain": [
       "'\\nPython 3.X’s string types share almost all the same operations: method calls, sequence\\noperations, and even larger tools like pattern matching work the same way.\\nOn the other hand, only str supports string formatting operations, and bytear\\nray has an additional set of operations that perform in-place changes. The str and\\nbytes types also have methods for encoding and decoding text, respectively.\\n'"
      ]
     },
     "execution_count": 1,
     "metadata": {},
     "output_type": "execute_result"
    }
   ],
   "source": [
    "# Answer : \n",
    "\"\"\"\n",
    "Python 3.X’s string types share almost all the same operations: method calls, sequence\n",
    "operations, and even larger tools like pattern matching work the same way.\n",
    "On the other hand, only str supports string formatting operations, and bytear\n",
    "ray has an additional set of operations that perform in-place changes. The str and\n",
    "bytes types also have methods for encoding and decoding text, respectively.\n",
    "\"\"\""
   ]
  },
  {
   "cell_type": "markdown",
   "metadata": {},
   "source": [
    "### Question 3 : In 3.X, how do you put non-ASCII Unicode characters in a string?"
   ]
  },
  {
   "cell_type": "code",
   "execution_count": 6,
   "metadata": {},
   "outputs": [],
   "source": [
    "# Answer: \n",
    "# Non-ASCII Unicode characters can be coded in a string with both hex (\\xNN) and\n",
    "# Unicode (\\uNNNN, \\UNNNNNNNN) escapes. On some machines, some non-ASCII characters—\n",
    "# certain Latin-1 characters, for example—can also be typed or pasted directly\n",
    "# into code, and are interpreted per the UTF-8 default or a source code encoding\n",
    "# directive comment.\n"
   ]
  },
  {
   "cell_type": "markdown",
   "metadata": {},
   "source": [
    "### Question 4 : In Python 3.X, what are the key differences between text-mode and binary-mode files?"
   ]
  },
  {
   "cell_type": "code",
   "execution_count": 7,
   "metadata": {},
   "outputs": [
    {
     "data": {
      "text/plain": [
       "'\\nIn 3.X, text-mode files assume their file content is Unicode text (even if it’s all\\nASCII) and automatically decode when reading and encode when writing. With\\nbinary-mode files, bytes are transferred to and from the file unchanged. The contents\\nof text-mode files are usually represented as str objects in your script, and\\nthe contents of binary files are represented as bytes (or bytearray) objects. Textmode\\nfiles also handle the BOM for certain encoding types and automatically\\ntranslate end-of-line sequences to and from the single \\n character on input and\\noutput unless this is explicitly disabled; binary-mode files do not perform either of\\nthese steps.\\n'"
      ]
     },
     "execution_count": 7,
     "metadata": {},
     "output_type": "execute_result"
    }
   ],
   "source": [
    "# Answer :\n",
    "\"\"\"\n",
    "In 3.X, text-mode files assume their file content is Unicode text (even if it’s all\n",
    "ASCII) and automatically decode when reading and encode when writing. With\n",
    "binary-mode files, bytes are transferred to and from the file unchanged. The contents\n",
    "of text-mode files are usually represented as str objects in your script, and\n",
    "the contents of binary files are represented as bytes (or bytearray) objects. Textmode\n",
    "files also handle the BOM for certain encoding types and automatically\n",
    "translate end-of-line sequences to and from the single \\n character on input and\n",
    "output unless this is explicitly disabled; binary-mode files do not perform either of\n",
    "these steps.\n",
    "\"\"\""
   ]
  },
  {
   "cell_type": "markdown",
   "metadata": {},
   "source": [
    "### Question 5 : How can you interpret a Unicode text file containing text encoded in a different encoding than your platform's default?"
   ]
  },
  {
   "cell_type": "code",
   "execution_count": 8,
   "metadata": {},
   "outputs": [
    {
     "data": {
      "text/plain": [
       "'\\nTo read files encoded in a different encoding than the default for your platform,\\nsimply pass the name of the file’s encoding to the open built-in in 3.X\\n(codecs.open() in 2.X); data will be decoded per the specified encoding when it is\\nread from the file. You can also read in binary mode and manually decode the bytes\\nto a string by giving an encoding name, but this involves extra work and is somewhat\\nerror-prone for multibyte characters (you may accidentally read a partial\\ncharacter sequence).\\n'"
      ]
     },
     "execution_count": 8,
     "metadata": {},
     "output_type": "execute_result"
    }
   ],
   "source": [
    "# Answer :\n",
    "\"\"\"\n",
    "To read files encoded in a different encoding than the default for your platform,\n",
    "simply pass the name of the file’s encoding to the open built-in in 3.X\n",
    "(codecs.open() in 2.X); data will be decoded per the specified encoding when it is\n",
    "read from the file. You can also read in binary mode and manually decode the bytes\n",
    "to a string by giving an encoding name, but this involves extra work and is somewhat\n",
    "error-prone for multibyte characters (you may accidentally read a partial\n",
    "character sequence).\n",
    "\"\"\""
   ]
  },
  {
   "cell_type": "markdown",
   "metadata": {},
   "source": [
    "### Question 6 : What is the best way to make a Unicode text file in a particular encoding format?"
   ]
  },
  {
   "cell_type": "code",
   "execution_count": 9,
   "metadata": {},
   "outputs": [
    {
     "data": {
      "text/plain": [
       "'\\nTo create a Unicode text file in a specific encoding format, pass the desired encoding\\nname to open in 3.X (codecs.open() in 2.X); strings will be encoded per the\\ndesired encoding when they are written to the file. You can also manually encode\\na string to bytes and write it in binary mode, but this is usually extra work.\\n'"
      ]
     },
     "execution_count": 9,
     "metadata": {},
     "output_type": "execute_result"
    }
   ],
   "source": [
    "# Answer : \n",
    "\"\"\"\n",
    "To create a Unicode text file in a specific encoding format, pass the desired encoding\n",
    "name to open in 3.X (codecs.open() in 2.X); strings will be encoded per the\n",
    "desired encoding when they are written to the file. You can also manually encode\n",
    "a string to bytes and write it in binary mode, but this is usually extra work.\n",
    "\"\"\""
   ]
  },
  {
   "cell_type": "markdown",
   "metadata": {},
   "source": [
    "### Question 7 : What qualifies ASCII text as a form of Unicode text?"
   ]
  },
  {
   "cell_type": "code",
   "execution_count": 10,
   "metadata": {},
   "outputs": [
    {
     "data": {
      "text/plain": [
       "'\\nASCII text is considered to be a kind of Unicode text, because its 7-bit range of\\nvalues is a subset of most Unicode encodings. For example, valid ASCII text is also\\nvalid Latin-1 text (Latin-1 simply assigns the remaining possible values in an 8-bit\\nbyte to additional characters) and valid UTF-8 text (UTF-8 defines a variable-byte\\nscheme for representing more characters, but ASCII characters are still represented\\nwith the same codes, in a single byte). This makes Unicode backward-compatible\\nwith the mass of ASCII text data in the world (though it also may have limited its\\noptions—self-identifying text, for instance, may have been difficult (though BOMs\\nserve much the same role).\\n'"
      ]
     },
     "execution_count": 10,
     "metadata": {},
     "output_type": "execute_result"
    }
   ],
   "source": [
    "# Answer : \n",
    "\"\"\"\n",
    "ASCII text is considered to be a kind of Unicode text, because its 7-bit range of\n",
    "values is a subset of most Unicode encodings. For example, valid ASCII text is also\n",
    "valid Latin-1 text (Latin-1 simply assigns the remaining possible values in an 8-bit\n",
    "byte to additional characters) and valid UTF-8 text (UTF-8 defines a variable-byte\n",
    "scheme for representing more characters, but ASCII characters are still represented\n",
    "with the same codes, in a single byte). This makes Unicode backward-compatible\n",
    "with the mass of ASCII text data in the world (though it also may have limited its\n",
    "options—self-identifying text, for instance, may have been difficult (though BOMs\n",
    "serve much the same role).\n",
    "\"\"\""
   ]
  },
  {
   "cell_type": "markdown",
   "metadata": {},
   "source": [
    "### Question 8 : How much of an effect does the change in string types in Python 3.X have on your code?"
   ]
  },
  {
   "cell_type": "code",
   "execution_count": 11,
   "metadata": {},
   "outputs": [
    {
     "data": {
      "text/plain": [
       "'\\nThe impact of Python 3.X’s string types change depends upon the types of strings\\nyou use. For scripts that use simple ASCII text on platforms with ASCII-compatible\\ndefault encodings, the impact is probably minor: the str string type works the same\\nin 2.X and 3.X in this case. Moreover, although string-related tools in the standard\\nlibrary such as re, struct, pickle, and xml may technically use different types in\\n3.X than in 2.X, the changes are largely irrelevant to most programs because 3.X’s\\nstr and bytes and 2.X’s str support almost identical interfaces. If you process\\nUnicode data, the toolset you need has simply moved from 2.X’s unicode and\\ncodecs.open() to 3.X’s str and open. If you deal with binary data files, you’ll need\\nto deal with content as bytes objects; since they have a similar interface to 2.X\\nstrings, though, the impact should again be minimal.\\n'"
      ]
     },
     "execution_count": 11,
     "metadata": {},
     "output_type": "execute_result"
    }
   ],
   "source": [
    "# Answer : \n",
    "\"\"\"\n",
    "The impact of Python 3.X’s string types change depends upon the types of strings\n",
    "you use. For scripts that use simple ASCII text on platforms with ASCII-compatible\n",
    "default encodings, the impact is probably minor: the str string type works the same\n",
    "in 2.X and 3.X in this case. Moreover, although string-related tools in the standard\n",
    "library such as re, struct, pickle, and xml may technically use different types in\n",
    "3.X than in 2.X, the changes are largely irrelevant to most programs because 3.X’s\n",
    "str and bytes and 2.X’s str support almost identical interfaces. If you process\n",
    "Unicode data, the toolset you need has simply moved from 2.X’s unicode and\n",
    "codecs.open() to 3.X’s str and open. If you deal with binary data files, you’ll need\n",
    "to deal with content as bytes objects; since they have a similar interface to 2.X\n",
    "strings, though, the impact should again be minimal.\n",
    "\"\"\""
   ]
  }
 ],
 "metadata": {
  "kernelspec": {
   "display_name": "Python 3",
   "language": "python",
   "name": "python3"
  },
  "language_info": {
   "codemirror_mode": {
    "name": "ipython",
    "version": 3
   },
   "file_extension": ".py",
   "mimetype": "text/x-python",
   "name": "python",
   "nbconvert_exporter": "python",
   "pygments_lexer": "ipython3",
   "version": "3.8.5"
  }
 },
 "nbformat": 4,
 "nbformat_minor": 4
}
