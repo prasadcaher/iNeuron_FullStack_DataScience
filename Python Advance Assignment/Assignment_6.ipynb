{
 "cells": [
  {
   "cell_type": "markdown",
   "metadata": {},
   "source": [
    "<h1 style='text-align:center'>Python Advance : Assignment - 6</h1>\n",
    "\n",
    "<h3 style='text-align:center'> Submitted by Prasad Aher </h3>\n",
    "<br>"
   ]
  },
  {
   "cell_type": "markdown",
   "metadata": {},
   "source": [
    "### Question 1 : Describe three applications for exception processing."
   ]
  },
  {
   "cell_type": "code",
   "execution_count": 1,
   "metadata": {},
   "outputs": [
    {
     "data": {
      "text/plain": [
       "'\\nException processing is useful for;\\n- Error handling,\\n- Termination actions, \\nand \\n- Event notification. \\n\\n'"
      ]
     },
     "execution_count": 1,
     "metadata": {},
     "output_type": "execute_result"
    }
   ],
   "source": [
    "# Answer : \n",
    "\"\"\"\n",
    "Exception processing is useful for;\n",
    "- Error handling,\n",
    "- Termination actions, \n",
    "and \n",
    "- Event notification. \n",
    "\n",
    "\"\"\""
   ]
  },
  {
   "cell_type": "markdown",
   "metadata": {},
   "source": [
    "### Question 2 : What happens if you don't do something extra to treat an exception?"
   ]
  },
  {
   "cell_type": "code",
   "execution_count": 2,
   "metadata": {},
   "outputs": [
    {
     "data": {
      "text/plain": [
       "'\\nAny uncaught exception eventually filters up to the default exception handler\\nPython provides at the top of your program. This handler prints the familiar error\\nmessage and shuts down your program.\\n'"
      ]
     },
     "execution_count": 2,
     "metadata": {},
     "output_type": "execute_result"
    }
   ],
   "source": [
    "# Answer : \n",
    "\"\"\"\n",
    "Any uncaught exception eventually filters up to the default exception handler\n",
    "Python provides at the top of your program. This handler prints the familiar error\n",
    "message and shuts down your program.\n",
    "\"\"\""
   ]
  },
  {
   "cell_type": "markdown",
   "metadata": {},
   "source": [
    "### Question 3 : What are your options for recovering from an exception in your script?"
   ]
  },
  {
   "cell_type": "code",
   "execution_count": 3,
   "metadata": {},
   "outputs": [
    {
     "data": {
      "text/plain": [
       "'\\nBy using code inside try/except statements to catch and recover from exceptions that are raised within its nested\\ncode block. \\nOnce an exception is caught, the exception is terminated and your program continues after the try.\\n'"
      ]
     },
     "execution_count": 3,
     "metadata": {},
     "output_type": "execute_result"
    }
   ],
   "source": [
    "# Answer: \n",
    "\"\"\"\n",
    "By using code inside try/except statements to catch and recover from exceptions that are raised within its nested\n",
    "code block. \n",
    "Once an exception is caught, the exception is terminated and your program continues after the try.\n",
    "\"\"\""
   ]
  },
  {
   "cell_type": "markdown",
   "metadata": {},
   "source": [
    "### Question 4 : Describe two methods for triggering exceptions in your script."
   ]
  },
  {
   "cell_type": "code",
   "execution_count": 4,
   "metadata": {},
   "outputs": [
    {
     "data": {
      "text/plain": [
       "'\\nRaise and Assert methods:\\nThe raise and assert statements can be used to trigger an exception, exactly as if\\nit had been raised by Python itself. \\n\\n'"
      ]
     },
     "execution_count": 4,
     "metadata": {},
     "output_type": "execute_result"
    }
   ],
   "source": [
    "# Answer :\n",
    "\"\"\"\n",
    "Raise and Assert methods:\n",
    "The raise and assert statements can be used to trigger an exception, exactly as if\n",
    "it had been raised by Python itself. \n",
    "\n",
    "\"\"\""
   ]
  },
  {
   "cell_type": "markdown",
   "metadata": {},
   "source": [
    "### Question 5 : Identify two methods for specifying actions to be executed at termination time, regardless of whether or not an exception exists."
   ]
  },
  {
   "cell_type": "code",
   "execution_count": 5,
   "metadata": {},
   "outputs": [
    {
     "data": {
      "text/plain": [
       "'\\nThe try/finally statement can be used to ensure actions are run after a block of\\ncode exits, regardless of whether the block raises an exception or not. The with/\\nas statement can also be used to ensure termination actions are run, but only when\\nprocessing object types that support it.\\n'"
      ]
     },
     "execution_count": 5,
     "metadata": {},
     "output_type": "execute_result"
    }
   ],
   "source": [
    "# Answer :\n",
    "\"\"\"\n",
    "The try/finally statement can be used to ensure actions are run after a block of\n",
    "code exits, regardless of whether the block raises an exception or not. The with/\n",
    "as statement can also be used to ensure termination actions are run, but only when\n",
    "processing object types that support it.\n",
    "\"\"\""
   ]
  }
 ],
 "metadata": {
  "kernelspec": {
   "display_name": "Python 3",
   "language": "python",
   "name": "python3"
  },
  "language_info": {
   "codemirror_mode": {
    "name": "ipython",
    "version": 3
   },
   "file_extension": ".py",
   "mimetype": "text/x-python",
   "name": "python",
   "nbconvert_exporter": "python",
   "pygments_lexer": "ipython3",
   "version": "3.8.5"
  }
 },
 "nbformat": 4,
 "nbformat_minor": 4
}
