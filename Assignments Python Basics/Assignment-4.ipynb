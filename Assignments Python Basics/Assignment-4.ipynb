{
 "cells": [
  {
   "cell_type": "markdown",
   "id": "large-characteristic",
   "metadata": {},
   "source": [
    "# Python Basics : Assignment - 4"
   ]
  },
  {
   "cell_type": "markdown",
   "id": "chronic-beast",
   "metadata": {},
   "source": [
    "## Submitted by Prasad Aher"
   ]
  },
  {
   "cell_type": "markdown",
   "id": "overall-surgery",
   "metadata": {},
   "source": [
    "### Question 1 : What exactly is [ ]?"
   ]
  },
  {
   "cell_type": "code",
   "execution_count": 1,
   "id": "applied-philosophy",
   "metadata": {},
   "outputs": [
    {
     "data": {
      "text/plain": [
       "'\\n[] is paranthesis to represent a List. \\n\\n\\n[] is an empty list.\\n\\n'"
      ]
     },
     "execution_count": 1,
     "metadata": {},
     "output_type": "execute_result"
    }
   ],
   "source": [
    "# Answer:\n",
    "'''\n",
    "[] is paranthesis to represent a List. \n",
    "\n",
    "\n",
    "[] is an empty list.\n",
    "\n",
    "'''"
   ]
  },
  {
   "cell_type": "markdown",
   "id": "composite-backup",
   "metadata": {},
   "source": [
    "### Question 2: In a list of values stored in a variable called spam, how would you assign the value 'hello' as the third value? (Assume [2, 4, 6, 8, 10] are in spam.)"
   ]
  },
  {
   "cell_type": "code",
   "execution_count": 2,
   "id": "incident-beijing",
   "metadata": {},
   "outputs": [
    {
     "name": "stdout",
     "output_type": "stream",
     "text": [
      "[2, 4, 'hello', 8, 10]\n"
     ]
    }
   ],
   "source": [
    "spam = [2,4,6,8,10]\n",
    "spam[2] = 'hello'\n",
    "print(spam)"
   ]
  },
  {
   "cell_type": "markdown",
   "id": "unauthorized-centre",
   "metadata": {},
   "source": [
    "## Let's pretend the spam includes the list ['a', 'b', 'c', 'd'] for the next three queries.\n",
    "\n",
    "\n",
    "### Question 3: What is the value of spam[int(int('3' * 2) / 11)]?"
   ]
  },
  {
   "cell_type": "code",
   "execution_count": 3,
   "id": "selected-sandwich",
   "metadata": {},
   "outputs": [
    {
     "data": {
      "text/plain": [
       "'d'"
      ]
     },
     "execution_count": 3,
     "metadata": {},
     "output_type": "execute_result"
    }
   ],
   "source": [
    "spam =  ['a', 'b', 'c', 'd']\n",
    "spam[int(int('3' * 2) / 11)]\n",
    "\n",
    "# Answer : 'd'"
   ]
  },
  {
   "cell_type": "markdown",
   "id": "boolean-steal",
   "metadata": {},
   "source": [
    "### Question 4: What is the value of spam[-1]?"
   ]
  },
  {
   "cell_type": "code",
   "execution_count": 4,
   "id": "falling-explanation",
   "metadata": {},
   "outputs": [
    {
     "data": {
      "text/plain": [
       "'d'"
      ]
     },
     "execution_count": 4,
     "metadata": {},
     "output_type": "execute_result"
    }
   ],
   "source": [
    "spam[-1]\n",
    "\n",
    "# Answer: 'd'"
   ]
  },
  {
   "cell_type": "markdown",
   "id": "still-history",
   "metadata": {},
   "source": [
    "### Question 5 : What is the value of spam[:2]?"
   ]
  },
  {
   "cell_type": "code",
   "execution_count": 5,
   "id": "blank-turtle",
   "metadata": {},
   "outputs": [
    {
     "data": {
      "text/plain": [
       "['a', 'b']"
      ]
     },
     "execution_count": 5,
     "metadata": {},
     "output_type": "execute_result"
    }
   ],
   "source": [
    "spam[:2]\n",
    "# Answer: ['a', 'b']"
   ]
  },
  {
   "cell_type": "markdown",
   "id": "cardiovascular-trailer",
   "metadata": {},
   "source": [
    "## Let's pretend bacon has the list [3.14, 'cat', 11, 'cat,' True] for the next three questions.\n",
    "### Question 6: What is the value of bacon.index('cat')?"
   ]
  },
  {
   "cell_type": "code",
   "execution_count": 6,
   "id": "southern-stranger",
   "metadata": {},
   "outputs": [
    {
     "data": {
      "text/plain": [
       "1"
      ]
     },
     "execution_count": 6,
     "metadata": {},
     "output_type": "execute_result"
    }
   ],
   "source": [
    "bacon = [3.14, 'cat', 11, 'cat', True]\n",
    "\n",
    "bacon.index('cat')\n",
    "\n",
    "# Answer: 1"
   ]
  },
  {
   "cell_type": "markdown",
   "id": "numeric-integer",
   "metadata": {},
   "source": [
    "### Question 7: How does bacon.append(99) change the look of the list value in bacon?"
   ]
  },
  {
   "cell_type": "code",
   "execution_count": 7,
   "id": "absent-effect",
   "metadata": {},
   "outputs": [
    {
     "name": "stdout",
     "output_type": "stream",
     "text": [
      "[3.14, 'cat', 11, 'cat', True, 99]\n"
     ]
    }
   ],
   "source": [
    "bacon.append(99)\n",
    "print(bacon)\n",
    "# Answer : [3.14, 'cat', 11, 'cat', True, 99]"
   ]
  },
  {
   "cell_type": "markdown",
   "id": "false-modem",
   "metadata": {},
   "source": [
    "### Questing 8: How does bacon.remove('cat') change the look of the list in bacon?"
   ]
  },
  {
   "cell_type": "code",
   "execution_count": 8,
   "id": "civil-violation",
   "metadata": {},
   "outputs": [
    {
     "name": "stdout",
     "output_type": "stream",
     "text": [
      "[3.14, 11, 'cat', True, 99]\n"
     ]
    }
   ],
   "source": [
    "bacon.remove('cat')\n",
    "print(bacon)"
   ]
  },
  {
   "cell_type": "markdown",
   "id": "boring-administrator",
   "metadata": {},
   "source": [
    "### Question 9 : What are the list concatenation and list replication operators?"
   ]
  },
  {
   "cell_type": "code",
   "execution_count": 9,
   "id": "worldwide-aviation",
   "metadata": {},
   "outputs": [
    {
     "data": {
      "text/plain": [
       "\"\\nFor concatenation of list '+' operator is used\\n\\nFor replication of list '*' operator is used\\n\""
      ]
     },
     "execution_count": 9,
     "metadata": {},
     "output_type": "execute_result"
    }
   ],
   "source": [
    "# Answer : \n",
    "\n",
    "'''\n",
    "For concatenation of list '+' operator is used\n",
    "\n",
    "For replication of list '*' operator is used\n",
    "'''"
   ]
  },
  {
   "cell_type": "markdown",
   "id": "filled-sarah",
   "metadata": {},
   "source": [
    "### Question 10: What is difference between the list methods append() and insert()?"
   ]
  },
  {
   "cell_type": "code",
   "execution_count": 10,
   "id": "dimensional-universe",
   "metadata": {},
   "outputs": [
    {
     "data": {
      "text/plain": [
       "'\\nappend() will add value to the end of list.\\n\\ninsert() will add value to specified index.\\n'"
      ]
     },
     "execution_count": 10,
     "metadata": {},
     "output_type": "execute_result"
    }
   ],
   "source": [
    "# Answer:\n",
    "'''\n",
    "append() will add value to the end of list.\n",
    "\n",
    "insert() will add value to specified index.\n",
    "'''"
   ]
  },
  {
   "cell_type": "markdown",
   "id": "least-editing",
   "metadata": {},
   "source": [
    "### Question 11:  What are the two methods for removing items from a list?"
   ]
  },
  {
   "cell_type": "code",
   "execution_count": 11,
   "id": "underlying-place",
   "metadata": {},
   "outputs": [
    {
     "data": {
      "text/plain": [
       "'\\ndel() and remove()\\n'"
      ]
     },
     "execution_count": 11,
     "metadata": {},
     "output_type": "execute_result"
    }
   ],
   "source": [
    "# Answer: \n",
    "'''\n",
    "del() and remove()\n",
    "'''"
   ]
  },
  {
   "cell_type": "markdown",
   "id": "therapeutic-variance",
   "metadata": {},
   "source": [
    "### Question 12: Describe how list values and string values are identical."
   ]
  },
  {
   "cell_type": "code",
   "execution_count": 12,
   "id": "superb-transformation",
   "metadata": {},
   "outputs": [
    {
     "data": {
      "text/plain": [
       "'\\nBoth lists and string values can be sliced, concatenated, replicated, they can be called as per their index.\\n'"
      ]
     },
     "execution_count": 12,
     "metadata": {},
     "output_type": "execute_result"
    }
   ],
   "source": [
    "# Answer:\n",
    "'''\n",
    "Both lists and string values can be sliced, concatenated, replicated, they can be called as per their index.\n",
    "'''"
   ]
  },
  {
   "cell_type": "markdown",
   "id": "orange-ottawa",
   "metadata": {},
   "source": [
    "### Question 13: What's the difference between tuples and lists?"
   ]
  },
  {
   "cell_type": "code",
   "execution_count": 13,
   "id": "lasting-victor",
   "metadata": {},
   "outputs": [
    {
     "data": {
      "text/plain": [
       "'\\nTuples are immutable where you cannot change its values and are represented in () paranthesis.\\nWhereas,\\nLists are mutable unlike Tuples, you can change its values, and are represented in [] paranthesis.\\n'"
      ]
     },
     "execution_count": 13,
     "metadata": {},
     "output_type": "execute_result"
    }
   ],
   "source": [
    "# Answer:\n",
    "'''\n",
    "Tuples are immutable where you cannot change its values and are represented in () paranthesis.\n",
    "Whereas,\n",
    "Lists are mutable unlike Tuples, you can change its values, and are represented in [] paranthesis.\n",
    "'''"
   ]
  },
  {
   "cell_type": "markdown",
   "id": "magnetic-handling",
   "metadata": {},
   "source": [
    "### Question 14: How do you type a tuple value that only contains the integer 42?"
   ]
  },
  {
   "cell_type": "code",
   "execution_count": 14,
   "id": "accepted-arnold",
   "metadata": {},
   "outputs": [
    {
     "data": {
      "text/plain": [
       "tuple"
      ]
     },
     "execution_count": 14,
     "metadata": {},
     "output_type": "execute_result"
    }
   ],
   "source": [
    "t = (42,)\n",
    "type(t)"
   ]
  },
  {
   "cell_type": "markdown",
   "id": "level-particle",
   "metadata": {},
   "source": [
    "### Question 15: How do you get a list value's tuple form? How do you get a tuple value's list form?"
   ]
  },
  {
   "cell_type": "code",
   "execution_count": 15,
   "id": "saving-crossing",
   "metadata": {},
   "outputs": [
    {
     "name": "stdout",
     "output_type": "stream",
     "text": [
      "(1, 2, 3, 4)\n",
      "[5, 6, 7, 8]\n"
     ]
    }
   ],
   "source": [
    "l1 = [1,2,3,4]\n",
    "t1 = (5,6,7,8)\n",
    "print(tuple(l1))\n",
    "print(list(t1))"
   ]
  },
  {
   "cell_type": "markdown",
   "id": "devoted-workshop",
   "metadata": {},
   "source": [
    "### Question 16: Variables that \"contain\" list values are not necessarily lists themselves. Instead, what do they contain?"
   ]
  },
  {
   "cell_type": "code",
   "execution_count": 16,
   "id": "delayed-integral",
   "metadata": {},
   "outputs": [],
   "source": [
    "# Answer: They may contain reference to list or index of list values."
   ]
  },
  {
   "cell_type": "markdown",
   "id": "matched-offense",
   "metadata": {},
   "source": [
    "### Question 17 : How do you distinguish between copy.copy() and copy.deepcopy()?"
   ]
  },
  {
   "cell_type": "code",
   "execution_count": 17,
   "id": "raising-shore",
   "metadata": {},
   "outputs": [
    {
     "data": {
      "text/plain": [
       "'\\ncopy.copy() will do shallow copy\\nand\\ncopy.deepcopy() will do deep copy\\n'"
      ]
     },
     "execution_count": 17,
     "metadata": {},
     "output_type": "execute_result"
    }
   ],
   "source": [
    "# Answer: \n",
    "'''\n",
    "copy.copy() will do shallow copy\n",
    "and\n",
    "copy.deepcopy() will do deep copy\n",
    "'''"
   ]
  }
 ],
 "metadata": {
  "kernelspec": {
   "display_name": "Python 3",
   "language": "python",
   "name": "python3"
  },
  "language_info": {
   "codemirror_mode": {
    "name": "ipython",
    "version": 3
   },
   "file_extension": ".py",
   "mimetype": "text/x-python",
   "name": "python",
   "nbconvert_exporter": "python",
   "pygments_lexer": "ipython3",
   "version": "3.9.2"
  }
 },
 "nbformat": 4,
 "nbformat_minor": 5
}
