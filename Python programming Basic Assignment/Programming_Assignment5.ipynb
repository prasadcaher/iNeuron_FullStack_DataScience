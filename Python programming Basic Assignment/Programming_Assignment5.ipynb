{
 "cells": [
  {
   "cell_type": "markdown",
   "id": "conventional-mentor",
   "metadata": {},
   "source": [
    "### Question 1: Write a Python Program to Find LCM?"
   ]
  },
  {
   "cell_type": "code",
   "execution_count": 1,
   "id": "korean-brooks",
   "metadata": {},
   "outputs": [
    {
     "name": "stdout",
     "output_type": "stream",
     "text": [
      "Enter first number: 125\n",
      "Enter second number: 25\n",
      "LCM of 125 and 25 is : 125\n"
     ]
    }
   ],
   "source": [
    "a = int(input(\"Enter first number: \"))\n",
    "b = int(input(\"Enter second number: \"))\n",
    "\n",
    "if a>b:\n",
    "    larger = a\n",
    "else:\n",
    "    larger = b\n",
    "val = larger\n",
    "\n",
    "while True:\n",
    "    if larger%a == 0 and larger%b == 0:\n",
    "        print(f\"LCM of {a} and {b} is : {larger}\")\n",
    "        break\n",
    "    else:\n",
    "        larger += val"
   ]
  },
  {
   "cell_type": "markdown",
   "id": "conceptual-subsection",
   "metadata": {},
   "source": [
    "### Question 2: Write a Python Program to Find HCF?"
   ]
  },
  {
   "cell_type": "code",
   "execution_count": 2,
   "id": "occupied-launch",
   "metadata": {},
   "outputs": [
    {
     "name": "stdout",
     "output_type": "stream",
     "text": [
      "Enter first number: 1634\n",
      "Enter second number: 854\n",
      "The HCF of 1634 and 854 is : 2\n"
     ]
    }
   ],
   "source": [
    "a = int(input(\"Enter first number: \"))\n",
    "b = int(input(\"Enter second number: \"))\n",
    "small = min(a,b)\n",
    "for i in range(1, small+1):\n",
    "    if (a%i) == 0 and (b%i) == 0:\n",
    "        HCF = i\n",
    "print(f\"The HCF of {a} and {b} is : {HCF}\")"
   ]
  },
  {
   "cell_type": "markdown",
   "id": "satellite-inclusion",
   "metadata": {},
   "source": [
    "### Question 3:\tWrite a Python Program to Convert Decimal to Binary, Octal and Hexadecimal?"
   ]
  },
  {
   "cell_type": "code",
   "execution_count": 3,
   "id": "medium-lewis",
   "metadata": {},
   "outputs": [
    {
     "name": "stdout",
     "output_type": "stream",
     "text": [
      "Enter Number: 150\n",
      "\n",
      "num in Binary : 0b10010110\n",
      "num in Octal : 0o226\n",
      "num in Hexadecimal : 0x96\n",
      "\n"
     ]
    }
   ],
   "source": [
    "num = int(input(\"Enter Number: \"))\n",
    "\n",
    "print(f\"\"\"\n",
    "num in Binary : {bin(num)}\n",
    "num in Octal : {oct(num)}\n",
    "num in Hexadecimal : {hex(num)}\n",
    "\"\"\")"
   ]
  },
  {
   "cell_type": "markdown",
   "id": "horizontal-vessel",
   "metadata": {},
   "source": [
    "### Question 4 : Write a Python Program To Find ASCII value of a character?"
   ]
  },
  {
   "cell_type": "code",
   "execution_count": 5,
   "id": "offensive-anaheim",
   "metadata": {},
   "outputs": [
    {
     "name": "stdout",
     "output_type": "stream",
     "text": [
      "Enter Character to get ASCII Value : A\n",
      "The ASCII value of character A is : 65\n"
     ]
    }
   ],
   "source": [
    "ch = input(\"Enter Character to get ASCII Value : \")\n",
    "\n",
    "print(f\"The ASCII value of character {ch} is : {ord(ch)}\")"
   ]
  },
  {
   "cell_type": "markdown",
   "id": "korean-communications",
   "metadata": {},
   "source": [
    "### Question 5 : Write a Python Program to Make a Simple Calculator with 4 basic mathematical operations?"
   ]
  },
  {
   "cell_type": "code",
   "execution_count": 23,
   "id": "geological-edgar",
   "metadata": {},
   "outputs": [
    {
     "name": "stdout",
     "output_type": "stream",
     "text": [
      "Please select operation :\n",
      "Addition : '+'\n",
      "Substraction : '-' \n",
      "Multiplication : 'x'\n",
      "Division : '/'\n",
      "Quit : 'q'\n",
      "\n",
      "Your Selection : \n",
      "+\n",
      "Enter first number: 2\n",
      "Enter second number: 2\n",
      "Answer:  4\n",
      "\n",
      "\n",
      "Please select operation :\n",
      "Addition : '+'\n",
      "Substraction : '-' \n",
      "Multiplication : 'x'\n",
      "Division : '/'\n",
      "Quit : 'q'\n",
      "\n",
      "Your Selection : \n",
      "-\n",
      "Enter first number: 5\n",
      "Enter second number: 2\n",
      "Answer:  3\n",
      "\n",
      "\n",
      "Please select operation :\n",
      "Addition : '+'\n",
      "Substraction : '-' \n",
      "Multiplication : 'x'\n",
      "Division : '/'\n",
      "Quit : 'q'\n",
      "\n",
      "Your Selection : \n",
      "x\n",
      "Enter first number: 2\n",
      "Enter second number: 2\n",
      "Answer:  4\n",
      "\n",
      "\n",
      "Please select operation :\n",
      "Addition : '+'\n",
      "Substraction : '-' \n",
      "Multiplication : 'x'\n",
      "Division : '/'\n",
      "Quit : 'q'\n",
      "\n",
      "Your Selection : \n",
      "/\n",
      "Enter first number: 10\n",
      "Enter second number: 5\n",
      "Answer:  2\n",
      "\n",
      "\n",
      "Please select operation :\n",
      "Addition : '+'\n",
      "Substraction : '-' \n",
      "Multiplication : 'x'\n",
      "Division : '/'\n",
      "Quit : 'q'\n",
      "\n",
      "Your Selection : \n",
      "a\n",
      "Enter first number: 1\n",
      "Enter second number: 2\n",
      "Unknown command. Please try again.\n",
      "Please select operation :\n",
      "Addition : '+'\n",
      "Substraction : '-' \n",
      "Multiplication : 'x'\n",
      "Division : '/'\n",
      "Quit : 'q'\n",
      "\n",
      "Your Selection : \n",
      "+\n",
      "Enter first number: s\n",
      "\n",
      "Enter a valid input\n",
      "Please select operation :\n",
      "Addition : '+'\n",
      "Substraction : '-' \n",
      "Multiplication : 'x'\n",
      "Division : '/'\n",
      "Quit : 'q'\n",
      "\n",
      "Your Selection : \n",
      "+\n",
      "Enter first number: 5\n",
      "Enter second number: /\n",
      "\n",
      "Enter a valid input\n",
      "Please select operation :\n",
      "Addition : '+'\n",
      "Substraction : '-' \n",
      "Multiplication : 'x'\n",
      "Division : '/'\n",
      "Quit : 'q'\n",
      "\n",
      "Your Selection : \n",
      "/\n",
      "Enter first number: 5\n",
      "Enter second number: 0\n",
      "\n",
      "Number cannot be divided by Zero.\n",
      "Answer:  None\n",
      "\n",
      "\n",
      "Please select operation :\n",
      "Addition : '+'\n",
      "Substraction : '-' \n",
      "Multiplication : 'x'\n",
      "Division : '/'\n",
      "Quit : 'q'\n",
      "\n",
      "Your Selection : \n",
      "q\n"
     ]
    }
   ],
   "source": [
    "######\n",
    "## Creating functions for 4 basics mathematical operations\n",
    "######\n",
    "\n",
    "def addition(a , b):\n",
    "    c = a+b\n",
    "    if c%1 == 0:\n",
    "        return int(c)\n",
    "    else:\n",
    "        return c\n",
    "\n",
    "\n",
    "def subtraction(a,b):\n",
    "    c = a-b\n",
    "    if c%1 == 0:\n",
    "        return int(c)\n",
    "    else:\n",
    "        return c\n",
    "\n",
    "\n",
    "def multiplication(a,b):\n",
    "    c = a*b\n",
    "    if c%1 == 0:\n",
    "        return int(c)\n",
    "    else:\n",
    "        return c\n",
    "\n",
    "\n",
    "def division(a,b):\n",
    "    try:\n",
    "        c = a/b\n",
    "        if c%1 == 0:\n",
    "            return int(c)\n",
    "        else:\n",
    "            return c\n",
    "    except ZeroDivisionError as e:\n",
    "        print(\"\\nNumber cannot be divided by Zero.\")\n",
    "\n",
    "    \n",
    "\n",
    "######\n",
    "## Creating an interactive User Menu to use Calculator:\n",
    "######\n",
    "\n",
    "USER_MENU = '''Please select operation :\n",
    "Addition : '+'\n",
    "Substraction : '-' \n",
    "Multiplication : 'x'\n",
    "Division : '/'\n",
    "Quit : 'q'\n",
    "\n",
    "Your Selection : \n",
    "'''\n",
    "\n",
    "user_options = {\n",
    "    '+' : addition,\n",
    "    '-' : subtraction,\n",
    "    'x' : multiplication,\n",
    "    '/' : division\n",
    "}\n",
    "\n",
    "\n",
    "def menu():\n",
    "    selection = input(USER_MENU).lower()\n",
    "    while selection != 'q':\n",
    "       \n",
    "        try:\n",
    "            a = float(input(\"Enter first number: \"))\n",
    "            b = float(input(\"Enter second number: \"))\n",
    "            if type(a) == float and type(b) == float:\n",
    "                \n",
    "                if selection in user_options:\n",
    "                    selected_function = user_options[selection]\n",
    "                    print(\"\\rAnswer: \", selected_function(a,b))\n",
    "                    print(\"\\n\")\n",
    "                else:\n",
    "                    print('Unknown command. Please try again.')\n",
    "        except ValueError as e:\n",
    "            print(\"\\nEnter a valid input\")\n",
    "            \n",
    "        selection = input(USER_MENU)\n",
    "\n",
    "\n",
    "######\n",
    "## Running the Calculator by calling the menu function.\n",
    "######\n",
    "        \n",
    "menu()"
   ]
  },
  {
   "cell_type": "code",
   "execution_count": null,
   "id": "second-uncertainty",
   "metadata": {},
   "outputs": [],
   "source": []
  }
 ],
 "metadata": {
  "kernelspec": {
   "display_name": "Python 3",
   "language": "python",
   "name": "python3"
  },
  "language_info": {
   "codemirror_mode": {
    "name": "ipython",
    "version": 3
   },
   "file_extension": ".py",
   "mimetype": "text/x-python",
   "name": "python",
   "nbconvert_exporter": "python",
   "pygments_lexer": "ipython3",
   "version": "3.9.2"
  }
 },
 "nbformat": 4,
 "nbformat_minor": 5
}
