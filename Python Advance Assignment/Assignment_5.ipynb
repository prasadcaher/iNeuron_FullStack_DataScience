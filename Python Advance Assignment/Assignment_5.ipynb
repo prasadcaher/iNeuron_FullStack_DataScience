{
 "cells": [
  {
   "cell_type": "markdown",
   "metadata": {},
   "source": [
    "<h1 style='text-align:center'>Python Advance : Assignment - 5</h1>\n",
    "\n",
    "<h3 style='text-align:center'> Submitted by Prasad Aher </h3>\n",
    "<br>"
   ]
  },
  {
   "cell_type": "markdown",
   "metadata": {},
   "source": [
    "### Question 1 : What is the meaning of multiple inheritance?"
   ]
  },
  {
   "cell_type": "code",
   "execution_count": 6,
   "metadata": {},
   "outputs": [
    {
     "data": {
      "text/plain": [
       "'\\nMultiple inheritance occurs when a class inherits from more than one superclass;\\nit’s useful for mixing together multiple packages of class-based code. The left to right\\norder in class statement headers determines the general order of attribute\\nsearches.\\n'"
      ]
     },
     "execution_count": 6,
     "metadata": {},
     "output_type": "execute_result"
    }
   ],
   "source": [
    "# Answer : \n",
    "\"\"\"\n",
    "Multiple inheritance occurs when a class inherits from more than one superclass;\n",
    "it’s useful for mixing together multiple packages of class-based code. The left to right\n",
    "order in class statement headers determines the general order of attribute\n",
    "searches.\n",
    "\"\"\""
   ]
  },
  {
   "cell_type": "markdown",
   "metadata": {},
   "source": [
    "### Question 2 : What is the concept of delegation?"
   ]
  },
  {
   "cell_type": "code",
   "execution_count": 7,
   "metadata": {},
   "outputs": [
    {
     "data": {
      "text/plain": [
       "'\\nDelegation involves wrapping an object in a proxy class, which adds extra behavior\\nand passes other operations to the wrapped object. The proxy retains the interface\\nof the wrapped object\\n'"
      ]
     },
     "execution_count": 7,
     "metadata": {},
     "output_type": "execute_result"
    }
   ],
   "source": [
    "# Answer : \n",
    "\"\"\"\n",
    "Delegation involves wrapping an object in a proxy class, which adds extra behavior\n",
    "and passes other operations to the wrapped object. The proxy retains the interface\n",
    "of the wrapped object\n",
    "\"\"\""
   ]
  },
  {
   "cell_type": "markdown",
   "metadata": {},
   "source": [
    "### Question 3 : What is the concept of composition?"
   ]
  },
  {
   "cell_type": "code",
   "execution_count": 8,
   "metadata": {},
   "outputs": [
    {
     "data": {
      "text/plain": [
       "'\\nComposition is a technique whereby a controller class embeds and directs a number\\nof objects, and provides an interface all its own; it’s a way to build up larger\\nstructures with classes.\\n'"
      ]
     },
     "execution_count": 8,
     "metadata": {},
     "output_type": "execute_result"
    }
   ],
   "source": [
    "# Answer: \n",
    "\"\"\"\n",
    "Composition is a technique whereby a controller class embeds and directs a number\n",
    "of objects, and provides an interface all its own; it’s a way to build up larger\n",
    "structures with classes.\n",
    "\"\"\""
   ]
  },
  {
   "cell_type": "markdown",
   "metadata": {},
   "source": [
    "### Question 4 : What are bound methods and how do we use them?"
   ]
  },
  {
   "cell_type": "code",
   "execution_count": 9,
   "metadata": {},
   "outputs": [
    {
     "data": {
      "text/plain": [
       "'\\nBound methods combine an instance and a method function; you can call them\\nwithout passing in an instance object explicitly because the original instance is still\\navailable.\\n'"
      ]
     },
     "execution_count": 9,
     "metadata": {},
     "output_type": "execute_result"
    }
   ],
   "source": [
    "# Answer :\n",
    "\"\"\"\n",
    "Bound methods combine an instance and a method function; you can call them\n",
    "without passing in an instance object explicitly because the original instance is still\n",
    "available.\n",
    "\"\"\""
   ]
  },
  {
   "cell_type": "markdown",
   "metadata": {},
   "source": [
    "### Question 5 : What is the purpose of pseudoprivate attributes?"
   ]
  },
  {
   "cell_type": "code",
   "execution_count": 10,
   "metadata": {},
   "outputs": [
    {
     "data": {
      "text/plain": [
       "'\\nPseudoprivate attributes (whose names begin but do not end with two leading\\nunderscores: __X) are used to localize names to the enclosing class. This includes\\nboth class attributes like methods defined inside the class, and self instance attributes\\nassigned inside the class’s methods. Such names are expanded to include\\nthe class name, which makes them generally unique.\\n'"
      ]
     },
     "execution_count": 10,
     "metadata": {},
     "output_type": "execute_result"
    }
   ],
   "source": [
    "# Answer :\n",
    "\"\"\"\n",
    "Pseudoprivate attributes (whose names begin but do not end with two leading\n",
    "underscores: __X) are used to localize names to the enclosing class. This includes\n",
    "both class attributes like methods defined inside the class, and self instance attributes\n",
    "assigned inside the class’s methods. Such names are expanded to include\n",
    "the class name, which makes them generally unique.\n",
    "\"\"\""
   ]
  }
 ],
 "metadata": {
  "kernelspec": {
   "display_name": "Python 3",
   "language": "python",
   "name": "python3"
  },
  "language_info": {
   "codemirror_mode": {
    "name": "ipython",
    "version": 3
   },
   "file_extension": ".py",
   "mimetype": "text/x-python",
   "name": "python",
   "nbconvert_exporter": "python",
   "pygments_lexer": "ipython3",
   "version": "3.8.5"
  }
 },
 "nbformat": 4,
 "nbformat_minor": 4
}
